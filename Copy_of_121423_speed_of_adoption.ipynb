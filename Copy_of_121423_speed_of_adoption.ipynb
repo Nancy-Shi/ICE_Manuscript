{
  "cells": [
    {
      "cell_type": "markdown",
      "metadata": {
        "id": "view-in-github",
        "colab_type": "text"
      },
      "source": [
        "<a href=\"https://colab.research.google.com/github/Nancy-Shi/ICE_Manuscript/blob/main/Copy_of_121423_speed_of_adoption.ipynb\" target=\"_parent\"><img src=\"https://colab.research.google.com/assets/colab-badge.svg\" alt=\"Open In Colab\"/></a>"
      ]
    },
    {
      "cell_type": "markdown",
      "metadata": {
        "id": "qA_qQY-h8rAL"
      },
      "source": [
        "## 3-Layer Model with Informtion, Behavior, Disease"
      ]
    },
    {
      "cell_type": "code",
      "execution_count": null,
      "metadata": {
        "id": "g11ZaIClRcxA"
      },
      "outputs": [],
      "source": [
        "#!pip install hypernetx"
      ]
    },
    {
      "cell_type": "code",
      "execution_count": null,
      "metadata": {
        "id": "lvbMl01j8mD4"
      },
      "outputs": [],
      "source": [
        "import hypernetx as hnx"
      ]
    },
    {
      "cell_type": "code",
      "execution_count": null,
      "metadata": {
        "id": "Fan2mZxpB3Up"
      },
      "outputs": [],
      "source": [
        "import numpy as np\n",
        "import matplotlib.pyplot as plt\n",
        "import networkx as nx\n",
        "import random\n",
        "import math as math\n",
        "from math import log\n",
        "import seaborn as sns\n",
        "import pandas as pd\n",
        "import matplotlib.ticker as ticker"
      ]
    },
    {
      "cell_type": "markdown",
      "metadata": {
        "id": "FUCtz8IJ8VkT"
      },
      "source": [
        "\n",
        "## Part 1: Hypergraph Generation\n",
        "The following steps generate a hyper graph using the XGI/HyperNetX python package,  following power-law degree distribution for predifined number of nodes n, number of hyperedges num_hyper_edges, degree exponent gamma, using a configuration model with data stored in a dictionary."
      ]
    },
    {
      "cell_type": "code",
      "execution_count": null,
      "metadata": {
        "id": "3qvT8MAI8VEs"
      },
      "outputs": [],
      "source": [
        "# Step 1: Generate Degree Sequence\n",
        "def generate_degree_sequence(n, gamma, kmin):\n",
        "    # Generate a random set from the power law distribution\n",
        "    u = np.random.uniform(size=n)\n",
        "    degrees = np.ceil((1.0 - u) ** (-1.0 / (gamma - 1.0)))\n",
        "\n",
        "    # Adjust degrees based on the minimum and maximum degree values\n",
        "    kmax = int(np.sqrt(n))\n",
        "    #kmax = int(((gamma-1)/(gamma-2) * n )** (1/gamma))  # max degree\n",
        "    degrees = degrees[(degrees >= kmin) & (degrees <= kmax)].astype(int)\n",
        "\n",
        "    # Truncate or pad the sequence to match the length specified\n",
        "    if len(degrees) >= n:\n",
        "        degrees = degrees[:n]\n",
        "    else:\n",
        "        degrees = np.concatenate((degrees, np.full(n - len(degrees), kmin)))\n",
        "\n",
        "    return degrees.tolist()\n",
        "\n",
        "# Step 2: Generate Hyper Edge Size Sequence\n",
        "def generate_hyper_edge_sizes(degrees, num_hyper_edges):\n",
        "    total_degrees = sum(degrees)\n",
        "    hyper_edge_sizes = []\n",
        "\n",
        "    # Calculate the average size for each hyper edge\n",
        "    avg_size = total_degrees // num_hyper_edges\n",
        "    remainder = total_degrees % num_hyper_edges\n",
        "\n",
        "    # Define the range for the random distribution\n",
        "    min_size = 2  # Lower bound of the range\n",
        "    max_size = int(np.sqrt(total_degrees))  # Upper bound of the range\n",
        "    #max_size = len(degrees) - num_hyper_edges  # Upper bound of the range\n",
        "\n",
        "    # Generate hyper edge sizes\n",
        "    for _ in range(num_hyper_edges):\n",
        "        size = random.randint(min_size, max_size)\n",
        "        hyper_edge_sizes.append(size)\n",
        "\n",
        "    return hyper_edge_sizes\n",
        "\n",
        "\n",
        "# Step 3: Create Copies of Nodes\n",
        "def create_node_copies(degrees):\n",
        "    node_copies = []\n",
        "    for i, degree in enumerate(degrees):\n",
        "        for _ in range(degree):\n",
        "            node_copies.append(i)\n",
        "    return node_copies\n",
        "\n",
        "# Step 4: Create Copies of Hyper Edges\n",
        "def create_hyper_edge_copies(hyper_edge_sizes):\n",
        "    hyper_edge_copies = []\n",
        "    for i, size in enumerate(hyper_edge_sizes):\n",
        "        for _ in range(size):\n",
        "            hyper_edge_copies.append(i)\n",
        "    return hyper_edge_copies\n",
        "\n",
        "# Step 5: Randomly Pair Copies without Repeated Pairs\n",
        "def randomly_pair_copies(node_copies, hyper_edge_copies):\n",
        "    pairs = []\n",
        "    paired_hyper_edges = {} # Using a dictionary to track paired hyper-edges with nodes\n",
        "\n",
        "    for node_copy in node_copies:\n",
        "        available_hyper_edges = [h for h in hyper_edge_copies if (h, node_copy) not in paired_hyper_edges]\n",
        "\n",
        "        # If no available hyper-edges left, shuffle the paired hyper-edges and reset\n",
        "        if not available_hyper_edges:\n",
        "            paired_hyper_edges = {}\n",
        "            available_hyper_edges = [h for h in hyper_edge_copies if (h, node_copy) not in paired_hyper_edges]\n",
        "\n",
        "        # Randomly choose a hyper-edge that has not been paired yet with the current node\n",
        "        chosen_hyper_edge = random.choice(available_hyper_edges)\n",
        "        pairs.append((node_copy, chosen_hyper_edge))\n",
        "\n",
        "        # Add to paired_hyper_edges\n",
        "        paired_hyper_edges[(chosen_hyper_edge, node_copy)] = True\n",
        "        hyper_edge_copies.remove(chosen_hyper_edge)\n",
        "\n",
        "    return pairs\n",
        "\n",
        "# Step 6: Convert Bipartite Graph to A Hypergraph Dictionary\n",
        "def convert_to_hypergraph(pairs):\n",
        "    hypergraph = {}\n",
        "    for pair in pairs:\n",
        "        node, hyper_edge = pair\n",
        "        if hyper_edge in hypergraph:\n",
        "            hypergraph[hyper_edge].append(node)\n",
        "        else:\n",
        "            hypergraph[hyper_edge] = [node]\n",
        "    return hypergraph\n"
      ]
    },
    {
      "cell_type": "code",
      "execution_count": null,
      "metadata": {
        "id": "0b6c7yfU8hg8"
      },
      "outputs": [],
      "source": [
        "def build_hypergraph(n, gamma, kmin, num_hyper_edges):\n",
        "    # Step 1: Generate Degree Sequence\n",
        "    degrees = generate_degree_sequence(n, gamma, kmin)\n",
        "    print(\"Degree Sequence: \", degrees)\n",
        "\n",
        "    # Step 2: Generate Hyper Edge Size Sequence\n",
        "    hyper_edge_sizes = generate_hyper_edge_sizes(degrees, num_hyper_edges)\n",
        "    print(\"Hyper Edge Sizes: \", hyper_edge_sizes)\n",
        "\n",
        "    # Step 3: Create Copies of Nodes\n",
        "    node_copies = create_node_copies(degrees)\n",
        "\n",
        "    # Step 4: Create Copies of Hyper Edges\n",
        "    hyper_edge_copies = create_hyper_edge_copies(hyper_edge_sizes)\n",
        "\n",
        "    # Step 5: Randomly Pair Copies\n",
        "    pairs = randomly_pair_copies(node_copies, hyper_edge_copies)\n",
        "\n",
        "    # Step 6: Convert Bipartite Graph to Hypergraph\n",
        "    hyperedge_dict = convert_to_hypergraph(pairs)\n",
        "\n",
        "    # Print the resulting hypergraph\n",
        "    print(\"Hypergraph Dictionary: \", hyperedge_dict)\n",
        "\n",
        "    return degrees, hyperedge_dict"
      ]
    },
    {
      "cell_type": "code",
      "execution_count": null,
      "metadata": {
        "id": "8-tEXGpf819Y"
      },
      "outputs": [],
      "source": [
        "# Test 2\n",
        "n2 = 500  # Number of nodes\n",
        "gamma2 = 2.5  # Power-law exponent\n",
        "kmin2 = 3  # Minimum degree\n",
        "num_hyper_edges2 = 100  # Desired number of hyper edges\n",
        "\n",
        "degrees2, hyperedge_dict2 = build_hypergraph(n2, gamma2, kmin2, num_hyper_edges2)\n",
        "H2 = hnx.Hypergraph(hyperedge_dict2)"
      ]
    },
    {
      "cell_type": "markdown",
      "metadata": {
        "id": "6bbX083i9Htn"
      },
      "source": [
        "## Part 2: Assign Behavior Status\n",
        "NP represents the state of no protection, while P represents the state of with protection."
      ]
    },
    {
      "cell_type": "code",
      "execution_count": null,
      "metadata": {
        "id": "elKpYEaU9HE1"
      },
      "outputs": [],
      "source": [
        "def assign_protection(hypergraph, fraction_protected):\n",
        "    # Get the list of nodes from the hypergraph\n",
        "    nodes = list(hypergraph.nodes())\n",
        "\n",
        "    # Calculate the number of nodes to protect\n",
        "    num_nodes_to_protect = int(len(nodes) * fraction_protected)\n",
        "\n",
        "    # Randomly choose nodes to protect\n",
        "    nodes_to_protect = random.sample(nodes, num_nodes_to_protect)\n",
        "\n",
        "    # Initialize the protection status dictionary\n",
        "    protection_status = {}\n",
        "\n",
        "    # Assign protection status to each node\n",
        "    for node in nodes:\n",
        "        if node in nodes_to_protect:\n",
        "            protection_status[node] = \"P\"  # Protected node\n",
        "        else:\n",
        "            protection_status[node] = \"N\"  # Non-protected node\n",
        "\n",
        "    #print(protection_status)\n",
        "\n",
        "    return protection_status"
      ]
    },
    {
      "cell_type": "code",
      "execution_count": null,
      "metadata": {
        "colab": {
          "base_uri": "https://localhost:8080/"
        },
        "id": "fxZAdvJR-TXv",
        "outputId": "5a9f4553-c571-4266-c99c-098804c89b80"
      },
      "outputs": [
        {
          "name": "stdout",
          "output_type": "stream",
          "text": [
            "{0: 'N', 1: 'P', 2: 'N', 3: 'P', 4: 'N', 5: 'N', 6: 'N', 7: 'N', 8: 'N', 9: 'N', 10: 'N', 11: 'N', 12: 'N', 13: 'N', 14: 'P', 15: 'N', 16: 'N', 17: 'N', 18: 'N', 19: 'N', 20: 'N', 21: 'N', 22: 'N', 23: 'N', 24: 'N', 25: 'N', 26: 'N', 27: 'N', 28: 'N', 29: 'N', 30: 'P', 31: 'N', 32: 'N', 33: 'N', 34: 'N', 35: 'P', 36: 'N', 37: 'N', 38: 'P', 39: 'N', 40: 'N', 41: 'N', 42: 'N', 43: 'N', 44: 'P', 45: 'N', 46: 'N', 47: 'N', 48: 'N', 49: 'N', 50: 'N', 51: 'N', 52: 'N', 53: 'N', 54: 'N', 55: 'N', 56: 'N', 57: 'N', 58: 'N', 59: 'N', 60: 'N', 61: 'N', 62: 'N', 63: 'N', 64: 'P', 65: 'N', 66: 'N', 67: 'N', 68: 'P', 69: 'N', 70: 'P', 71: 'P', 72: 'N', 73: 'N', 74: 'N', 75: 'N', 76: 'N', 77: 'N', 78: 'N', 79: 'N', 80: 'N', 81: 'P', 82: 'N', 83: 'N', 84: 'N', 85: 'P', 86: 'N', 87: 'P', 88: 'N', 89: 'N', 90: 'N', 91: 'N', 92: 'N', 93: 'N', 94: 'N', 95: 'N', 96: 'N', 97: 'N', 98: 'N', 99: 'N', 100: 'N', 101: 'N', 102: 'N', 103: 'N', 104: 'N', 105: 'N', 106: 'N', 107: 'N', 108: 'N', 109: 'N', 110: 'N', 111: 'N', 112: 'N', 113: 'N', 114: 'N', 115: 'N', 116: 'N', 117: 'N', 118: 'P', 119: 'N', 120: 'N', 121: 'N', 122: 'P', 123: 'N', 124: 'N', 125: 'N', 126: 'N', 127: 'N', 128: 'N', 129: 'N', 130: 'N', 131: 'N', 132: 'N', 133: 'N', 134: 'N', 135: 'N', 136: 'N', 137: 'N', 138: 'N', 139: 'N', 140: 'N', 141: 'N', 142: 'N', 143: 'N', 144: 'N', 145: 'N', 146: 'N', 147: 'N', 148: 'N', 149: 'N', 150: 'N', 151: 'N', 152: 'N', 153: 'P', 154: 'P', 155: 'P', 156: 'N', 157: 'N', 158: 'P', 159: 'N', 160: 'N', 161: 'N', 162: 'N', 163: 'N', 164: 'N', 165: 'N', 166: 'P', 167: 'N', 168: 'P', 169: 'P', 170: 'N', 171: 'P', 172: 'N', 173: 'N', 174: 'P', 175: 'N', 176: 'N', 177: 'N', 178: 'N', 179: 'N', 180: 'N', 181: 'N', 182: 'N', 183: 'N', 184: 'N', 185: 'P', 186: 'N', 187: 'N', 188: 'N', 189: 'N', 190: 'N', 191: 'N', 192: 'N', 193: 'N', 194: 'N', 195: 'N', 196: 'N', 197: 'N', 198: 'N', 199: 'N', 200: 'N', 201: 'N', 202: 'N', 203: 'N', 204: 'N', 205: 'N', 206: 'N', 207: 'N', 208: 'P', 209: 'N', 210: 'N', 211: 'N', 212: 'N', 213: 'N', 214: 'N', 215: 'N', 216: 'N', 217: 'N', 218: 'N', 219: 'N', 220: 'N', 221: 'N', 222: 'N', 223: 'N', 224: 'N', 225: 'N', 226: 'N', 227: 'N', 228: 'N', 229: 'N', 230: 'N', 231: 'N', 232: 'N', 233: 'P', 234: 'N', 235: 'N', 236: 'N', 237: 'N', 238: 'N', 239: 'N', 240: 'N', 241: 'N', 242: 'N', 243: 'N', 244: 'P', 245: 'N', 246: 'N', 247: 'N', 248: 'N', 249: 'N', 250: 'N', 251: 'N', 252: 'N', 253: 'N', 254: 'N', 255: 'P', 256: 'N', 257: 'N', 258: 'N', 259: 'N', 260: 'N', 261: 'N', 262: 'N', 263: 'N', 264: 'N', 265: 'N', 266: 'N', 267: 'N', 268: 'N', 269: 'P', 270: 'N', 271: 'N', 272: 'N', 273: 'N', 274: 'N', 275: 'P', 276: 'N', 277: 'N', 278: 'N', 279: 'N', 280: 'N', 281: 'N', 282: 'N', 283: 'N', 284: 'N', 285: 'N', 286: 'N', 287: 'N', 288: 'P', 289: 'N', 290: 'N', 291: 'N', 292: 'N', 293: 'N', 294: 'N', 295: 'N', 296: 'N', 297: 'N', 298: 'N', 299: 'N', 300: 'N', 301: 'P', 302: 'N', 303: 'N', 304: 'N', 305: 'P', 306: 'N', 307: 'N', 308: 'N', 309: 'N', 310: 'P', 311: 'N', 312: 'N', 313: 'N', 314: 'N', 315: 'N', 316: 'N', 317: 'N', 318: 'N', 319: 'N', 320: 'N', 321: 'N', 322: 'N', 323: 'N', 324: 'N', 325: 'N', 326: 'N', 327: 'N', 328: 'N', 329: 'N', 330: 'N', 331: 'N', 332: 'N', 333: 'N', 334: 'N', 335: 'N', 336: 'N', 337: 'N', 338: 'N', 339: 'N', 340: 'P', 341: 'N', 342: 'N', 343: 'N', 344: 'N', 345: 'N', 346: 'N', 347: 'N', 348: 'N', 349: 'N', 350: 'N', 351: 'N', 352: 'N', 353: 'N', 354: 'N', 355: 'N', 356: 'N', 357: 'N', 358: 'N', 359: 'N', 360: 'N', 361: 'N', 362: 'N', 363: 'P', 364: 'N', 365: 'N', 366: 'N', 367: 'N', 368: 'N', 369: 'N', 370: 'N', 371: 'N', 372: 'N', 373: 'N', 374: 'P', 375: 'N', 376: 'N', 377: 'N', 378: 'N', 379: 'P', 380: 'N', 381: 'N', 382: 'N', 383: 'N', 384: 'N', 385: 'N', 386: 'N', 387: 'N', 388: 'N', 389: 'N', 390: 'N', 391: 'N', 392: 'N', 393: 'P', 394: 'N', 395: 'N', 396: 'N', 397: 'N', 398: 'N', 399: 'N', 400: 'N', 401: 'N', 402: 'P', 403: 'N', 404: 'N', 405: 'N', 406: 'N', 407: 'N', 408: 'N', 409: 'N', 410: 'N', 411: 'N', 412: 'N', 413: 'N', 414: 'P', 415: 'N', 416: 'N', 417: 'N', 418: 'N', 419: 'N', 420: 'N', 421: 'N', 422: 'N', 423: 'N', 424: 'N', 425: 'N', 426: 'N', 427: 'P', 428: 'N', 429: 'N', 430: 'N', 431: 'N', 432: 'N', 433: 'N', 434: 'N', 435: 'N', 436: 'N', 437: 'N', 438: 'N', 439: 'N', 440: 'N', 441: 'N', 442: 'N', 443: 'N', 444: 'N', 445: 'N', 446: 'N', 447: 'N', 448: 'N', 449: 'N', 450: 'N', 451: 'N', 452: 'N', 453: 'N', 454: 'N', 455: 'N', 456: 'N', 457: 'N', 458: 'P', 459: 'N', 460: 'N', 461: 'N', 462: 'N', 463: 'P', 464: 'N', 465: 'N', 466: 'P', 467: 'N', 468: 'N', 469: 'N', 470: 'N', 471: 'N', 472: 'N', 473: 'N', 474: 'N', 475: 'N', 476: 'N', 477: 'N', 478: 'N', 479: 'N', 480: 'N', 481: 'N', 482: 'N', 483: 'N', 484: 'N', 485: 'N', 486: 'P', 487: 'N', 488: 'N', 489: 'N', 490: 'N', 491: 'N', 492: 'P', 493: 'N', 494: 'N', 495: 'N', 496: 'N', 497: 'N', 498: 'P', 499: 'N'}\n"
          ]
        }
      ],
      "source": [
        "# Test:\n",
        "fraction_protected = 0.1  # 40% of nodes will be protected\n",
        "protection_status_dict = assign_protection(H2, fraction_protected)\n",
        "print(protection_status_dict)"
      ]
    },
    {
      "cell_type": "markdown",
      "metadata": {
        "id": "F71C7Qfa_b9I"
      },
      "source": [
        "\n",
        "## Part 3: Assign Threshold\n",
        "The following steps assigns a threshold value to each node in the network. The threshold follows a uniform or normal distribution with predefined mean (mu) and standard deviation (sigma)."
      ]
    },
    {
      "cell_type": "code",
      "execution_count": null,
      "metadata": {
        "id": "ky4HFlQR_jBY"
      },
      "outputs": [],
      "source": [
        "# Defines the parameters to be used\n",
        "mu = 0.1\n",
        "sigma = 0.05\n",
        "\n",
        "# Function to assign thresholds to the individual nodes\n",
        "def assign_thresholds(hypergraph, mu, sigma):\n",
        "    NV = hypergraph.order()\n",
        "    Ltre = {}\n",
        "\n",
        "    for node in hypergraph.nodes():\n",
        "          # Uniform distribution: #\n",
        "          #Ltre[node] = np.random.uniform()\n",
        "          # Normal distrution\n",
        "          while True:\n",
        "              threshold = random.gauss(mu, sigma)\n",
        "              if 0 < threshold < 1:\n",
        "                  break\n",
        "          Ltre[node] = threshold\n",
        "\n",
        "    return Ltre"
      ]
    },
    {
      "cell_type": "code",
      "execution_count": null,
      "metadata": {
        "colab": {
          "base_uri": "https://localhost:8080/"
        },
        "id": "uZ11eyyS_o1O",
        "outputId": "5666bef3-005f-4319-809f-5cd0845a7247"
      },
      "outputs": [
        {
          "name": "stdout",
          "output_type": "stream",
          "text": [
            "Threshold List for Nodes:  {0: 0.09220664163070905, 1: 0.10641735195585957, 2: 0.08776523180888686, 3: 0.1346039915793734, 4: 0.049535176593520185, 5: 0.08402537402205752, 6: 0.08221061380864474, 7: 0.1303546460020995, 8: 0.016338188076090096, 9: 0.1906626764574203, 10: 0.0944309962728292, 11: 0.153421078065421, 12: 0.12396372171480419, 13: 0.09039060653212322, 14: 0.06639374672913387, 15: 0.13626803862232453, 16: 0.09002142405054249, 17: 0.14906943034078227, 18: 0.08442244723787881, 19: 0.048779529696434315, 20: 0.11719669025602279, 21: 0.11638529946306156, 22: 0.1284482839876214, 23: 0.1788976838745022, 24: 0.1536758204280574, 25: 0.11943335943143242, 26: 0.11190085405342703, 27: 0.1888084079436452, 28: 0.10242861741131898, 29: 0.044119246961471806, 30: 0.11977927400193415, 31: 0.08323048508108398, 32: 0.12582532561005755, 33: 0.06566058596785501, 34: 0.038144105450358214, 35: 0.13414545196537822, 36: 0.0922976253634236, 37: 0.18181992932046875, 38: 0.07320365578551932, 39: 0.15902571298154822, 40: 0.12237039947643491, 41: 0.08891064994533025, 42: 0.0799695544626994, 43: 0.14086393618866266, 44: 0.06370919634699652, 45: 0.19083307223178267, 46: 0.009612736865951266, 47: 0.06506277642468772, 48: 0.1415956876849619, 49: 0.005124091238507031, 50: 0.09796496848659604, 51: 0.19138586320141793, 52: 0.13912093130545408, 53: 0.07204007137845175, 54: 0.04703086860467346, 55: 0.0979187755008754, 56: 0.12164320537647076, 57: 0.07408094116272917, 58: 0.05159197471847173, 59: 0.10769612719520105, 60: 0.1510457841865982, 61: 0.1262891610092734, 62: 0.06590319559296656, 63: 0.10907158851989479, 64: 0.12325094322883207, 65: 0.04985160527824082, 66: 0.1337221784232342, 67: 0.07779037107464642, 68: 0.1343342770961282, 69: 0.019985873157055425, 70: 0.14317879801293668, 71: 0.0012921923622435938, 72: 0.06058848307565424, 73: 0.20982918348263718, 74: 0.0838904850808545, 75: 0.0949271325962878, 76: 0.006000271118247386, 77: 0.019861474315911634, 78: 0.12065717086273062, 79: 0.07069133649211358, 80: 0.17199865295593886, 81: 0.17206511100508487, 82: 0.05664003829197072, 83: 0.10580147047435444, 84: 0.028382176333267464, 85: 0.15410851878798118, 86: 0.13390007083557334, 87: 0.13674511305185166, 88: 0.14000632134552102, 89: 0.04040863090542999, 90: 0.060571513548288804, 91: 0.2078914229317551, 92: 0.052637981905737215, 93: 0.14866623209193547, 94: 0.13354463761517027, 95: 0.108591533906258, 96: 0.03992472911871441, 97: 0.06403134819381207, 98: 0.2647770789824916, 99: 0.11518386773175124, 100: 0.14969172954193802, 101: 0.0034461847742065232, 102: 0.07809321007245816, 103: 0.059141464507355586, 104: 0.09958663052599162, 105: 0.0950361040045072, 106: 0.1375912357916612, 107: 0.08242487737458658, 108: 0.1984478489865265, 109: 0.16910469487754792, 110: 0.1252460477802394, 111: 0.07695333106376696, 112: 0.12999766461160014, 113: 0.15349146758011706, 114: 0.015394269101401653, 115: 0.08577613797216269, 116: 0.1107885169898502, 117: 0.043827351983294564, 118: 0.04870791391411078, 119: 0.20064256001636838, 120: 0.12682385104046917, 121: 0.01816550452576754, 122: 0.09813635609712518, 123: 0.1748415585096444, 124: 0.05614824694518277, 125: 0.11210961457880257, 126: 0.04439995153936064, 127: 0.1257089488893333, 128: 0.06942493076753274, 129: 0.13829677075104194, 130: 0.07972804769527568, 131: 0.03956783749078291, 132: 0.0837298081170416, 133: 0.03474913452342247, 134: 0.012511069526777899, 135: 0.19101357884760126, 136: 0.14015248822114995, 137: 0.20416084321631614, 138: 0.13746433335603397, 139: 0.14389975374710268, 140: 0.14406480952176262, 141: 0.17508088674782096, 142: 0.1439652645188509, 143: 0.12082192975059376, 144: 0.07920514202141923, 145: 0.09948190663043008, 146: 0.11321604942807519, 147: 0.09902883043178702, 148: 0.030896988039791268, 149: 0.09541410504798503, 150: 0.20189368008149874, 151: 0.12416301396751951, 152: 0.06825281614881645, 153: 0.11447561960046704, 154: 0.12902528022489781, 155: 0.10439299151862712, 156: 0.076350180444563, 157: 0.146027799285746, 158: 0.0893556374002266, 159: 0.17787323312546252, 160: 0.07859254602516291, 161: 0.14689565114263775, 162: 0.0016783261722476267, 163: 0.05500691369298748, 164: 0.07919396397548864, 165: 0.11527681087967788, 166: 0.08016710808571247, 167: 0.06127694149330644, 168: 0.07348861766254641, 169: 0.1199684468930616, 170: 0.11383879852442716, 171: 0.055699326613261824, 172: 0.173000793951952, 173: 0.07637086527391126, 174: 0.1043853248835508, 175: 0.028338559937477456, 176: 0.13995111727450138, 177: 0.011895060384587958, 178: 0.11069445819088863, 179: 0.11972302018785519, 180: 0.15288616411806372, 181: 0.13977024472084804, 182: 0.07949657431871499, 183: 0.12053344555121845, 184: 0.08636672897445, 185: 0.09486005391030206, 186: 0.19216381746846264, 187: 0.07805961520514014, 188: 0.1033951925868712, 189: 0.12110166036859021, 190: 0.1599925803557129, 191: 0.09784376811915843, 192: 0.09574475795431013, 193: 0.09049766042134151, 194: 0.10449542760600551, 195: 0.12808456848161215, 196: 0.05961672385579552, 197: 0.06683826931360756, 198: 0.07703796390586168, 199: 0.07369995193192903, 200: 0.11192517485307871, 201: 0.16844426685386577, 202: 0.05497837043381035, 203: 0.07661271748002269, 204: 0.12360895034138947, 205: 0.06707587175045701, 206: 0.049693962099321025, 207: 0.0317817329230298, 208: 0.10971223314854137, 209: 0.08935364051890594, 210: 0.21911820839413415, 211: 0.07226537619879198, 212: 0.13253896078245464, 213: 0.12385905007598975, 214: 0.02010240538817218, 215: 0.0307410894414748, 216: 0.1055800590095569, 217: 0.12493867347634019, 218: 0.10376811194434397, 219: 0.05893401839264733, 220: 0.1556112351985271, 221: 0.09308725049349065, 222: 0.08136232088943933, 223: 0.2311817604207048, 224: 0.1398173157178575, 225: 0.11838465877959184, 226: 0.13337339052640879, 227: 0.0458105746436166, 228: 0.08734538562019734, 229: 0.10242824968118452, 230: 0.13005383784814667, 231: 0.1320358860486647, 232: 0.026291586087220195, 233: 0.10677404969967239, 234: 0.1479737799877543, 235: 0.09706136753760483, 236: 0.1138609063986621, 237: 0.1455198140480975, 238: 0.010982250028608434, 239: 0.19621240615028374, 240: 0.007864258795884913, 241: 0.14288308841501984, 242: 0.04729920812842345, 243: 0.13469817918423777, 244: 0.10505230893616302, 245: 0.08779353314387914, 246: 0.04879107547589075, 247: 0.1429515721685224, 248: 0.1375572872216408, 249: 0.0917744014707273, 250: 0.1366173441547825, 251: 0.06827777334649032, 252: 0.08723867185061294, 253: 0.016801691134932892, 254: 0.06889336344003208, 255: 0.16574175811728364, 256: 0.1396063535880553, 257: 0.04908198124208655, 258: 0.029044711194558967, 259: 0.0798226078898781, 260: 0.15747577904839608, 261: 0.09658987023772383, 262: 0.14055954510229704, 263: 0.031128270477731743, 264: 0.08508137400297985, 265: 0.09671238867746865, 266: 0.10974529097569276, 267: 0.20528198449310417, 268: 0.0743875300203931, 269: 0.07456689807191988, 270: 0.10553291487747442, 271: 0.1449124987592879, 272: 0.12411256623284755, 273: 0.07958266097826892, 274: 0.12680829320536377, 275: 0.16355118096682092, 276: 0.1466142356082878, 277: 0.14590890699465026, 278: 0.0734751468065332, 279: 0.01774677773983964, 280: 0.015306998885882286, 281: 0.0782294814655695, 282: 0.15218222075045287, 283: 0.05172901414566364, 284: 0.06263308044904867, 285: 0.09380084389245269, 286: 0.10236350340798273, 287: 0.06088923544729917, 288: 0.1205310263530577, 289: 0.17454478692241238, 290: 0.06209843515107839, 291: 0.08001227159823272, 292: 0.2011621274676575, 293: 0.116230409988036, 294: 0.1157333877652689, 295: 0.05194238235307174, 296: 0.12376871566303427, 297: 0.025759404946227263, 298: 0.07024279475514841, 299: 0.0718404333110939, 300: 0.09173703147314853, 301: 0.13746089037234802, 302: 0.06339549126049707, 303: 0.11671153111665628, 304: 0.0837215607959891, 305: 0.05213452856318698, 306: 0.04906032502002611, 307: 0.12056863932246244, 308: 0.085509194416721, 309: 0.0773979135687625, 310: 0.0833829747026747, 311: 0.09027926713636747, 312: 0.06630848506472974, 313: 0.0837225806002883, 314: 0.06725448302075043, 315: 0.01892709423734637, 316: 0.034672824232084384, 317: 0.17932591703881937, 318: 0.06032176651855681, 319: 0.03547253857771564, 320: 0.13456933722969283, 321: 0.13813834579018766, 322: 0.09370325083344926, 323: 0.14158157766482168, 324: 0.14178852555845528, 325: 0.18078644485177636, 326: 0.010819745431626115, 327: 0.09282720330142372, 328: 0.11224272621101689, 329: 0.08996515305201386, 330: 0.14503195707821084, 331: 0.10754312103755984, 332: 0.00855616721703048, 333: 0.12548561561745378, 334: 0.07077402583584366, 335: 0.1723946561906446, 336: 0.06661134744117655, 337: 0.050039329431928695, 338: 0.08208314802828023, 339: 0.08988542703124969, 340: 0.12815180763897493, 341: 0.04836136768736854, 342: 0.08098763990557382, 343: 0.09403641156644532, 344: 0.08555399353287461, 345: 0.12208442490968671, 346: 0.02971863220372993, 347: 0.06939109946046033, 348: 0.12581897932631064, 349: 0.044400796395285304, 350: 0.12369471536047452, 351: 0.0229971736880656, 352: 0.06425608287562794, 353: 0.018137428791536223, 354: 0.12167605963014132, 355: 0.08479849584775097, 356: 0.12557157512702777, 357: 0.033722562399172915, 358: 0.004845463872529154, 359: 0.13909598028029088, 360: 0.0769329026367163, 361: 0.1679095999525238, 362: 0.141733444578954, 363: 0.06556612375359674, 364: 0.10710749814900994, 365: 0.12820161628166798, 366: 0.10342063536560138, 367: 0.1386349162975261, 368: 0.05956985964528469, 369: 0.04471208110411049, 370: 0.12384174427146893, 371: 0.10462300783689277, 372: 0.14005304320824596, 373: 0.08042563955390698, 374: 0.08155027555694626, 375: 0.13796686866478491, 376: 0.14608710292953592, 377: 0.08921964168921845, 378: 0.09902062721618705, 379: 0.1506199703425847, 380: 0.08024299256980555, 381: 0.03909103841579149, 382: 0.03420185574514947, 383: 0.010084148640601476, 384: 0.048696073302824786, 385: 0.06713941338600446, 386: 0.04309265669100512, 387: 0.11376861731503976, 388: 0.1033359215084289, 389: 0.09331805542180341, 390: 0.08118735987988093, 391: 0.14227019305198063, 392: 0.0460150774349736, 393: 0.11274397538646175, 394: 0.08664901300657893, 395: 0.08029145452927158, 396: 0.08452642775320067, 397: 0.05286899634467405, 398: 0.1353286613392729, 399: 0.10843783306521781, 400: 0.08153531070625898, 401: 0.05839384139985231, 402: 0.12993163472229158, 403: 0.09773722566480116, 404: 0.09389783531672335, 405: 0.08422431034822796, 406: 0.07591256541965052, 407: 0.08471907275998243, 408: 0.12397834767049577, 409: 0.056072906791632016, 410: 0.05948729583764234, 411: 0.00818816956128525, 412: 0.0670227961736051, 413: 0.020928224619305713, 414: 0.04746188341387915, 415: 0.0546661362293184, 416: 0.13919945971113507, 417: 0.17055698202884623, 418: 0.06492438867363257, 419: 0.12426057397415172, 420: 0.11548627908749089, 421: 0.10100677182404483, 422: 0.0721075080848744, 423: 0.15691273220406793, 424: 0.13737965909447436, 425: 0.00810531742981066, 426: 0.17692955573083563, 427: 0.11821117284663803, 428: 0.05792046354275027, 429: 0.0649781349594526, 430: 0.1837503795939791, 431: 0.11798415311035301, 432: 0.09854373211783186, 433: 0.027534687170118866, 434: 0.12697526796233777, 435: 0.006821934374991803, 436: 0.08869915614774285, 437: 0.054757361311424134, 438: 0.07227892919700837, 439: 0.14926287992233203, 440: 0.08248659478046991, 441: 0.09015614782047035, 442: 0.2194435978354437, 443: 0.08731478777316927, 444: 0.12990943882233247, 445: 0.09988817744030382, 446: 0.14839357775701056, 447: 0.055645201974544395, 448: 0.05108725620776723, 449: 0.14312980910016926, 450: 0.12277333179272941, 451: 0.16568617374726552, 452: 0.13383287591278487, 453: 0.09257881003006745, 454: 0.07670918250606262, 455: 0.06143835251191679, 456: 0.10090935768146875, 457: 0.1325083113995126, 458: 0.15627256580139576, 459: 0.08304836993050353, 460: 0.10156008626853086, 461: 0.04563998822893123, 462: 0.08371214606500119, 463: 0.018098762637923774, 464: 0.14978445033345214, 465: 0.19297963019397904, 466: 0.0647595695158483, 467: 0.09150372987664221, 468: 0.2333806461635468, 469: 0.049372581450738556, 470: 0.0859673075868412, 471: 0.15918910213327409, 472: 0.11416591847416115, 473: 0.10683224537674622, 474: 0.11584435934736079, 475: 0.11525964828330126, 476: 0.07423880767200947, 477: 0.1729512199509654, 478: 0.13981110062431448, 479: 0.09665679489737378, 480: 0.09674974653247832, 481: 0.047810727359510856, 482: 0.0977539054898517, 483: 0.19093237782360745, 484: 0.10819431255844421, 485: 0.19990577035921256, 486: 0.08923498087373309, 487: 0.13541700176606075, 488: 0.14381334166141543, 489: 0.07707630327239649, 490: 0.08424473167510285, 491: 0.11985129145851332, 492: 0.051147678538532845, 493: 0.009908119196909676, 494: 0.09664406593197075, 495: 0.1839664012758492, 496: 0.11135371853751641, 497: 0.07192968244756054, 498: 0.13636481532002084, 499: 0.055458045259340144}\n"
          ]
        }
      ],
      "source": [
        "Ltre2 = assign_thresholds(H2, mu, sigma)\n",
        "\n",
        "print(\"Threshold List for Nodes: \", Ltre2 )"
      ]
    },
    {
      "cell_type": "markdown",
      "metadata": {
        "id": "pSmz7Gj6AA9m"
      },
      "source": [
        "# Part 4: The ICE Model (The Information Cognition Epidemics Model)\n",
        "## Information Layer\n",
        "The misinformation spread occurs on a hyperedge network involving group spreading. The three stages are U(unaware), G(gossip/spreader), and C(stifler/corrected).  \n",
        "\n",
        "## Cognition Layer\n",
        "In the cognitive behavioral layer, P is protected, and N is not protected. The rate of transition from state P to N, p, depends on the information layer. The rate from NP to P is 1-p. The transition rate of a node is also affected by the number of active spreader/stiflers. The bigger number of active neighbors, the faster the rate. Another way behavior may change is based on the fraction of protected neighbors.\n",
        "\n",
        "## Epidemics Layer\n",
        "In the epidemics layer, the possible disease states are S(susceptible), I(infected), and R(recovered). The illness spreading is pairwise. The disease propagation rate depends on the fraction of protected individuals $\\rho_P$.\n",
        "\n"
      ]
    },
    {
      "cell_type": "code",
      "execution_count": null,
      "metadata": {
        "id": "i3rNTHw7F-6v"
      },
      "outputs": [],
      "source": [
        "def ICE_model_no_control(inw, ldeg_i, ltre, cnw, ldeg_c, lprot, enw, ldeg_e, lam, alp, zeta_1, zeta_2, zeta_3, zeta_4, beta_PP, beta_NP, beta_PN, beta_NN, mu, n_sample):\n",
        "  \"\"\"\n",
        "  Input:\n",
        "      inw - information hyperedge network\n",
        "      ltre - list of thresholds for informaiton spread\n",
        "      ldeg_i - degree sequence of information layer\n",
        "\n",
        "      cnw - cognitive network\n",
        "      lprot - list of protection status\n",
        "      ldeg_c - degree sequence of cognition layer\n",
        "\n",
        "      enw - epidemic pairwise network\n",
        "      ldeg_e - degree sequence of epidemic layer\n",
        "\n",
        "      lambda - information spreading rate\n",
        "      alp - informaiton stifling rate\n",
        "\n",
        "      zeta_1 - removing protection rate based on information\n",
        "      zeta_2 - removing protection rate based on neighborhood behavior\n",
        "      zeta_1 - adopting protection rate based on information\n",
        "      zeta_2 - adopting protection rate based on neighborhood behavior\n",
        "\n",
        "      beta_PP - disease transmission rate between protected S and protected I\n",
        "      beta_NP - disease transmission rate between not protected S and protected I\n",
        "      beta_PN - disease transmission rate between protected S and not protected I\n",
        "      beta_NN - disease transmission rate between not protected S and not protected I\n",
        "\n",
        "      mu - disease recovery rate\n",
        "\n",
        "      n_sample - number of samples\n",
        "  \"\"\"\n",
        "\n",
        "  t_max = 1000      # Set maximum time\n",
        "  kmax_i = max (ldeg_i)     # Get maximum hyperedge degree in information layer\n",
        "  kmax_c = max (ldeg_c)     # Get maximum hyperedge degree in cognition layer\n",
        "  kmax_e = max (ldeg_e)     # Get maximum degree in epidemic layer\n",
        "  N = inw.order()  # Get the network size\n",
        "\n",
        "  rho_C = []   # Keep track of fraction of corrected in information layer\n",
        "  rho_P = []   # Keep track of fraction of protected in cognition layer\n",
        "  rho_R = []   # Keep track of fraction of recovered in epidemic layer\n",
        "\n",
        "  for i_samp in range(1, n_sample + 1):\n",
        "      t = 0                 # Initialize time, number of corrected, number of recovered\n",
        "      N_corrected = 0\n",
        "      N_recovered = 0\n",
        "\n",
        "      info_states = {j: \"U\" for j in inw.nodes()}   # Initialize information and disease states\n",
        "      disease_states = {k: \"S\" for k in enw.nodes()}\n",
        "\n",
        "      lprot = assign_protection(cnw, frac_prot)\n",
        "      protected = list(filter(lambda node: lprot[node] == \"P\", lprot))\n",
        "      N_protected = len(protected)\n",
        "      not_protected = list(filter(lambda node: lprot[node] == \"N\", lprot))\n",
        "\n",
        "\n",
        "      gossip = []     # Create lists to store gossip and corrected individuals in information layer\n",
        "      corrected = []\n",
        "\n",
        "      rumor_node_0 = np.random.choice(list(inw.nodes()))   # Pick a random person to start misinformaiton spreading\n",
        "      info_states[rumor_node_0] = \"G\"\n",
        "      gossip.append(rumor_node_0)\n",
        "      N_gossip = 1\n",
        "      N_e_i = inw.degree(rumor_node_0)\n",
        "\n",
        "      infected = []     # Create lists to store infected and recovered individuals in epidemic layer\n",
        "      recovered = []\n",
        "      time_record= [0]\n",
        "      N_adopted = 0\n",
        "      adopting_count = [0]\n",
        "      #prevalence_count = [0]\n",
        "      #recovereed_count = [0]\n",
        "\n",
        "      ill_node_0 = np.random.choice(list(enw.nodes()))   # Pick a random person to start disease spreading\n",
        "      disease_states[ill_node_0] = \"I\"\n",
        "      infected.append(ill_node_0)\n",
        "      N_infected = 1\n",
        "      N_e_e = enw.degree(ill_node_0)\n",
        "\n",
        "      sum_of_beta = beta_PP + beta_NP + beta_PN + beta_NN\n",
        "\n",
        "      while t < 150 and N_infected > 0:   # We stop when there is no infection\n",
        "        total_rate = lam * N_e_i + 2 * alp * N_e_i + sum_of_beta * N_e_e + mu * N_infected + zeta_1 * N_protected + zeta_2 * (N-N_protected) + zeta_3 * N_protected + zeta_4 * (N-N_protected)\n",
        "        tau = -np.log(np.random.uniform(1e-6, 1)) / total_rate\n",
        "        t += tau\n",
        "\n",
        "        if t >= t_max:\n",
        "                break\n",
        "\n",
        "      # Determine which event occurs\n",
        "        event = np.random.uniform()\n",
        "        p1 = (lam * N_e_i) / total_rate     # rumor spreading\n",
        "        p2 = (lam * N_e_i + alp * N_e_i) / total_rate  # rumor stifling (by meeting stifling neighbor threshold)\n",
        "        p3 = (lam * N_e_i + 2 * alp * N_e_i) / total_rate  # rumor stifling (by meeting gossip neighbor threshold)\n",
        "\n",
        "        p4 = (lam * N_e_i + 2 * alp * N_e_i + sum_of_beta * N_e_e) / total_rate  # disease propagation\n",
        "        p5 = (lam * N_e_i + 2 * alp * N_e_i + sum_of_beta * N_e_e + mu * N_infected) / total_rate  # disease recovery\n",
        "\n",
        "        p6 = (lam * N_e_i + 2 * alp * N_e_i + sum_of_beta * N_e_e + mu * N_infected + zeta_1 * N_protected) / total_rate # change to not adopting protection by information\n",
        "        p7 = (lam * N_e_i + 2 * alp * N_e_i + sum_of_beta * N_e_e + mu * N_infected + zeta_1 * N_protected + zeta_2 * (N-N_protected) ) / total_rate # change to adopting protection by information\n",
        "        p8 = (lam * N_e_i + 2 * alp * N_e_i + sum_of_beta * N_e_e + mu * N_infected + zeta_1 * N_protected + zeta_2 * (N-N_protected)  + zeta_3 * N_protected) / total_rate # change to not adopting protection by neighborhood behavior\n",
        "          # > p8 # change to adopting protection by neighborhood behavior\n",
        "\n",
        "          # Determine if accept selected individual based on degree distribution\n",
        "        q_deg_i = np.random.uniform()\n",
        "        q_deg_c = np.random.uniform()\n",
        "        q_deg_e = np.random.uniform()\n",
        "\n",
        "          # Case 1: Rumor spreading\n",
        "        if event < p1:\n",
        "                gossip_node = np.random.choice(gossip)\n",
        "                if q_deg_i < inw.degree(gossip_node) / kmax_i:\n",
        "                    edges_containing_gossip = [edge for edge in inw.edges() if gossip_node in inw[edge]]\n",
        "                    if edges_containing_gossip:\n",
        "                        rumor_hyper_edge = np.random.choice(edges_containing_gossip)\n",
        "                        neighbors = inw[rumor_hyper_edge]\n",
        "                        for neighbor in neighbors:\n",
        "                            if info_states[neighbor] == \"U\":\n",
        "                                count_gossip_neighbors = sum(1 for node in inw.neighbors(neighbor) if info_states[node] == \"G\")\n",
        "                                if count_gossip_neighbors / len(inw.neighbors(neighbor)) >= ltre[neighbor]:\n",
        "                                    info_states[neighbor] = \"G\"  # uninformed neighbor becomes gossip spreader\n",
        "                                    gossip.append(neighbor)\n",
        "                                    N_gossip += 1\n",
        "                                    N_e_i += inw.degree(neighbor)\n",
        "\n",
        "          # Case 2: Rumor stifling (by meeting stifling neighbor threshold)\n",
        "        elif event < p2:\n",
        "                stifler_node = np.random.choice(gossip)\n",
        "                if q_deg_i < inw.degree(stifler_node)  / kmax_i:\n",
        "                    stifler_hyper_edge = np.random.choice(list(inw.edges()))\n",
        "                    neighbors = inw[stifler_hyper_edge]\n",
        "                    count_stifler_neighbors = sum(1 for node in inw.neighbors(stifler_node) if info_states[node] == \"C\")\n",
        "                    if len(neighbors) > 0  and count_stifler_neighbors / len(neighbors) >= 0.3:\n",
        "                            info_states[stifler_node] = \"C\"\n",
        "                            N_gossip -= 1\n",
        "                            gossip.remove(stifler_node)\n",
        "                            corrected.append(stifler_node)\n",
        "                            N_corrected += 1\n",
        "                            N_e_i -= inw.degree(stifler_node)\n",
        "\n",
        "          # Case 3: Rumor stifling (by meeting gossip neighbor threshold)\n",
        "        elif event < p3:\n",
        "                stifler_node = np.random.choice(gossip)\n",
        "                if q_deg_i < inw.degree(stifler_node) / kmax_i:\n",
        "                    stifler_hyper_edge = np.random.choice(list(inw.edges()))\n",
        "                    neighbors = inw[stifler_hyper_edge]\n",
        "                    count_gossip_neighbors = sum(1 for node in inw.neighbors(stifler_node) if info_states[node] == \"G\")\n",
        "                    if len(neighbors) > 0 and count_gossip_neighbors / len(neighbors) >= 0.3:\n",
        "                            info_states[stifler_node] = \"C\"\n",
        "                            N_gossip -= 1\n",
        "                            gossip.remove(stifler_node)\n",
        "                            corrected.append(stifler_node)\n",
        "                            N_corrected += 1\n",
        "                            N_e_i -= inw.degree(stifler_node)\n",
        "\n",
        "          # Case 4: Disease propagation\n",
        "        elif event < p4:\n",
        "            draw_infection_event = np.random.uniform()\n",
        "            # Infection event #1: between S_P and I_P\n",
        "            if draw_infection_event < beta_PP/sum_of_beta:\n",
        "                infected_protected = list(set(infected).intersection(protected))\n",
        "                if len(infected_protected)>0:\n",
        "                  infected_node = np.random.choice(infected_protected)\n",
        "                  neighbors = list(enw.neighbors(infected_node))\n",
        "                  susceptible_protected_neighbors = [node for node in neighbors if disease_states.get(node) == 'S' and node in protected]\n",
        "                  if len(susceptible_protected_neighbors)>0:\n",
        "                    susceptible_protected = np.random.choice(susceptible_protected_neighbors)\n",
        "                    disease_states[susceptible_protected] = \"I\"\n",
        "                    infected.append(susceptible_protected)\n",
        "                    N_infected += 1\n",
        "                    N_e_e += enw.degree(susceptible_protected)\n",
        "                    #time_record.append(t)\n",
        "                    #prevalence_count.append(N_infected)\n",
        "                    #recovered_count.append(N_recovered)\n",
        "            # Infection event #2: between S_N and I_P\n",
        "            elif draw_infection_event < (beta_PP + beta_NP)/sum_of_beta:\n",
        "                infected_protected = list(set(infected).intersection(protected))\n",
        "                if len(infected_protected)>0:\n",
        "                  infected_node = np.random.choice(infected_protected)\n",
        "                  neighbors = list(enw.neighbors(infected_node))\n",
        "                  susceptible_not_protected_neighbors = [node for node in neighbors if disease_states.get(node) == 'S' and node in not_protected]\n",
        "                  if len(susceptible_not_protected_neighbors)>0:\n",
        "                    susceptible_not_protected = np.random.choice(susceptible_not_protected_neighbors)\n",
        "                    disease_states[susceptible_not_protected] = \"I\"\n",
        "                    infected.append(susceptible_not_protected)\n",
        "                    N_infected += 1\n",
        "                    N_e_e += enw.degree(susceptible_not_protected)\n",
        "                    #time_record.append(t)\n",
        "                    #prevalence_count.append(N_infected)\n",
        "                    #recovered_count.append(N_recovered)\n",
        "            # Infection event #3: between S_P and I_N\n",
        "            elif draw_infection_event < (beta_PP + beta_NP + beta_PN)/sum_of_beta:\n",
        "                infected_not_protected = list(set(infected).intersection(not_protected))\n",
        "                if len(infected_not_protected)>0:\n",
        "                  infected_node = np.random.choice(infected_not_protected)\n",
        "                  neighbors = list(enw.neighbors(infected_node))\n",
        "                  susceptible_protected_neighbors = [node for node in neighbors if disease_states.get(node) == 'S' and node in protected]\n",
        "                  if len(susceptible_protected_neighbors)>0:\n",
        "                    susceptible_protected = np.random.choice(susceptible_protected_neighbors)\n",
        "                    disease_states[susceptible_protected] = \"I\"\n",
        "                    infected.append(susceptible_protected)\n",
        "                    N_infected += 1\n",
        "                    N_e_e += enw.degree(susceptible_protected)\n",
        "                    #time_record.append(t)\n",
        "                    #prevalence_count.append(N_infected)\n",
        "                    #recovered_count.append(N_recovered)\n",
        "            # Infection event #4: between S_N and I_N\n",
        "            else:\n",
        "                infected_not_protected = list(set(infected).intersection(not_protected))\n",
        "                if len(infected_not_protected)>0:\n",
        "                  infected_node = np.random.choice(infected_not_protected)\n",
        "                  neighbors = list(enw.neighbors(infected_node))\n",
        "                  susceptible_not_protected_neighbors = [node for node in neighbors if disease_states.get(node) == 'S' and node in not_protected]\n",
        "                  if len(susceptible_not_protected_neighbors)>0:\n",
        "                    susceptible_not_protected = np.random.choice(susceptible_not_protected_neighbors)\n",
        "                    disease_states[susceptible_not_protected] = \"I\"\n",
        "                    infected.append(susceptible_not_protected)\n",
        "                    N_infected += 1\n",
        "                    N_e_e += enw.degree(susceptible_not_protected)\n",
        "                    #time_record.append(t)\n",
        "                    #prevalence_count.append(N_infected)\n",
        "                    #recovered_count.append(N_recovered)\n",
        "\n",
        "          # Case 5: Disease recovery\n",
        "        elif event < p5:\n",
        "                recovered_node = np.random.choice(infected)\n",
        "                if q_deg_e < ldeg_e[recovered_node]/kmax_e:\n",
        "                    disease_states[recovered_node] = \"R\"\n",
        "                    infected.remove(recovered_node)\n",
        "                    recovered.append(recovered_node)\n",
        "                    N_infected -= 1\n",
        "                    N_recovered += 1\n",
        "                    N_e_e -= enw.degree(recovered_node)\n",
        "                    #time_record.append(t)\n",
        "                    #prevalence_count.append(N_infected)\n",
        "                    #recovered_count.append(N_recovered)\n",
        "\n",
        "\n",
        "          # Case 6: # Change to not adopting protection based on information layer\n",
        "          # n_G is the total spreader neighbors on the information layer,\n",
        "          # while k_info is the total neighbor count on the information layer\n",
        "        elif event < p6:\n",
        "            if len(protected) > 0:\n",
        "              node_to_not_protect = np.random.choice(protected)\n",
        "              n_G = sum(1 for node in filter(lambda x: info_states[x] == \"G\", inw.neighbors(node_to_not_protect)))\n",
        "              k_info = len(list(inw.neighbors(node_to_not_protect)))\n",
        "              if k_info > 0 and np.random.uniform() < n_G / k_info:\n",
        "                    lprot[node_to_not_protect] = \"N\"\n",
        "                    protected.remove(node_to_not_protect)\n",
        "                    not_protected.append(node_to_not_protect)\n",
        "                    N_protected -= 1\n",
        "\n",
        "          # Case 7: Change to adopting protection based on information layer\n",
        "        elif event < p7:\n",
        "            if len(not_protected) > 0:\n",
        "                node_to_protect = np.random.choice(not_protected)\n",
        "                n_G = sum(1 for node in filter(lambda x: info_states[x] == \"G\", inw.neighbors(node_to_protect)))\n",
        "                k_info = len(list(inw.neighbors(node_to_protect)))\n",
        "                if k_info > 0 and np.random.uniform() < 1 - n_G / k_info:\n",
        "                        lprot[node_to_protect] = \"P\"\n",
        "                        not_protected.remove(node_to_protect)\n",
        "                        protected.append(node_to_protect)\n",
        "                        N_protected += 1\n",
        "                        time_record.append(t)\n",
        "                        N_adopted +=1\n",
        "                        adopting_count.append(N_adopted)\n",
        "\n",
        "          # Case 8: # Change to not adopting protection based on neighborhood behavior in cognition layer\n",
        "        elif event < p8:\n",
        "            if len(protected) > 0:\n",
        "                node_to_not_protect = np.random.choice(protected)\n",
        "                n_P = sum(1 for node in filter(lambda x: lprot[x] == \"P\", cnw.neighbors(node_to_not_protect)))\n",
        "                k_cog = len(list(cnw.neighbors(node_to_not_protect)))\n",
        "                if k_cog > 0 and np.random.uniform() < 1 - n_P / k_cog:\n",
        "                        lprot[node_to_not_protect] = \"N\"\n",
        "                        protected.remove(node_to_not_protect)\n",
        "                        not_protected.append(node_to_not_protect)\n",
        "                        N_protected -= 1\n",
        "\n",
        "\n",
        "          # Case 9: # Change to adopting protection based on neighborhood behavior in cognition layer\n",
        "        else:\n",
        "            if len(not_protected) > 0:\n",
        "                node_to_protect = np.random.choice(not_protected)\n",
        "                n_P = sum(1 for node in filter(lambda x: lprot[x] == \"P\", cnw.neighbors(node_to_protect)))\n",
        "                k_cog = len(list(cnw.neighbors(node_to_protect)))\n",
        "                if k_cog > 0 and np.random.uniform() < n_P / k_cog:\n",
        "                        lprot[node_to_protect] = \"P\"\n",
        "                        not_protected.remove(node_to_protect)\n",
        "                        protected.append(node_to_protect)\n",
        "                        N_protected += 1\n",
        "\n",
        "  return time_record, adopting_count\n"
      ]
    },
    {
      "cell_type": "code",
      "execution_count": null,
      "metadata": {
        "colab": {
          "base_uri": "https://localhost:8080/"
        },
        "id": "H_NnnBI-BZpo",
        "outputId": "0aa40ad2-3fe3-43e1-e02f-8fabc86d615d"
      },
      "outputs": [
        {
          "name": "stdout",
          "output_type": "stream",
          "text": [
            "Degree Sequence:  [3, 3, 14, 6, 3, 6, 3, 4, 3, 4, 3, 4, 3, 3, 5, 3, 4, 3, 3, 3, 5, 3, 7, 10, 3, 9, 5, 4, 3, 3, 20, 4, 13, 6, 5, 6, 3, 8, 3, 5, 5, 12, 4, 6, 3, 5, 3, 3, 3, 3, 3, 7, 4, 7, 3, 3, 6, 3, 4, 6, 13, 3, 3, 3, 3, 3, 5, 4, 4, 4, 3, 4, 3, 3, 5, 5, 3, 4, 3, 3, 4, 3, 7, 3, 6, 9, 3, 3, 10, 4, 4, 10, 3, 7, 4, 3, 10, 3, 3, 5, 13, 3, 3, 3, 3, 3, 3, 4, 4, 4, 3, 9, 3, 6, 4, 3, 3, 6, 3, 4, 4, 3, 3, 10, 4, 6, 12, 4, 6, 3, 4, 4, 3, 5, 3, 13, 8, 5, 3, 3, 3, 3, 9, 5, 7, 3, 3, 3, 14, 11, 7, 6, 3, 9, 3, 3, 5, 3, 4, 7, 8, 4, 3, 4, 3, 14, 3, 3, 3, 3, 3, 3, 3, 3, 3, 3, 3, 3, 3, 3, 3, 3, 3, 3, 3, 3, 3, 3, 3, 3, 3, 3, 3, 3, 3, 3, 3, 3, 3, 3, 3, 3, 3, 3, 3, 3, 3, 3, 3, 3, 3, 3, 3, 3, 3, 3, 3, 3, 3, 3, 3, 3, 3, 3, 3, 3, 3, 3, 3, 3, 3, 3, 3, 3, 3, 3, 3, 3, 3, 3, 3, 3, 3, 3, 3, 3, 3, 3, 3, 3, 3, 3, 3, 3, 3, 3, 3, 3, 3, 3, 3, 3, 3, 3, 3, 3, 3, 3, 3, 3, 3, 3, 3, 3, 3, 3, 3, 3, 3, 3, 3, 3, 3, 3, 3, 3, 3, 3, 3, 3, 3, 3, 3, 3, 3, 3, 3, 3, 3, 3, 3, 3, 3, 3, 3, 3, 3, 3, 3, 3, 3, 3, 3, 3, 3, 3, 3, 3, 3, 3, 3, 3, 3, 3, 3, 3, 3, 3, 3, 3, 3, 3, 3, 3, 3, 3, 3, 3, 3, 3, 3, 3, 3, 3, 3, 3, 3, 3, 3, 3, 3, 3, 3, 3, 3, 3, 3, 3, 3, 3, 3, 3, 3, 3, 3, 3, 3, 3, 3, 3, 3, 3, 3, 3, 3, 3, 3, 3, 3, 3, 3, 3, 3, 3, 3, 3, 3, 3, 3, 3, 3, 3, 3, 3, 3, 3, 3, 3, 3, 3, 3, 3, 3, 3, 3, 3, 3, 3, 3, 3, 3, 3, 3, 3, 3, 3, 3, 3, 3, 3, 3, 3, 3, 3, 3, 3, 3, 3, 3, 3, 3, 3, 3, 3, 3, 3, 3, 3, 3, 3, 3, 3, 3, 3, 3, 3, 3, 3, 3, 3, 3, 3, 3, 3, 3, 3, 3, 3, 3, 3, 3, 3, 3, 3, 3, 3, 3, 3, 3, 3, 3, 3, 3, 3, 3, 3, 3, 3, 3, 3, 3, 3, 3, 3, 3, 3, 3, 3, 3, 3, 3, 3, 3, 3, 3, 3, 3, 3, 3, 3]\n",
            "Hyper Edge Sizes:  [3, 28, 10, 2, 4, 10, 27, 32, 3, 3, 31, 25, 21, 5, 37, 16, 25, 18, 28, 35, 20, 11, 29, 6, 17, 40, 38, 17, 25, 17, 5, 29, 42, 33, 33, 33, 36, 6, 22, 21, 10, 12, 32, 18, 10, 3, 39, 28, 42, 29, 25, 34, 35, 25, 2, 38, 27, 36, 33, 25, 10, 13, 11, 30, 21, 13, 25, 34, 41, 27, 8, 11, 5, 12, 37, 27, 3, 25, 6, 41, 20, 6, 9, 39, 39, 22, 22, 42, 25, 6, 33, 32, 10, 9, 20, 26, 31, 22, 25, 39, 30, 10, 12, 14, 11, 35, 23, 32, 6, 31, 4, 28, 7, 34, 2, 11, 16, 35, 38, 30, 21, 28, 18, 11, 12, 40, 2, 24, 21, 40, 41, 6, 6, 17, 16, 26, 13, 11, 6, 40, 37, 12, 24, 35, 27, 30, 4, 37, 9, 15, 19, 33, 4, 2, 40, 2, 4, 15, 13, 16, 32, 36, 35, 11, 15, 35, 9, 24, 29, 26, 19, 25, 27, 39, 23, 16, 21, 24, 6, 6, 32, 7, 6, 12, 27, 33, 34, 9, 37, 3, 34, 41, 19, 23, 39, 22, 11, 24, 30, 35, 7, 30, 24, 42, 26, 14, 20, 20, 8, 22, 25, 32, 17, 26, 30, 19, 7, 24, 34, 42, 13, 32, 32, 31, 29, 18, 7, 33, 19, 5, 34, 20, 7, 9, 26, 40, 12, 14, 35, 8, 6, 12, 30, 32, 10, 36, 25, 5, 40, 19, 42, 13, 20, 6, 8, 37, 26, 7, 7, 13, 11, 37, 23, 25, 6, 29, 32, 22, 20, 9, 10, 37, 6, 29, 17, 25, 17, 15, 20, 30, 28, 34, 17, 40, 17, 27, 33, 39, 31, 25, 37, 4, 12, 23, 40, 23, 10, 42, 22, 16, 11, 7, 17, 24, 38, 18, 42, 23, 3, 19, 19, 32, 8, 2, 4, 21, 7, 6, 29, 33, 16, 22, 20, 12, 8, 7, 5, 9, 10, 33, 2, 20, 31, 20, 20, 2, 11, 36, 11, 23, 39, 32, 18, 35, 27, 11, 15, 30, 29, 18, 8, 26, 27, 14, 27, 7, 8, 26, 40, 9, 40, 14, 10, 2, 24, 6, 37, 36, 42, 27, 42, 15, 16, 12, 30, 35, 25, 7, 13, 18, 16, 19, 26, 31, 29, 5, 37, 7, 37, 16, 31, 29, 7, 25, 14, 9, 36, 2, 17, 31, 3, 23, 12, 31, 40, 33, 22, 25, 22, 34, 36, 4, 13, 15, 20, 37, 33, 35, 38, 35, 22, 5, 8, 31, 11, 5, 33, 22, 13, 23, 40, 37, 42, 35, 10, 36, 37, 29, 6, 26, 27, 36, 37, 27, 5, 31, 11, 10, 30, 22]\n",
            "Hypergraph Dictionary:  {329: [0, 9, 139, 153, 155, 270, 304, 391], 243: [0, 34, 97, 111, 140, 172, 196, 210], 331: [0, 85, 286], 83: [1, 227, 237, 240, 318, 324, 468, 489, 495], 122: [1, 61, 491], 230: [1, 2, 40, 41, 149, 210, 258, 289, 451], 52: [2, 32, 61, 69, 112, 135, 200, 346, 424, 462], 317: [2], 447: [2, 3, 100], 279: [2, 55, 113, 269, 296], 218: [2, 32, 43, 153, 250, 305], 392: [2, 339], 286: [2, 30, 148, 271, 341, 397, 443], 441: [2, 124, 153, 202, 206, 211, 216, 268, 332, 340, 478], 245: [2, 93, 150, 311, 313, 331], 33: [2, 8, 40, 60, 132, 194, 206, 278, 374, 492], 176: [2, 29, 32, 77, 450, 461], 445: [2, 60, 98, 100, 133, 426, 448], 129: [2, 41, 88, 125, 352], 423: [3, 91, 223, 248, 333, 458], 144: [3, 25, 43, 100, 120, 238, 383], 426: [3, 126, 135, 202, 204, 234, 306, 362, 421], 67: [3, 23, 31, 69], 370: [3, 25, 60, 80, 100, 112, 120, 133, 136, 255, 424], 344: [4, 151, 159, 286, 426], 407: [4, 96, 203, 353, 403, 429], 172: [4, 9, 84, 106, 109, 124, 197], 161: [5, 24, 41, 111, 138], 91: [5, 58, 135, 348, 392], 146: [5], 16: [5, 15, 46, 153, 157, 184, 363, 372], 368: [5, 25, 37, 63, 127, 145, 153, 284, 309, 333, 359, 483], 444: [5, 179], 68: [6, 189, 317, 320, 339, 348], 403: [6, 82, 465, 466], 1: [6, 43, 99, 119, 134, 415], 77: [7, 51, 143, 357], 191: [7, 39, 101, 102, 160, 304, 317, 349, 376, 390], 431: [7, 88, 168, 410], 26: [7, 136, 148, 151, 396, 463], 145: [8, 25, 92, 366], 98: [8, 456], 140: [9, 14, 22, 33, 74, 103, 174, 249, 280, 420, 422], 132: [9, 60], 25: [10, 31, 67, 326], 435: [10, 49, 76, 87, 117, 168, 258, 367, 462], 103: [10, 165, 282], 369: [11, 66, 77, 127, 212, 428, 454, 482], 304: [11, 27, 41, 111, 214, 287, 431, 472], 107: [11, 66, 68, 118, 148, 186, 221, 398], 416: [11, 20, 59, 91, 132, 266, 269, 277, 300, 482, 485], 274: [12, 107, 194, 209], 169: [12, 36, 90, 253, 475], 248: [12, 83, 141, 266, 322], 261: [13, 32, 143, 148, 359, 423, 452], 297: [13, 159, 295, 433], 429: [13, 211, 256, 268, 284, 327, 343], 405: [14, 236, 464], 118: [14, 191, 308, 496], 395: [14, 97, 465], 162: [14, 43, 103, 159, 218, 244, 264], 315: [15, 486], 232: [15, 167, 362, 484], 336: [16, 150, 175], 449: [16, 71, 96, 144, 411, 434], 147: [16, 243, 319, 370, 445, 461, 496], 12: [16, 96, 123, 171, 322, 405], 109: [17, 23, 45, 88, 100, 355, 437], 143: [17, 82, 176, 184, 187, 229, 233, 272, 487], 94: [17, 81, 113, 162, 335, 373, 430], 284: [18, 22, 56, 116], 32: [18, 22, 30, 133, 187, 288, 290, 316, 343, 452, 480], 46: [18, 32, 71, 81, 126, 149, 154, 165, 174, 190, 191, 244, 262, 297, 414, 422, 461], 390: [19, 108, 116, 156, 274, 279, 481], 11: [19, 37, 138, 296, 402, 479], 192: [19, 85, 120, 135, 169, 491], 203: [20, 113, 157, 165, 189, 259, 303, 325, 354], 334: [20, 91, 199, 237, 478], 290: [20, 39, 50, 186, 199, 221, 274, 336, 371], 432: [20, 36, 60, 67, 70, 89, 126, 220, 318, 437], 393: [21, 25, 304], 339: [21, 104, 203, 393, 422], 66: [21, 131, 174], 69: [22, 102, 177, 185, 222, 352], 440: [22, 57, 107, 288, 314, 342, 359], 165: [22, 28, 367, 489], 188: [22, 33, 75, 83, 114, 121, 142, 185, 246, 337, 347, 413], 415: [23, 63, 123, 128, 148, 200, 207], 321: [23, 33, 394, 459], 265: [23, 32, 96], 151: [23, 58, 170, 240, 378, 459], 95: [23, 383], 87: [23, 152, 178, 280, 330, 440], 348: [23, 110, 143, 175, 256, 327, 340], 214: [23, 76, 87, 135, 207, 285, 437], 74: [24, 56, 160, 161, 400], 221: [24, 72, 125, 340], 39: [25, 165, 392, 459, 492], 389: [25, 130, 265, 458], 100: [25, 28, 142, 145, 232, 483], 50: [25, 46, 137, 267, 291], 383: [26, 40, 41, 93, 165, 231], 223: [26, 158, 286, 310, 487], 250: [26, 60, 142, 215, 291, 453], 170: [26, 136], 438: [26, 106, 224, 257], 219: [27, 195, 212, 376, 379, 416], 289: [27, 227, 305, 412], 194: [27, 35, 89, 213, 277, 385], 154: [28, 100, 116, 165, 197, 235, 401, 432], 340: [29, 57, 133, 236, 328, 350, 469, 481, 490], 448: [29, 37, 49, 225, 229, 260, 309, 446], 419: [30, 70, 85, 101, 122, 150, 160, 249, 257, 321, 433, 455], 28: [30, 96, 264, 283, 391, 441, 460], 160: [30, 32, 142, 211, 278, 455], 150: [30, 47, 234, 267, 305, 342], 18: [30, 60, 141, 336, 415], 180: [30, 123, 408], 111: [30, 227, 241, 251], 15: [30], 295: [30, 137, 240, 372, 374], 238: [30, 311, 332, 347], 292: [30, 94, 404, 471], 101: [30, 216, 331], 190: [30, 136, 307, 324, 368, 440], 108: [30, 124, 341, 386], 224: [30, 39, 135, 146, 246, 263, 363, 411, 435], 105: [30, 136, 153, 367, 472, 499], 119: [30, 265, 298, 398, 458], 198: [30, 64, 226, 360, 364, 467, 470], 51: [31, 37, 44, 150, 223, 261, 263, 351], 197: [31, 38, 60, 66, 134, 142], 386: [32, 82, 84, 86, 115, 181, 204, 251, 259, 302, 395], 273: [32, 75, 148, 264, 397], 216: [32, 115], 283: [32, 111, 160, 242, 296, 450, 480, 497], 246: [32, 135, 276, 303], 294: [32, 44, 149, 192, 224, 316, 328], 6: [33, 100, 283, 410], 171: [33, 126, 403], 79: [33, 126, 308, 471], 430: [34, 60, 113, 149, 230, 334, 390, 447, 499], 235: [34, 71, 123, 161, 205, 222, 310, 494], 183: [34, 86, 166, 453], 296: [34, 314], 106: [35, 56, 77, 148, 236, 255, 315, 318], 10: [35, 84, 301, 377, 399], 378: [35, 59, 294, 312, 344], 199: [35, 111, 149, 192, 249, 292, 366, 369], 300: [35], 421: [36], 0: [37], 332: [37, 165, 228, 415, 470], 193: [37, 120, 313, 382], 2: [37, 68], 428: [38, 82, 148, 160, 408], 130: [38, 101, 125, 156, 218, 243, 248, 293, 409, 417, 444], 345: [39], 418: [39, 276, 281, 295, 306, 464], 258: [40, 159], 439: [40, 299, 439], 56: [41, 96, 148, 247, 316, 348, 357], 357: [41, 76, 105, 329, 410, 423, 474], 282: [41, 173, 338], 320: [41, 64, 135, 214, 407], 133: [41, 129, 148], 271: [41, 45, 173, 279, 358], 220: [41], 127: [42, 58, 72, 192, 229, 326, 447, 465], 281: [42, 95, 159, 170, 183, 212, 238], 323: [42, 308, 454], 266: [42, 65, 80, 173, 204, 317, 376, 457, 466], 260: [43, 51, 53, 473], 280: [43, 128, 172, 275, 389, 435], 374: [44, 165, 384], 309: [45, 59, 261, 265], 353: [45, 47, 140, 205], 359: [45], 227: [46, 166, 176, 250, 293, 320], 195: [47, 443], 376: [48, 50, 143, 361, 388], 82: [48], 149: [48, 86, 201, 445], 351: [49, 364, 409], 215: [50, 488], 436: [51, 54, 208, 228, 413, 496], 58: [51, 217, 312], 121: [51, 58, 123, 190, 451, 497], 34: [51, 88, 104, 111, 136, 153], 71: [51, 130, 252, 361], 337: [52, 170, 223, 355, 419, 446, 474], 391: [52, 126, 129, 159, 282, 329, 349, 416, 475], 41: [52, 363], 48: [52, 59, 144, 239, 319], 253: [53], 324: [53], 270: [53, 426], 381: [53, 78, 214, 258, 295, 397], 222: [53, 68, 69, 80, 196, 205, 428, 436, 467, 476], 128: [53, 113, 208, 425], 365: [54], 55: [54, 78, 89, 111, 239, 260, 285, 299, 391, 495], 333: [55, 84], 264: [55, 418], 84: [56, 96, 125, 146, 150, 303, 330, 353, 384], 409: [56, 74, 202, 234, 285, 390, 439, 480], 347: [56, 66, 99, 105, 323, 392], 343: [57, 263, 313, 334, 365], 276: [59, 100, 247, 370], 400: [59, 163], 36: [60, 157, 161, 167, 178, 182, 279, 287, 302, 380, 438, 442], 164: [60, 123, 449], 275: [60, 133, 248, 294, 321, 403], 371: [60, 81, 128], 96: [61, 140, 150, 198, 272, 387, 432], 254: [62, 82], 63: [62, 68, 96, 183], 263: [62, 122, 237], 251: [63, 393, 460], 21: [64, 356, 466], 410: [65, 91, 266], 75: [65, 253, 450], 342: [66, 293, 377, 490], 8: [67, 103], 139: [67, 79, 186, 282, 302, 369, 373, 402], 204: [69, 91], 168: [70, 95, 128, 136, 179, 242, 250, 273, 370], 267: [71, 189, 299, 401, 460], 256: [72, 164, 254, 411], 257: [73, 404], 442: [73, 99, 152, 185, 274, 301], 388: [73, 91, 130, 149, 209, 224, 385, 399, 409, 428], 288: [74, 92, 163, 271, 323, 457], 311: [74, 117, 131, 168, 203, 342, 474], 125: [74, 98, 280, 454, 463], 312: [75], 398: [75, 119, 225, 269, 306, 394], 64: [75, 217, 245, 455, 498], 225: [77, 122, 309], 446: [78, 476], 247: [79, 135, 478], 184: [79, 123, 232, 283, 366, 379, 493], 310: [80, 123, 238, 407, 412, 486], 231: [82, 142, 156, 440, 443], 233: [82, 201, 448], 363: [83], 138: [84], 43: [84, 125, 150], 117: [85, 164, 319], 306: [85, 109, 254, 429, 436, 442, 468, 498], 14: [85, 255, 323, 345, 379, 423, 471], 35: [85, 288, 289, 380, 420, 427], 384: [85, 137, 298, 328, 442], 175: [85, 160, 333, 335, 493], 443: [87, 113, 114, 235, 388, 389, 421], 366: [88, 171, 334, 479], 99: [88, 90, 106, 131, 142, 165, 301, 375, 400, 418, 430], 262: [88, 94, 135, 190], 213: [88, 93, 132, 382], 7: [88, 92, 251, 427], 209: [88, 155], 402: [89, 149, 225, 360, 488], 239: [90, 126], 47: [90, 160, 284], 29: [91, 144, 182, 364], 24: [91, 151, 209, 453], 20: [91, 260, 329, 354, 395, 473], 367: [91, 181, 241, 322, 375, 381, 382], 259: [93, 169], 349: [93, 389, 477], 217: [93, 252, 427, 481, 488, 495], 19: [93, 114, 165, 188, 312, 436], 417: [94, 276, 320], 412: [94, 405, 487], 49: [95, 368, 396, 498], 303: [96, 130, 156, 215], 396: [96, 188, 345, 371, 425], 173: [97, 231, 335, 362, 383, 414], 361: [98, 357], 316: [99, 166, 431], 80: [99, 378], 136: [100, 143, 179, 452], 341: [100, 109, 314], 305: [100, 199], 110: [100], 301: [100, 245], 255: [102, 239, 325, 400, 438], 437: [104, 154, 244, 292], 211: [105, 254, 346, 494], 22: [107, 193, 262], 59: [107, 135], 364: [108, 115, 151, 222], 413: [108, 152], 212: [108], 358: [109, 193, 369, 412], 433: [110, 128, 167, 344, 469], 252: [110, 172, 208, 215, 287], 174: [111, 123, 188, 385], 293: [111, 147, 381, 438, 479], 360: [112, 117, 135, 226, 352, 429, 477], 420: [114, 142, 233, 289, 338], 249: [117, 177, 182, 341, 374], 202: [117, 206, 275, 307, 419], 61: [117, 195], 167: [118, 137, 139, 148, 165, 217, 220, 377, 399], 120: [118, 164, 275, 358], 308: [119], 31: [119, 213, 386, 490], 148: [121], 116: [121, 180], 85: [123, 183, 271, 375], 237: [124, 354], 185: [125, 162], 278: [126], 298: [126, 163, 180, 246, 291, 451], 399: [126, 145, 386, 444], 287: [126, 131, 165, 198, 219, 226, 347, 387, 473], 53: [126, 402], 373: [127, 360, 449], 73: [127, 325], 27: [128, 193, 245], 115: [129, 136, 163], 123: [134, 219, 337, 355], 186: [135, 326, 445, 486], 404: [137, 253], 177: [138, 270, 356], 424: [139], 372: [141, 144, 175, 247], 201: [142, 207, 398, 404], 97: [144, 356, 447], 131: [144, 300], 135: [144, 243, 256, 417, 456], 414: [146, 149], 205: [147, 368, 439], 380: [147, 290], 277: [148, 162, 262], 352: [148, 200, 230, 468], 142: [148, 169, 464], 102: [149, 467], 226: [149, 384], 86: [149, 424], 88: [151, 272, 433], 134: [151, 416], 44: [153, 196], 206: [153, 194, 484], 285: [154, 231, 252, 430], 93: [155], 38: [156, 365], 299: [158, 497], 113: [158, 213, 278, 387, 485], 350: [158], 159: [159, 235, 259, 281, 324], 153: [160], 327: [161, 176, 184, 485], 319: [165, 344], 325: [165], 92: [171, 343], 377: [177], 207: [178, 181, 499], 406: [180, 267, 290, 388], 210: [187, 449, 470], 89: [191, 337], 62: [195], 242: [197], 422: [198], 137: [201, 261, 432, 469], 408: [210], 354: [216, 394, 407], 307: [218, 298, 327], 57: [219, 371, 380], 338: [220, 273], 179: [221, 395], 272: [228, 448, 457], 241: [230], 9: [232], 236: [233, 268, 405], 200: [241], 328: [242, 331], 90: [257, 321, 401, 492], 356: [270], 379: [273], 17: [277], 382: [281, 413], 157: [292, 338, 381], 318: [294, 393, 462], 401: [297, 419], 229: [297], 302: [300, 372], 427: [307, 353], 182: [310, 420], 269: [311], 240: [315, 476], 163: [315], 375: [330, 339, 472, 493], 37: [332, 484, 489], 228: [336, 351, 361, 408], 362: [345, 491], 76: [346], 234: [349], 42: [350, 435, 441, 463], 65: [350, 425, 494], 13: [351], 291: [358], 385: [365], 141: [373], 425: [378], 30: [396], 104: [406, 421], 166: [406, 434], 3: [406], 434: [414], 158: [417], 70: [418, 446], 40: [431], 124: [434, 475], 196: [441], 326: [444], 78: [456], 394: [477], 268: [482], 322: [483]}\n",
            "Acceptance Threshold Sequence:  {0: 0.12482816859496876, 1: 0.09284715630460136, 2: 0.06641887867343119, 3: 0.13254039520578803, 4: 0.09762372596079222, 5: 0.07460923775044323, 6: 0.18005014604323966, 7: 0.0068588762416377375, 8: 0.17662363764812036, 9: 0.05138020155406757, 10: 0.09911264439571515, 11: 0.0585298807305733, 12: 0.15610913476417188, 13: 0.10868265962659156, 14: 0.050756542928808775, 15: 0.06129442100131773, 16: 0.17234342612179226, 17: 0.06583635962434563, 18: 0.10290729225933104, 19: 0.10542935310072493, 20: 0.032101484213590936, 21: 0.0419522627802472, 22: 0.07227087918449232, 23: 0.02506118384841785, 24: 0.09721803351975151, 25: 0.13961247999928145, 26: 0.0949740131999193, 27: 0.08626453671915545, 28: 0.0787753209585, 29: 0.08772588954903487, 30: 0.08488742306411594, 31: 0.05929309564803148, 32: 0.2069868123078789, 33: 0.017639485229044627, 34: 0.1240320450680216, 35: 0.16209242436956361, 36: 0.16376250607843734, 37: 0.06381535259046495, 38: 0.1416661424999957, 39: 0.09408083130312522, 40: 0.1419121240996176, 41: 0.0474514474433087, 42: 0.07959280080227657, 43: 0.15658324984242933, 44: 0.2120445670421005, 45: 0.009504112476552043, 46: 0.12116027100631865, 47: 0.08157187312223707, 48: 0.12179284633763196, 49: 0.07729322290710483, 50: 0.11205195380367322, 51: 0.1332949389970005, 52: 0.002687663483626812, 53: 0.06874335621324199, 54: 0.07738702349792574, 55: 0.04200262066562456, 56: 0.12779236368171484, 57: 0.09573327967616323, 58: 0.094216739924453, 59: 0.07861190359165574, 60: 0.11520844628854514, 61: 0.1627095260175349, 62: 0.05548557416112445, 63: 0.06742281087802796, 64: 0.10583948856650871, 65: 0.052631523039060074, 66: 0.1499003969089177, 67: 0.20662003002588894, 68: 0.055000540118598194, 69: 0.036408064724696196, 70: 0.15676844467287243, 71: 0.1147427622266631, 72: 0.1944958560821457, 73: 0.07455203101034084, 74: 0.15422302328277512, 75: 0.11259466388839033, 76: 0.11430854436558459, 77: 0.04115875752734993, 78: 0.09191409092813388, 79: 0.06061892231471297, 80: 0.09283927901378833, 81: 0.2092296257973472, 82: 0.06462391623149599, 83: 0.039701497061945736, 84: 0.12251590549100914, 85: 0.12418689543611149, 86: 0.18990001099755438, 87: 0.11497501591336075, 88: 0.13139434834410935, 89: 0.07755175248418608, 90: 0.08758252984240388, 91: 0.01637973948555166, 92: 0.13807851654627945, 93: 0.09300941327974283, 94: 0.12316163187239007, 95: 0.1199529455950612, 96: 0.048928781361184795, 97: 0.15747549641849296, 98: 0.11419626599499924, 99: 0.11821703177104233, 100: 0.1289089383213694, 101: 0.1538013030461027, 102: 0.0009694150172495364, 103: 0.08217104131865946, 104: 0.05641603732078576, 105: 0.05458274061353391, 106: 0.10592581910221058, 107: 0.0721713965416386, 108: 0.09914905587017271, 109: 0.058639905497805685, 110: 0.05536332267036693, 111: 0.0247836523369699, 112: 0.05597617060567533, 113: 0.06925282259430922, 114: 0.060857272818207624, 115: 0.07729804397450135, 116: 0.13810144330556728, 117: 0.031150473276604057, 118: 0.20593151489926917, 119: 0.12060584046306877, 120: 0.1500234333842786, 121: 0.15185253652748093, 122: 0.08993412929787492, 123: 0.12558974966028352, 124: 0.06983571497427907, 125: 0.15221725208807124, 126: 0.13725981080963662, 127: 0.12651552000507238, 128: 0.11701077409817841, 129: 0.21321762956579626, 130: 0.05901994178207262, 131: 0.02519054633958144, 132: 0.04665738808026494, 133: 0.11530807082756861, 134: 0.017105581362073685, 135: 0.07929649698124834, 136: 0.16663193280153235, 137: 0.08848775103262635, 138: 0.023928102782586322, 139: 0.06691511970174346, 140: 0.12291832732267016, 141: 0.07406649164934681, 142: 0.06849113494588521, 143: 0.1838106849210479, 144: 0.08753197650540379, 145: 0.10071101566088503, 146: 0.09779477779609713, 147: 0.09525594873545523, 148: 0.1444155560886661, 149: 0.04350231807085975, 150: 0.06333197577852706, 151: 0.1028494739150973, 152: 0.026102252000108114, 153: 0.1419564161149774, 154: 0.1082492259838004, 155: 0.08410262350244686, 156: 0.11291320233722316, 157: 0.11949481289086221, 158: 0.1339415481558008, 159: 0.0465102990617201, 160: 0.17552682144546283, 161: 0.04920087097688441, 162: 0.12094779650604875, 163: 0.13037047498017706, 164: 0.12450707749176357, 165: 0.10387178346397845, 166: 0.11334794011797822, 167: 0.1304104102914151, 168: 0.07718445257502755, 169: 0.05825360419586309, 170: 0.09665420001515243, 171: 0.1067339133355409, 172: 0.15688825740452783, 173: 0.09173291423779797, 174: 0.06939011992148744, 175: 0.12958548421897542, 176: 0.06263471842047626, 177: 0.01364950385079075, 178: 0.047267780907023785, 179: 0.0015537399459403939, 180: 0.10295235671230091, 181: 0.08485582816745538, 182: 0.12767833499895448, 183: 0.16316303242471014, 184: 0.0881297285319114, 185: 0.08987731712759517, 186: 0.18521533923352473, 187: 0.18555217029448304, 188: 0.1744447156295062, 189: 0.12172945529654121, 190: 0.07155342047768268, 191: 0.20851201395627242, 192: 0.0700751937207807, 193: 0.09452268218372288, 194: 0.017497963464208552, 195: 0.15692459126359606, 196: 0.1517906934352624, 197: 0.09010446654433986, 198: 0.14762784764061898, 199: 0.13954609102516058, 200: 0.07598879005032212, 201: 0.07069556294942993, 202: 0.09801629828597905, 203: 0.09564524216778657, 204: 0.06542264719586416, 205: 0.19077650141784977, 206: 0.10374132869542231, 207: 0.12824685325097893, 208: 0.091866532527563, 209: 0.042862205875079454, 210: 0.13407457079305973, 211: 0.032457040662704814, 212: 0.0565069863363592, 213: 0.17335565981345202, 214: 0.0795585556249358, 215: 0.058136394280667233, 216: 0.14975573242526316, 217: 0.10781468670342018, 218: 0.08197782835898802, 219: 0.1240635010845905, 220: 0.1225682030417028, 221: 0.11950759400637634, 222: 0.13510110277674192, 223: 0.08832079825823186, 224: 0.11932881766810323, 225: 0.11572015922008114, 226: 0.069858195844201, 227: 0.0680824490318778, 228: 0.08066801799527196, 229: 0.11606414641062389, 230: 0.03044549089482268, 231: 0.1386964489194688, 232: 0.09571063655642029, 233: 0.10674215756726366, 234: 0.1269616302284261, 235: 0.07001987217481342, 236: 0.03039921083997947, 237: 0.12423593149765311, 238: 0.10934116368771057, 239: 0.14556507548055145, 240: 0.005436250159070122, 241: 0.1957484848113816, 242: 0.06657269451772757, 243: 0.16224088675556902, 244: 0.06751737665097472, 245: 0.11760348156999934, 246: 0.1020114233266751, 247: 0.09809373050653168, 248: 0.08432390708241747, 249: 0.06638053097313451, 250: 0.12489872686773763, 251: 0.11703076469721685, 252: 0.1359951541283494, 253: 0.08146304027033552, 254: 0.06254871280063373, 255: 0.1033418938917294, 256: 0.10150270300731104, 257: 0.1606321605856967, 258: 0.0910884412219632, 259: 0.08594808962763319, 260: 0.10885172238943269, 261: 0.024791884963509897, 262: 0.08423838857843419, 263: 0.1228491821263778, 264: 0.19931268361766327, 265: 0.05128492352169623, 266: 0.11864282286922334, 267: 0.06368919284489914, 268: 0.10547377338318055, 269: 0.055310498359702726, 270: 0.14833319103890794, 271: 0.1875014219596937, 272: 0.16376340702218262, 273: 0.19001415694916934, 274: 0.12256527410587725, 275: 0.08758845587634244, 276: 0.05397682318745253, 277: 0.06538475230400406, 278: 0.17509052594352628, 279: 0.11027325596258819, 280: 0.14305124243331752, 281: 0.1307893450982259, 282: 0.16241530391335324, 283: 0.10211078108136688, 284: 0.10032110619587437, 285: 0.08001242448127999, 286: 0.14243948417686392, 287: 0.04402254540872577, 288: 0.07486276034262825, 289: 0.10059492074206279, 290: 0.19387653859561396, 291: 0.07023678586083024, 292: 0.06332899576313694, 293: 0.14355699796173807, 294: 0.09695711401775932, 295: 0.17731431305132905, 296: 0.11310367358525435, 297: 0.12953033252125265, 298: 0.1282063961738688, 299: 0.15815834073940616, 300: 0.06360268900746283, 301: 0.13360133330013807, 302: 0.1666939747132652, 303: 0.04398188020601227, 304: 0.05050940657742741, 305: 0.15899905219571686, 306: 0.2129896033433947, 307: 0.05265932990772387, 308: 0.07811061964451799, 309: 0.12749281558293343, 310: 0.11508273456264594, 311: 0.07808310858601403, 312: 0.04245269651306232, 313: 0.10124552756174446, 314: 0.15852068412253625, 315: 0.044801038308477585, 316: 0.139855589139385, 317: 0.1376404175642632, 318: 0.16784262353435353, 319: 0.0642991269886759, 320: 0.06057344727886483, 321: 0.09165539842599496, 322: 0.08694961804890705, 323: 0.13108729184285758, 324: 0.05493043222571275, 325: 0.04618859820431347, 326: 0.02281844820994361, 327: 0.13020402230103634, 328: 0.07120819932276906, 329: 0.09453709725644806, 330: 0.11892211491184049, 331: 0.06528873170830995, 332: 0.035134960570384635, 333: 0.07462053335126806, 334: 0.0724800294990809, 335: 0.1534659683117321, 336: 0.07086834083170183, 337: 0.08471394931044211, 338: 0.19595033337799725, 339: 0.16917043853284763, 340: 0.06009994598734674, 341: 0.11301246512967264, 342: 0.053091267419547734, 343: 0.17800160448460767, 344: 0.1801712303225576, 345: 0.09400527326714306, 346: 0.05378519391590911, 347: 0.15423994758902262, 348: 0.11790262957272, 349: 0.1646941480505734, 350: 0.1307803724969462, 351: 0.09793862443001873, 352: 0.2300013721298725, 353: 0.028358146805602086, 354: 0.17040855025690896, 355: 0.12639727735360945, 356: 0.11268113942323377, 357: 0.15238079521613146, 358: 0.07602159121383448, 359: 0.04534948773857742, 360: 0.12083742329033406, 361: 0.10574371920724322, 362: 0.1732341052138188, 363: 0.06762817955745208, 364: 0.13372273542873936, 365: 0.15119270128485235, 366: 0.06597256184961572, 367: 0.12980215305171922, 368: 0.13713889833613635, 369: 0.09715954097638399, 370: 0.08460969791343854, 371: 0.11994083588774819, 372: 0.08830078847627316, 373: 0.11257220976104394, 374: 0.06407792016213906, 375: 0.03936217651083308, 376: 0.1033040236608928, 377: 0.06772625488661325, 378: 0.1257891403633472, 379: 0.0834259274305051, 380: 0.13438202715085318, 381: 0.07653381077935964, 382: 0.12471622394734327, 383: 0.08929540092800926, 384: 0.08191099797053719, 385: 0.006191374103718242, 386: 0.15199379793368079, 387: 0.1271120739548875, 388: 0.08644632265047592, 389: 0.13394986333527542, 390: 0.11897145691802852, 391: 0.008296189762986253, 392: 0.11528347223162637, 393: 0.17306118272339477, 394: 0.10482041557420554, 395: 0.17216440119319365, 396: 0.13779018555365732, 397: 0.15872896732447486, 398: 0.1119984592543859, 399: 0.043541400344134375, 400: 0.08513765925157715, 401: 0.10940187279431313, 402: 0.12879717467861718, 403: 0.12262330578432651, 404: 0.12462405935633324, 405: 0.03693407029412786, 406: 0.08663715434535585, 407: 0.13964414351291585, 408: 0.180409900074507, 409: 0.032051100133709015, 410: 0.12468085259938988, 411: 0.14984213606316862, 412: 0.17724934970323045, 413: 0.14759302333681745, 414: 0.16869334217992954, 415: 0.2067338868593595, 416: 0.17740964003109572, 417: 0.16933873938868188, 418: 0.022182052317097495, 419: 0.08256331169824675, 420: 0.19418510026592103, 421: 0.09644936271290747, 422: 0.04425237272287985, 423: 0.10396058113385113, 424: 0.1429159504514085, 425: 0.05210847781866301, 426: 0.06032903467574835, 427: 0.08157339090680794, 428: 0.05481828175949177, 429: 0.09674286180286253, 430: 0.10700821465691965, 431: 0.1526201073734031, 432: 0.11793292952334113, 433: 0.10579108271684608, 434: 0.059622784032716404, 435: 0.16509301349300803, 436: 0.10576651065383746, 437: 0.1220000992739676, 438: 0.045143732452378675, 439: 0.16932541460831937, 440: 0.04454393897316622, 441: 0.12655175159570237, 442: 0.12011801625002656, 443: 0.10112085737062772, 444: 0.06674808724698862, 445: 0.1942902115869721, 446: 0.11337358335449904, 447: 0.05475239421082791, 448: 0.09027797168182661, 449: 0.15684127549892898, 450: 0.12158411086112311, 451: 0.02509650601002307, 452: 0.17801420750382796, 453: 0.14646740650135032, 454: 0.09528798596604302, 455: 0.13725210368936652, 456: 0.17334317042855463, 457: 0.15982498646528465, 458: 0.10615114958529952, 459: 0.13642136930813048, 460: 0.04167673399367942, 461: 0.09652423006973215, 462: 0.1361127683939405, 463: 0.10769292256547568, 464: 0.17002890367916784, 465: 0.04986864853439872, 466: 0.12464571883349232, 467: 0.16557803546599784, 468: 0.07313418806121846, 469: 0.1143580488272673, 470: 0.11182945094513419, 471: 0.07064298658815563, 472: 0.080502834455572, 473: 0.1178463710231903, 474: 0.0695329042906761, 475: 0.005243071697297791, 476: 0.16498868994030488, 477: 0.09343232075820088, 478: 0.1073033072011432, 479: 0.028709593399417074, 480: 0.1638430410914744, 481: 0.07195072048402974, 482: 0.11580354458730771, 483: 0.17609667665553394, 484: 0.10321428689520264, 485: 0.14398000049721554, 486: 0.0882163045068081, 487: 0.22654122208982816, 488: 0.03779972248650259, 489: 0.18395215863665154, 490: 0.05033773098367225, 491: 0.1386602489859467, 492: 0.10820726374949051, 493: 0.06940355983971182, 494: 0.03514829864185427, 495: 0.14907841158760743, 496: 0.10021017944330117, 497: 0.0686192820770119, 498: 0.1394160918282417, 499: 0.1315005854072944}\n",
            "Behavior Degree Sequence:  [3, 3, 6, 7, 3, 6, 4, 12, 10, 3, 3, 6, 3, 8, 3, 9, 3, 4, 22, 4, 4, 5, 3, 3, 3, 17, 3, 4, 4, 3, 3, 4, 3, 3, 4, 3, 3, 7, 4, 3, 3, 3, 4, 3, 6, 3, 8, 16, 3, 3, 3, 3, 4, 3, 3, 6, 3, 4, 3, 3, 3, 4, 4, 4, 5, 3, 5, 3, 3, 3, 5, 3, 3, 3, 4, 3, 5, 8, 3, 3, 4, 3, 3, 5, 5, 4, 3, 7, 4, 4, 3, 6, 4, 3, 5, 3, 3, 3, 3, 12, 3, 3, 3, 3, 3, 3, 4, 3, 3, 4, 5, 9, 3, 12, 4, 4, 5, 5, 4, 16, 3, 3, 3, 3, 3, 3, 3, 3, 5, 3, 3, 3, 3, 3, 3, 3, 3, 3, 3, 3, 3, 3, 3, 3, 3, 3, 3, 3, 3, 3, 3, 3, 3, 3, 3, 3, 3, 3, 3, 3, 3, 3, 3, 3, 3, 3, 3, 3, 3, 3, 3, 3, 3, 3, 3, 3, 3, 3, 3, 3, 3, 3, 3, 3, 3, 3, 3, 3, 3, 3, 3, 3, 3, 3, 3, 3, 3, 3, 3, 3, 3, 3, 3, 3, 3, 3, 3, 3, 3, 3, 3, 3, 3, 3, 3, 3, 3, 3, 3, 3, 3, 3, 3, 3, 3, 3, 3, 3, 3, 3, 3, 3, 3, 3, 3, 3, 3, 3, 3, 3, 3, 3, 3, 3, 3, 3, 3, 3, 3, 3, 3, 3, 3, 3, 3, 3, 3, 3, 3, 3, 3, 3, 3, 3, 3, 3, 3, 3, 3, 3, 3, 3, 3, 3, 3, 3, 3, 3, 3, 3, 3, 3, 3, 3, 3, 3, 3, 3, 3, 3, 3, 3, 3, 3, 3, 3, 3, 3, 3, 3, 3, 3, 3, 3, 3, 3, 3, 3, 3, 3, 3, 3, 3, 3, 3, 3, 3, 3, 3, 3, 3, 3, 3, 3, 3, 3, 3, 3, 3, 3, 3, 3, 3, 3, 3, 3, 3, 3, 3, 3, 3, 3, 3, 3, 3, 3, 3, 3, 3, 3, 3, 3, 3, 3, 3, 3, 3, 3, 3, 3, 3, 3, 3, 3, 3, 3, 3, 3, 3, 3, 3, 3, 3, 3, 3, 3, 3, 3, 3, 3, 3, 3, 3, 3, 3, 3, 3, 3, 3, 3, 3, 3, 3, 3, 3, 3, 3, 3, 3, 3, 3, 3, 3, 3, 3, 3, 3, 3, 3, 3, 3, 3, 3, 3, 3, 3, 3, 3, 3, 3, 3, 3, 3, 3, 3, 3, 3, 3, 3, 3, 3, 3, 3, 3, 3, 3, 3, 3, 3, 3, 3, 3, 3, 3, 3, 3, 3, 3, 3, 3, 3, 3, 3, 3, 3, 3, 3, 3, 3, 3, 3, 3, 3, 3, 3, 3, 3, 3, 3, 3, 3, 3, 3, 3, 3, 3, 3, 3, 3, 3, 3, 3, 3, 3, 3, 3, 3, 3, 3, 3, 3, 3, 3, 3, 3, 3, 3, 3, 3, 3]\n",
            "Degree Sequence:  [3, 3, 3, 3, 3, 3, 6, 3, 4, 3, 3, 4, 4, 3, 3, 3, 3, 3, 3, 5, 4, 3, 3, 3, 3, 3, 4, 4, 3, 3, 3, 4, 3, 3, 4, 3, 3, 3, 3, 4, 3, 3, 3, 3, 4, 3, 12, 3, 3, 3, 5, 3, 3, 3, 3, 3, 3, 3, 3, 3, 3, 3, 3, 3, 3, 3, 3, 3, 3, 3, 3, 3, 3, 3, 3, 3, 3, 3, 3, 3, 3, 3, 3, 3, 3, 3, 3, 3, 3, 3, 3, 3, 3, 3, 3, 3, 3, 3, 3, 3, 3, 3, 3, 3, 3, 3, 3, 3, 3, 3, 3, 3, 3, 3, 3, 3, 3, 3, 3, 3, 3, 3, 3, 3, 3, 3, 3, 3, 3, 3, 3, 3, 3, 3, 3, 3, 3, 3, 3, 3, 3, 3, 3, 3, 3, 3, 3, 3, 3, 3, 3, 3, 3, 3, 3, 3, 3, 3, 3, 3, 3, 3, 3, 3, 3, 3, 3, 3, 3, 3, 3, 3, 3, 3, 3, 3, 3, 3, 3, 3, 3, 3, 3, 3, 3, 3, 3, 3, 3, 3, 3, 3, 3, 3, 3, 3, 3, 3, 3, 3, 3, 3, 3, 3, 3, 3, 3, 3, 3, 3, 3, 3, 3, 3, 3, 3, 3, 3, 3, 3, 3, 3, 3, 3, 3, 3, 3, 3, 3, 3, 3, 3, 3, 3, 3, 3, 3, 3, 3, 3, 3, 3, 3, 3, 3, 3, 3, 3, 3, 3, 3, 3, 3, 3, 3, 3, 3, 3, 3, 3, 3, 3, 3, 3, 3, 3, 3, 3, 3, 3, 3, 3, 3, 3, 3, 3, 3, 3, 3, 3, 3, 3, 3, 3, 3, 3, 3, 3, 3, 3, 3, 3, 3, 3, 3, 3, 3, 3, 3, 3, 3, 3, 3, 3, 3, 3, 3, 3, 3, 3, 3, 3, 3, 3, 3, 3, 3, 3, 3, 3, 3, 3, 3, 3, 3, 3, 3, 3, 3, 3, 3, 3, 3, 3, 3, 3, 3, 3, 3, 3, 3, 3, 3, 3, 3, 3, 3, 3, 3, 3, 3, 3, 3, 3, 3, 3, 3, 3, 3, 3, 3, 3, 3, 3, 3, 3, 3, 3, 3, 3, 3, 3, 3, 3, 3, 3, 3, 3, 3, 3, 3, 3, 3, 3, 3, 3, 3, 3, 3, 3, 3, 3, 3, 3, 3, 3, 3, 3, 3, 3, 3, 3, 3, 3, 3, 3, 3, 3, 3, 3, 3, 3, 3, 3, 3, 3, 3, 3, 3, 3, 3, 3, 3, 3, 3, 3, 3, 3, 3, 3, 3, 3, 3, 3, 3, 3, 3, 3, 3, 3, 3, 3, 3, 3, 3, 3, 3, 3, 3, 3, 3, 3, 3, 3, 3, 3, 3, 3, 3, 3, 3, 3, 3, 3, 3, 3, 3, 3, 3, 3, 3, 3, 3, 3, 3, 3, 3, 3, 3, 3, 3, 3, 3, 3, 3, 3, 3, 3, 3, 3, 3, 3, 3, 3, 3, 3, 3, 3, 3, 3]\n"
          ]
        },
        {
          "name": "stderr",
          "output_type": "stream",
          "text": [
            "/usr/local/lib/python3.10/dist-packages/pandas/core/dtypes/cast.py:1641: DeprecationWarning: np.find_common_type is deprecated.  Please use `np.result_type` or `np.promote_types`.\n",
            "See https://numpy.org/devdocs/release/1.25.0-notes.html and the docs for more information.  (Deprecated NumPy 1.25)\n",
            "  return np.find_common_type(types, [])\n"
          ]
        }
      ],
      "source": [
        "n = 500  # Number of nodes\n",
        "\n",
        "# Information Layer\n",
        "gamma_i = 2.5  # Power-law exponent\n",
        "kmin_i = 3  # Minimum degree\n",
        "num_hyper_edges_i = 450  # Desired number of hyper edges\n",
        "ldeg_i, hyperedge_dict_i = build_hypergraph(n, gamma_i, kmin_i, num_hyper_edges_i)\n",
        "inw = hnx.Hypergraph(hyperedge_dict_i)\n",
        "ltre = assign_thresholds(inw, 0.1, 0.05)\n",
        "print(\"Acceptance Threshold Sequence: \", ltre)\n",
        "\n",
        "# Cognition Layer\n",
        "gamma_c = 3.0  # Power-law exponent\n",
        "kmin_c = 3  # Minimum degree\n",
        "ldeg_c = generate_degree_sequence(n, gamma_c, kmin_c)\n",
        "print(\"Behavior Degree Sequence: \", ldeg_c)\n",
        "cnw = nx.configuration_model(ldeg_c)\n",
        "frac_prot = 0.2\n",
        "lprot = assign_protection(cnw, frac_prot)\n",
        "\n",
        "# Epidemic Layer\n",
        "gamma_e = 4.0\n",
        "kmin_e = 3\n",
        "ldeg_e = generate_degree_sequence(n, gamma_e, kmin_e)\n",
        "print(\"Degree Sequence: \", ldeg_e)\n",
        "enw = nx.configuration_model(ldeg_e)"
      ]
    },
    {
      "cell_type": "code",
      "execution_count": null,
      "metadata": {
        "id": "iGOHKVGoPuRu"
      },
      "outputs": [],
      "source": [
        "from google.colab import drive\n",
        "drive.mount('/content/drive',force_remount=True)"
      ]
    },
    {
      "cell_type": "code",
      "execution_count": null,
      "metadata": {
        "id": "QJ13x8YpkTtK"
      },
      "outputs": [],
      "source": [
        "# Parameters\n",
        "R0 = 2.0\n",
        "\n",
        "lam = 0.2\n",
        "alp = 0.1\n",
        "zeta_1 = 0.3 #go to not protect by information\n",
        "zeta_3 = 0.0 #go to not protect by neighborhood behavior\n",
        "zeta_4 = 0.0 #go to protect by neighborhood behavior\n",
        "mu = 0.2\n",
        "beta_NN = R0 * mu / 4.5\n",
        "beta_PN = beta_NN * 0.8\n",
        "beta_NP = beta_NN * 0.6\n",
        "beta_PP = beta_NN * 0.4\n",
        "n_sample = 1\n",
        "zeta_2_range = np.arange(0.1, 0.15, 0.05)  # lambda values from 0.0 to 5.0 with step size 0.25\n",
        "\n",
        "# Initialize data frame to store the results\n",
        "result_df = pd.DataFrame()\n",
        "result_df2 = pd.DataFrame()\n",
        "\n",
        "# Define the number of iterations\n",
        "n_iterations = 200\n",
        "\n",
        "# Loop over lambda values\n",
        "for zeta_2 in zeta_2_range:\n",
        "    for i in range(1, n_iterations + 1):\n",
        "        time_record, adopting_count = ICE_model_no_control(inw, ldeg_i, ltre, cnw, ldeg_c, lprot, enw, ldeg_e, lam, alp, zeta_1, zeta_2, zeta_3, zeta_4, beta_PP, beta_NP, beta_PN, beta_NN, mu, n_sample)\n",
        "\n",
        "        # Store the results\n",
        "        iteration_dict = {\n",
        "            f'time_record_{i}': time_record,\n",
        "            f'adopting_count_{i}': adopting_count\n",
        "        }\n",
        "\n",
        "        # Append the results\n",
        "        result_df = pd.concat([result_df, pd.DataFrame(iteration_dict)], axis=1)\n",
        "\n",
        "    # Save to a csv file for each lambda value\n",
        "    result_df = np.transpose(result_df)\n",
        "    filename = f\"/content/drive/My Drive/Network_Tests/Speed_of_adoption/adopting_protection_zeta_4_0_zeta_2_{zeta_2:.2f}.csv\"\n",
        "    result_df.to_csv(filename, index=False)\n",
        "\n",
        "    # Clear result_df for the next iteration\n",
        "    result_df = pd.DataFrame()"
      ]
    },
    {
      "cell_type": "code",
      "source": [
        "n = 500  # Number of nodes\n",
        "\n",
        "# Information Layer\n",
        "gamma_i = 2.5  # Power-law exponent\n",
        "kmin_i = 3  # Minimum degree\n",
        "num_hyper_edges_i = 450  # Desired number of hyper edges\n",
        "ldeg_i, hyperedge_dict_i = build_hypergraph(n, gamma_i, kmin_i, num_hyper_edges_i)\n",
        "inw = hnx.Hypergraph(hyperedge_dict_i)\n",
        "ltre = assign_thresholds(inw, 0.1, 0.05)\n",
        "print(\"Acceptance Threshold Sequence: \", ltre)\n",
        "\n",
        "# Cognition Layer\n",
        "gamma_c = 3.0  # Power-law exponent\n",
        "kmin_c = 3  # Minimum degree\n",
        "ldeg_c = generate_degree_sequence(n, gamma_c, kmin_c)\n",
        "print(\"Behavior Degree Sequence: \", ldeg_c)\n",
        "cnw = nx.configuration_model(ldeg_c)\n",
        "frac_prot = 0.5\n",
        "lprot = assign_protection(cnw, frac_prot)\n",
        "\n",
        "# Epidemic Layer\n",
        "gamma_e = 4.0\n",
        "kmin_e = 3\n",
        "ldeg_e = generate_degree_sequence(n, gamma_e, kmin_e)\n",
        "print(\"Degree Sequence: \", ldeg_e)\n",
        "enw = nx.configuration_model(ldeg_e)"
      ],
      "metadata": {
        "colab": {
          "base_uri": "https://localhost:8080/"
        },
        "id": "L0_zsgY9IqVD",
        "outputId": "ce8daf1e-3555-402c-e663-9ec249b93b56"
      },
      "execution_count": 24,
      "outputs": [
        {
          "output_type": "stream",
          "name": "stdout",
          "text": [
            "Degree Sequence:  [3, 4, 4, 4, 5, 6, 14, 3, 14, 7, 6, 6, 3, 3, 3, 3, 13, 12, 3, 5, 4, 8, 3, 3, 6, 3, 3, 3, 9, 3, 3, 5, 8, 3, 3, 3, 3, 3, 12, 3, 3, 3, 4, 3, 4, 3, 5, 3, 3, 3, 4, 9, 4, 6, 6, 3, 4, 4, 3, 3, 3, 8, 20, 4, 4, 3, 3, 12, 3, 3, 4, 3, 3, 3, 4, 3, 9, 5, 3, 3, 5, 12, 10, 4, 5, 3, 3, 4, 3, 5, 11, 3, 5, 5, 3, 7, 3, 7, 3, 3, 6, 4, 4, 3, 4, 9, 4, 5, 15, 3, 11, 8, 3, 3, 4, 4, 4, 3, 3, 3, 11, 3, 4, 3, 11, 6, 4, 3, 5, 6, 11, 3, 3, 13, 10, 10, 3, 3, 3, 3, 6, 3, 4, 3, 3, 3, 4, 3, 4, 3, 3, 11, 19, 3, 9, 4, 3, 3, 3, 8, 4, 7, 4, 3, 6, 3, 4, 3, 3, 3, 3, 3, 3, 3, 3, 3, 3, 3, 3, 3, 3, 3, 3, 3, 3, 3, 3, 3, 3, 3, 3, 3, 3, 3, 3, 3, 3, 3, 3, 3, 3, 3, 3, 3, 3, 3, 3, 3, 3, 3, 3, 3, 3, 3, 3, 3, 3, 3, 3, 3, 3, 3, 3, 3, 3, 3, 3, 3, 3, 3, 3, 3, 3, 3, 3, 3, 3, 3, 3, 3, 3, 3, 3, 3, 3, 3, 3, 3, 3, 3, 3, 3, 3, 3, 3, 3, 3, 3, 3, 3, 3, 3, 3, 3, 3, 3, 3, 3, 3, 3, 3, 3, 3, 3, 3, 3, 3, 3, 3, 3, 3, 3, 3, 3, 3, 3, 3, 3, 3, 3, 3, 3, 3, 3, 3, 3, 3, 3, 3, 3, 3, 3, 3, 3, 3, 3, 3, 3, 3, 3, 3, 3, 3, 3, 3, 3, 3, 3, 3, 3, 3, 3, 3, 3, 3, 3, 3, 3, 3, 3, 3, 3, 3, 3, 3, 3, 3, 3, 3, 3, 3, 3, 3, 3, 3, 3, 3, 3, 3, 3, 3, 3, 3, 3, 3, 3, 3, 3, 3, 3, 3, 3, 3, 3, 3, 3, 3, 3, 3, 3, 3, 3, 3, 3, 3, 3, 3, 3, 3, 3, 3, 3, 3, 3, 3, 3, 3, 3, 3, 3, 3, 3, 3, 3, 3, 3, 3, 3, 3, 3, 3, 3, 3, 3, 3, 3, 3, 3, 3, 3, 3, 3, 3, 3, 3, 3, 3, 3, 3, 3, 3, 3, 3, 3, 3, 3, 3, 3, 3, 3, 3, 3, 3, 3, 3, 3, 3, 3, 3, 3, 3, 3, 3, 3, 3, 3, 3, 3, 3, 3, 3, 3, 3, 3, 3, 3, 3, 3, 3, 3, 3, 3, 3, 3, 3, 3, 3, 3, 3, 3, 3, 3, 3, 3, 3, 3, 3, 3, 3, 3, 3, 3, 3, 3, 3, 3, 3, 3, 3, 3, 3, 3, 3, 3, 3, 3, 3, 3, 3, 3]\n",
            "Hyper Edge Sizes:  [18, 14, 14, 29, 18, 38, 33, 22, 41, 42, 6, 27, 23, 12, 16, 41, 12, 42, 7, 26, 5, 27, 4, 42, 2, 31, 42, 34, 6, 42, 17, 21, 15, 37, 33, 12, 35, 41, 16, 10, 16, 34, 35, 17, 30, 28, 35, 27, 30, 23, 16, 32, 42, 30, 28, 14, 19, 26, 9, 36, 27, 17, 9, 32, 17, 17, 30, 40, 14, 24, 6, 8, 26, 21, 12, 13, 19, 6, 17, 28, 9, 39, 30, 6, 6, 6, 38, 27, 39, 25, 21, 2, 4, 23, 13, 43, 21, 17, 4, 27, 27, 4, 6, 11, 4, 9, 13, 22, 19, 35, 35, 39, 19, 3, 31, 28, 42, 26, 32, 10, 34, 30, 26, 42, 11, 5, 34, 19, 34, 19, 10, 42, 23, 39, 27, 35, 11, 33, 11, 23, 2, 24, 12, 12, 37, 43, 4, 7, 16, 20, 16, 42, 21, 7, 14, 35, 6, 37, 25, 2, 12, 32, 32, 16, 33, 24, 23, 33, 40, 24, 23, 6, 24, 38, 12, 23, 14, 27, 28, 42, 12, 19, 17, 23, 24, 18, 42, 6, 20, 33, 7, 23, 31, 2, 37, 42, 37, 33, 7, 4, 38, 28, 17, 3, 31, 12, 16, 34, 22, 12, 39, 38, 25, 5, 10, 24, 33, 17, 18, 20, 14, 2, 27, 37, 42, 42, 31, 32, 12, 34, 39, 28, 16, 41, 13, 29, 27, 23, 3, 24, 15, 34, 12, 30, 42, 30, 23, 34, 28, 17, 21, 23, 3, 38, 21, 22, 24, 15, 36, 25, 8, 35, 7, 39, 8, 27, 22, 19, 38, 24, 37, 35, 24, 19, 3, 9, 37, 15, 17, 9, 33, 6, 16, 42, 31, 31, 5, 40, 20, 4, 36, 7, 42, 12, 8, 7, 29, 21, 3, 2, 27, 20, 18, 2, 23, 42, 7, 3, 25, 23, 2, 9, 4, 28, 25, 19, 43, 22, 3, 33, 15, 11, 27, 3, 40, 43, 15, 23, 26, 23, 5, 33, 3, 23, 19, 32, 40, 28, 16, 5, 14, 22, 30, 13, 6, 7, 13, 27, 10, 35, 36, 34, 41, 17, 23, 11, 42, 40, 20, 27, 7, 26, 30, 4, 19, 41, 33, 24, 9, 14, 42, 18, 43, 5, 34, 29, 41, 37, 22, 14, 8, 41, 16, 19, 12, 38, 37, 34, 18, 10, 19, 7, 14, 36, 41, 24, 26, 7, 11, 16, 4, 28, 11, 26, 7, 37, 7, 11, 26, 24, 16, 36, 23, 40, 9, 24, 33, 42, 31, 12, 2, 40, 4, 35, 13, 5, 42, 14, 22, 33, 38, 35, 17, 21, 4, 5, 31, 39, 13, 9, 42, 3, 34, 11, 31, 16, 8, 15, 21, 33]\n",
            "Hypergraph Dictionary:  {359: [0, 57, 116, 129, 341, 386, 422], 399: [0, 91, 152, 465, 489], 211: [0, 77, 96, 152, 163, 273, 315, 327], 201: [1, 159, 282, 397, 419], 403: [1, 8, 53, 79, 165, 307, 399], 145: [1, 63, 101, 108, 129, 197, 265, 340, 379, 383], 355: [1, 149, 361], 341: [2, 186, 362, 491], 269: [2, 77, 120, 181, 373, 392], 134: [2, 63, 82, 276], 358: [2, 38, 52, 120, 142, 143, 165, 472], 387: [3, 21, 41, 62, 81, 206, 298, 355], 139: [3, 89, 104, 111, 213], 86: [3, 40, 97, 275, 293, 345, 442], 282: [3, 259, 320], 442: [4, 17, 59, 83, 243, 480], 85: [4, 366], 52: [4, 51, 70, 102, 159, 300, 323, 372, 477], 244: [4, 38, 84, 158, 220, 239, 262, 328, 421, 437], 171: [4, 452], 96: [5, 18, 44, 101, 252], 53: [5, 50, 67, 123, 187, 213, 435], 124: [5, 64, 251, 291], 287: [5, 43, 51, 126, 135, 383, 386, 444], 250: [5, 148, 382, 454], 243: [5, 51, 134, 154, 244, 295, 321], 81: [6, 97, 117, 152, 268, 478], 119: [6, 7, 133, 151, 313], 33: [6, 13, 78, 128, 397], 394: [6, 14, 164, 166, 297, 413], 23: [6, 90, 135, 150, 200, 291, 344, 407, 449], 374: [6, 11, 67, 77, 235, 375], 2: [6, 59, 107], 216: [6, 10, 97, 362, 455, 485, 487, 490], 5: [6, 31, 49, 119, 143, 260, 443], 115: [6, 42, 257, 352, 447], 319: [6, 43, 191, 310, 403, 483], 133: [6, 32, 95, 125, 180, 408, 421, 439, 482, 498], 144: [6, 59, 125, 127, 151, 158, 159, 179, 323, 347, 406], 242: [6, 63, 186, 333], 277: [7, 16], 325: [7, 29, 71, 228, 261, 278, 436, 458, 460], 328: [8, 156, 374], 155: [8, 19, 110, 368, 447], 186: [8, 48, 81, 87, 243, 287, 454], 231: [8, 120, 121, 137, 180, 206, 226], 228: [8, 29, 152, 255, 404, 453], 449: [8, 44, 106, 190, 367, 444, 462], 0: [8, 72], 415: [8, 199], 279: [8, 25, 171], 432: [8, 17, 40], 426: [8, 70, 90, 118, 296, 331, 333, 371, 417, 423, 441, 473, 490], 197: [8, 110, 132, 195], 436: [8, 60, 222, 440], 79: [9, 61, 62, 89, 154, 164, 270, 414, 488], 215: [9, 154, 251, 428], 446: [9, 163], 66: [9, 16, 23, 260], 51: [9, 54, 91, 274], 218: [9, 266, 349, 395, 478], 258: [9, 32, 38, 50, 165, 212, 331, 358], 27: [10, 288, 424, 426], 182: [10, 62, 111, 318, 399], 308: [10, 111, 122, 325], 150: [10, 32, 68, 80, 89, 124, 419], 268: [10, 133, 205, 252, 278], 390: [11, 17, 38, 86, 108, 117, 210, 392], 80: [11], 151: [11, 25, 133, 164, 181, 241, 277, 298, 317, 399, 492], 276: [11, 237, 271, 305, 313], 94: [11, 92, 172], 437: [12, 92, 161, 250, 293, 367], 9: [12, 87, 109, 198, 201, 323, 381, 411, 488], 29: [12, 124, 129, 219, 252, 255, 332, 450, 491], 385: [13, 15, 55, 135, 242, 325, 341, 346, 365], 48: [13, 134, 254], 14: [14, 95, 275, 338, 349, 496], 31: [14, 22, 191, 264, 455], 371: [15, 56, 362], 314: [15, 58, 108, 155, 257, 326, 390, 412, 418, 485], 177: [16, 105, 340], 164: [16, 42, 133, 489], 37: [16, 17, 42, 267, 486], 263: [16, 24, 147, 151, 208, 267, 396], 137: [16, 178, 180, 183, 416], 443: [16, 134], 283: [16, 17, 62, 87, 163, 175, 236, 374, 415], 212: [16, 66, 140, 402, 414, 484], 259: [16, 90, 110, 330, 364], 59: [16, 19, 53, 68, 219, 350, 359, 366, 439], 118: [16, 253, 451], 285: [17, 31, 47, 52, 169, 192, 286, 401, 460], 272: [17, 82, 198, 286, 324, 336], 389: [17], 176: [17], 162: [17, 28, 101, 152, 206, 230, 396], 369: [17, 57, 81, 99, 108, 199], 224: [17, 53, 76, 135, 146, 167, 224, 231, 310, 459], 440: [18, 38, 39, 106, 241, 376, 393, 453], 362: [18, 72, 121, 135, 210], 338: [19, 466, 491], 375: [19, 38, 107, 251, 429, 444], 192: [19, 82, 110, 433], 293: [20, 57], 396: [20, 46, 105, 127, 136], 67: [20, 83, 90, 110, 130, 178, 309, 369, 483, 499], 196: [20, 279, 328, 481], 340: [21, 50, 224, 273, 290, 488], 395: [21, 34, 128, 281], 408: [21, 56, 112, 160, 193, 398, 457], 418: [21, 62, 232, 424], 184: [21, 88, 214, 337, 364, 381], 109: [21, 51, 82, 95, 130, 339], 123: [21, 235, 279, 346], 43: [22, 80, 112, 134, 191, 324], 354: [22, 106, 434], 421: [23, 51, 110, 147, 166, 185, 256, 330, 363, 459], 107: [23, 78, 86, 270, 357], 233: [24, 60, 74, 81, 95, 294, 470], 42: [24, 76, 138, 160, 334], 230: [24, 32, 60, 115, 151, 156, 192, 217, 231, 316, 321, 453], 350: [24, 67, 86, 135, 371], 448: [24, 38, 54, 62, 133, 233, 347], 307: [25], 63: [26, 438, 471], 168: [26, 88, 229, 302, 445, 492], 152: [26, 96, 119, 157, 261], 356: [27, 110, 189, 215, 265, 303, 318], 206: [27, 125, 205, 272, 431], 205: [27, 186], 116: [28, 113, 216, 463, 472], 372: [28, 62, 173, 228, 282, 437, 481], 126: [28, 102, 124, 204, 218, 277, 407, 447], 55: [28, 74, 236, 449], 226: [28, 67], 161: [28, 81, 240, 290, 312], 120: [28, 55, 114, 138, 198, 442], 392: [28, 316], 386: [29, 44, 130, 162, 314, 487], 32: [30, 308], 17: [30, 116, 120, 122, 176, 216, 242, 280, 413], 102: [30, 239], 111: [31, 76, 90, 120, 124, 339, 344], 40: [31, 154, 161, 338, 486], 300: [31, 244, 332], 402: [32], 163: [32, 111, 267, 343], 333: [32, 67, 84, 312, 429, 446, 469, 494], 256: [32, 42, 56, 61, 192, 274, 301, 318, 401, 477, 499], 121: [33, 46, 53, 124, 245, 357], 4: [33, 75, 103, 329, 473], 313: [33, 54, 62, 92, 140, 348, 359], 72: [34, 93, 229, 249, 388, 429], 327: [34, 100, 134, 332, 431], 189: [35, 82, 95, 134, 140, 352, 433, 434], 38: [35, 179, 410, 472], 26: [35, 80, 172], 157: [36, 65, 67, 104, 151, 152, 216, 299, 345, 363], 414: [36, 331], 200: [36, 62, 81, 117, 154, 237, 314], 25: [37, 83, 85, 145, 176, 214, 264, 464], 445: [37, 108, 494], 304: [37, 202, 441], 405: [38, 122, 253, 354, 358, 373, 428], 158: [38, 61, 113, 138, 141, 168, 174, 243], 270: [38, 39, 66, 82, 102, 309, 378, 445], 127: [38, 62, 135, 178, 400], 60: [38, 82, 120, 153, 211, 377], 232: [39, 231, 294, 468], 97: [40, 351, 494], 88: [41, 81, 130, 386, 493, 497], 82: [41, 428, 433], 223: [43, 271, 403], 44: [44, 211, 292, 414], 73: [45, 70, 84, 93, 248, 270, 311, 319, 341, 466], 417: [45, 66, 142, 159, 255, 288, 376, 497], 292: [45, 103, 146, 194, 225, 347, 355, 377, 389, 485], 210: [46, 53, 75, 108, 269, 306, 496], 352: [46, 148, 302, 310, 471], 281: [46, 130], 383: [47, 135, 336], 377: [47, 100, 196, 199, 283, 311, 356, 379, 402, 421], 393: [48, 145, 151, 155, 174, 365], 21: [48, 61, 188, 495], 348: [49, 62, 258, 343, 395], 195: [49, 108, 139, 141, 169, 207, 286, 378, 409, 461], 142: [50, 98, 301], 169: [51, 315, 372, 471], 409: [51, 126], 36: [51, 74, 92, 295, 304, 305, 408], 130: [51, 111, 343], 376: [52, 55, 79, 107, 108, 184, 241, 334, 342, 382], 41: [52, 152, 154, 387], 185: [53, 161, 296], 367: [54, 80, 268, 387], 12: [54, 307, 371, 462, 479], 346: [54, 58, 62], 326: [56, 173, 413], 366: [57, 62, 129, 245, 288, 467, 486, 498], 252: [58], 344: [61, 223, 325], 239: [61, 189, 197, 280, 335], 225: [61, 105, 284, 423, 432, 461, 495], 284: [61, 151, 152, 239, 297, 305, 306, 375, 415], 428: [62], 413: [62, 67, 152, 157, 366, 394, 462, 470], 309: [62, 160, 225, 330], 261: [62, 115, 152, 301, 329, 370, 392], 76: [62, 107, 281], 132: [62, 95, 164, 203, 426, 474], 447: [62, 69, 182, 242], 365: [63, 98, 196, 212, 376, 388], 11: [64, 100, 105, 218, 411, 451], 429: [64, 113, 124, 153, 254, 337], 247: [64, 277, 289, 352], 68: [65, 129, 161], 423: [65, 154, 440, 456], 122: [67, 158, 212, 269, 380], 207: [67, 208, 210], 75: [67, 395, 422], 165: [67, 132, 345, 499], 173: [67, 123, 159, 238, 355, 436, 463, 475], 431: [68, 73, 105, 114, 151, 201, 326, 476, 487], 370: [69, 128, 348, 387, 390, 398], 149: [69], 15: [70, 101, 105, 249, 266, 303, 313, 410], 271: [71, 88, 126, 249, 401], 105: [71, 84, 108], 220: [72, 203, 450], 438: [73], 117: [73, 90, 391, 418], 112: [74], 351: [75, 303, 333, 389, 409, 482], 264: [76, 81], 154: [76, 116], 416: [76, 361, 385, 394], 254: [76, 81, 100, 166, 492], 297: [76, 78, 176, 205, 351], 330: [76], 296: [77, 84, 256, 372, 417, 468], 361: [77, 195, 329, 342, 445], 345: [79, 124], 172: [80, 134, 152, 201, 258, 262, 299, 438], 255: [81, 89, 221, 400], 407: [81, 136, 170, 406, 427], 131: [81, 130, 141, 184, 306, 317, 321, 424, 451], 110: [82, 109, 140, 194, 230, 384], 315: [82, 97, 194, 273], 128: [82, 99, 420], 381: [83, 105, 202], 316: [85, 89, 110, 111, 404], 45: [85, 170, 308, 312], 262: [87, 304], 349: [90, 120, 148, 183, 282, 337, 375, 383], 188: [90, 108, 150, 167, 283, 360], 204: [90, 134, 151, 367], 342: [90, 167, 319, 381], 74: [90, 108, 219], 260: [91, 493], 444: [92, 152, 168, 169, 223, 247], 143: [93, 432], 56: [93, 380, 419], 301: [93, 177, 290, 393], 179: [94, 105, 120, 405], 89: [94, 108, 353, 374], 175: [94, 152, 246, 339], 57: [95, 155, 394], 322: [96, 215, 435, 464], 170: [97, 467], 183: [97, 122, 124, 187, 338, 356], 30: [97, 326], 419: [98, 133, 397], 191: [99, 230, 283, 396], 167: [100, 148], 298: [100], 222: [102, 119, 405, 452], 83: [103, 125, 400], 280: [104, 152, 300, 482, 490], 198: [104, 114, 460], 430: [105, 110, 246, 265, 328, 377], 180: [106, 154, 170, 200], 156: [107, 272], 99: [108, 133, 159, 354, 416, 478], 47: [108, 144, 184, 446], 106: [108, 250], 357: [109, 152, 171, 182, 452, 465, 477], 166: [110, 112, 152, 183, 253, 287, 319, 425], 329: [110, 196], 178: [111, 188, 441], 100: [111, 126, 244, 360, 455], 16: [114], 337: [115, 151, 222, 232, 246, 296, 454, 479], 266: [115, 157, 209, 248, 284, 423, 425], 278: [116, 320], 302: [118, 173], 248: [118], 240: [120, 123, 229], 434: [120], 69: [120, 147, 476, 480], 229: [121, 139, 142, 159, 207, 263, 287, 404, 459], 98: [124, 379], 241: [124, 254], 219: [124, 208, 315], 227: [125, 143, 353], 135: [125, 185, 361], 1: [127], 217: [128, 209, 422], 433: [128, 131, 156, 268], 194: [129, 149, 162, 207, 233, 322, 476], 92: [130], 318: [130], 6: [130, 137, 175, 215, 278, 398, 465, 480], 273: [130, 269, 285, 293, 448], 265: [130, 203, 356, 420, 432], 336: [131, 177, 222, 226, 275, 320, 351, 417, 418], 95: [131, 161, 181, 250, 280, 391, 430], 412: [132, 188], 34: [133, 140, 232, 238, 298], 317: [133, 162, 227, 475], 138: [133, 357], 181: [133, 483], 400: [133, 484], 253: [133, 190, 276, 309, 389, 410, 437, 448], 347: [134, 135, 213, 227, 340, 426, 431], 87: [134, 335, 402, 469], 291: [135, 289], 54: [136, 166, 407, 415], 141: [137, 228, 233, 359, 430], 343: [139, 150, 274, 284, 412], 35: [140, 142, 234, 317, 382], 246: [144, 350], 78: [144, 262, 322, 425], 64: [145, 373, 390], 324: [146, 168, 342, 384, 385, 409, 427, 456], 90: [146, 161, 403], 439: [149, 311, 461, 467], 312: [151], 103: [152, 458], 84: [152], 153: [152, 190], 7: [153, 202, 256, 495], 245: [154, 164, 223, 257, 493], 22: [155, 368], 3: [159, 204, 391, 420, 450], 290: [160, 175, 182, 221, 446], 427: [161, 174, 304, 327, 436], 221: [162], 305: [164, 218, 297, 360, 369, 464], 335: [171, 237, 497], 8: [172, 322, 438, 470], 236: [177, 263, 354, 380, 473], 235: [179, 456], 61: [185, 466, 484], 108: [187, 221, 349], 382: [189, 292, 346], 398: [193, 489], 234: [193, 299], 331: [195, 227, 294, 408, 463], 384: [197, 308, 385], 147: [200], 404: [204], 334: [209, 334, 468], 294: [211, 259], 380: [214], 46: [217, 260, 348, 370, 474], 209: [217, 440], 321: [220, 481], 202: [220, 245, 430], 251: [224], 148: [225, 247, 285, 300], 70: [226], 373: [234], 237: [234, 457], 364: [235, 264], 274: [236, 458], 368: [238, 469], 65: [240], 311: [240], 353: [247, 302, 384], 19: [248, 365, 448], 49: [258, 316], 332: [259, 406], 424: [261, 266], 379: [263, 363], 93: [271, 292, 412, 434, 457], 401: [272], 114: [276, 405, 449], 39: [279], 213: [281], 339: [285], 422: [289], 288: [291], 160: [295, 378], 214: [307, 353], 406: [314], 199: [324, 364], 174: [327, 350, 435], 411: [335, 439], 50: [336], 208: [344], 410: [358], 91: [368], 104: [369, 475], 129: [370], 267: [388], 24: [393], 125: [411], 306: [416], 249: [427], 190: [442], 323: [443], 388: [443], 187: [474], 295: [479], 18: [496], 425: [498]}\n",
            "Acceptance Threshold Sequence:  {0: 0.08919923853245483, 1: 0.1231941410056832, 2: 0.1311484391738751, 3: 0.19828386474824933, 4: 0.13959893094756165, 5: 0.10983115980761325, 6: 0.13663333990771537, 7: 0.1181606538679274, 8: 0.07715769764660906, 9: 0.10908061968689882, 10: 0.24251666462489585, 11: 0.1027805117605533, 12: 0.19424580585197446, 13: 0.10129392659745817, 14: 0.1268758524305538, 15: 0.07722527861992974, 16: 0.0693080837198676, 17: 0.11563637470838133, 18: 0.13308434398717853, 19: 0.0997532356457013, 20: 0.21567515512793525, 21: 0.08292442423207172, 22: 0.1344772859009603, 23: 0.193933032556974, 24: 0.08317149317645436, 25: 0.03711948689065385, 26: 0.09206719838230909, 27: 0.09507467869572192, 28: 0.14683203743564285, 29: 0.07696122824973262, 30: 0.06376116594228826, 31: 0.07297435596381932, 32: 0.15553256074764588, 33: 0.08396734421347112, 34: 0.15418923017303385, 35: 0.11004539534152306, 36: 0.13779660844600158, 37: 0.11798856412313917, 38: 0.08961484481829193, 39: 0.05842370826834548, 40: 0.13007672993098335, 41: 0.18393735643484674, 42: 0.09890492943639409, 43: 0.1596589016453907, 44: 0.047898763060840725, 45: 0.10733565063907925, 46: 0.128744537229105, 47: 0.11147027681513295, 48: 0.0843145954890642, 49: 0.11687746597683046, 50: 0.0992170015649929, 51: 0.08899081741946514, 52: 0.15115186916290907, 53: 0.1200358104186818, 54: 0.08616909259739675, 55: 0.07617328610447222, 56: 0.03986872923974105, 57: 0.1335309415355487, 58: 0.09673114712993705, 59: 0.1986120221796478, 60: 0.205338374930799, 61: 0.18385844289781886, 62: 0.0874614804029237, 63: 0.12687617957597988, 64: 0.05108012869788356, 65: 0.0862526152726487, 66: 0.06195485708238528, 67: 0.027989303501407048, 68: 0.2232617782715117, 69: 0.13334759678359936, 70: 0.04052914299042953, 71: 0.02474881782974339, 72: 0.0692143646527337, 73: 0.04836982484987711, 74: 0.11790534610902177, 75: 0.1032780489319471, 76: 0.08892629535890509, 77: 0.08169218061354225, 78: 0.09257029318027199, 79: 0.1152987091261736, 80: 0.03452318551013242, 81: 0.05517855357362736, 82: 0.1138315461187395, 83: 0.058458620871321476, 84: 0.16098982724503372, 85: 0.09901704225512573, 86: 0.07806076019764564, 87: 0.10301141650835459, 88: 0.2419264507383558, 89: 0.12209347626484043, 90: 0.08858356547170466, 91: 0.0006133160610423266, 92: 0.12990727044469708, 93: 0.0792931480263162, 94: 0.03555948864318263, 95: 0.09409240829586595, 96: 0.15318367717310835, 97: 0.11658387626950167, 98: 0.07591346263411261, 99: 0.1069182217918439, 100: 0.13059298481090492, 101: 0.025918641806689277, 102: 0.07814527982652811, 103: 0.06710754293371803, 104: 0.11218386265514453, 105: 0.11883823212654634, 106: 0.033443262684686156, 107: 0.1117804410803151, 108: 0.049441968528418714, 109: 0.16861278209068897, 110: 0.05001270202905141, 111: 0.08671571521923802, 112: 0.14060550143377396, 113: 0.1267543189635484, 114: 0.1277041641973069, 115: 0.11943131053589665, 116: 0.1179121769276679, 117: 0.09058097335340831, 118: 0.18602570360212076, 119: 0.14059513679417687, 120: 0.027156547480918836, 121: 0.09467908401209088, 122: 0.1504907541765222, 123: 0.08844507450975536, 124: 0.050557675838500536, 125: 0.14661310075627415, 126: 0.10270104797572442, 127: 0.12898751729515973, 128: 0.12484156048878595, 129: 0.06884581388437364, 130: 0.03692441333863247, 131: 0.10951740072717735, 132: 0.06845353043535785, 133: 0.12088536781410701, 134: 0.11252654747353298, 135: 0.023906186894940812, 136: 0.11833751033093322, 137: 0.08522096559167394, 138: 0.20695417771230779, 139: 0.0037571342241890238, 140: 0.2384260606853611, 141: 0.11821749062880232, 142: 0.12491631838429532, 143: 0.051495902461431195, 144: 0.09520531824237707, 145: 0.061330897687368435, 146: 0.1249277867537665, 147: 0.05161634886600894, 148: 0.16206650527454658, 149: 0.09029381695276799, 150: 0.0772412403872521, 151: 0.15173609890804535, 152: 0.1651477202364576, 153: 0.1015577763013074, 154: 0.11017240521477603, 155: 0.12394914433498672, 156: 0.11231969819484794, 157: 0.12760938884969192, 158: 0.16610621239102485, 159: 0.09619107393247432, 160: 0.13660171202910315, 161: 0.08852982746217562, 162: 0.20214595293012355, 163: 0.03856766199953291, 164: 0.14661599209642115, 165: 0.0676452572432648, 166: 0.181921844454666, 167: 0.08564612553341806, 168: 0.10747908816819787, 169: 0.08196999248341667, 170: 0.09673433790690067, 171: 0.08316876867784534, 172: 0.03059854753023737, 173: 0.11070740262626999, 174: 0.19183585170911596, 175: 0.13631740202993492, 176: 0.06015623820882929, 177: 0.09646868310982037, 178: 0.02370052261881006, 179: 0.1763080045921373, 180: 0.15184971502985, 181: 0.0797371953778492, 182: 0.10506168408526656, 183: 0.12117399260055334, 184: 0.09282128642795062, 185: 0.06253731451593719, 186: 0.14819736525035088, 187: 0.142926547425043, 188: 0.02881968921132161, 189: 0.20985027042711704, 190: 0.04167825082623442, 191: 0.17030942142217276, 192: 0.07883643912170821, 193: 0.09174468619930481, 194: 0.1606093462982699, 195: 0.07617940591565513, 196: 0.09268809227098117, 197: 0.2054034429785445, 198: 0.08901250253810986, 199: 0.13507092005616705, 200: 0.16505978327522797, 201: 0.09853169493229146, 202: 0.12251199953126053, 203: 0.0331085232064202, 204: 0.13431520307217665, 205: 0.07854514354869796, 206: 0.13315272547688983, 207: 0.12436341992536407, 208: 0.1433715132480482, 209: 0.10336948320222418, 210: 0.0836468960736083, 211: 0.05342674956384179, 212: 0.14619162330445573, 213: 0.024098686586767698, 214: 0.10916724637080666, 215: 0.01970816818285008, 216: 0.20827593662760868, 217: 0.1373813737321951, 218: 0.04036490012139396, 219: 0.10891017200902642, 220: 0.1056452894141909, 221: 0.017752825131377686, 222: 0.09605183908379583, 223: 0.14169579831397616, 224: 0.002799078163211857, 225: 0.1498994302368934, 226: 0.14099804098813412, 227: 0.24812914825786725, 228: 0.015282320946490069, 229: 0.08863910295092303, 230: 0.10575732136216107, 231: 0.07362452916511383, 232: 0.1367953246422596, 233: 0.11272729263414707, 234: 0.14809219749518707, 235: 0.16215888479636315, 236: 0.07734971874633756, 237: 0.03607845332335281, 238: 0.1415581574742909, 239: 0.16062957054888394, 240: 0.04239280372311208, 241: 0.07344224381709, 242: 0.0688160135244207, 243: 0.019304552235392666, 244: 0.024979703408069473, 245: 0.06666523671993992, 246: 0.1305831285219745, 247: 0.06577864447832078, 248: 0.09086730779447753, 249: 0.13819909524116666, 250: 0.13967488437167325, 251: 0.1037181269177728, 252: 0.12393259596769422, 253: 0.0913378704045027, 254: 0.07559198795503147, 255: 0.09669759321505632, 256: 0.04905727758371434, 257: 0.08549391127588087, 258: 0.0673457278518124, 259: 0.11296346066780664, 260: 0.1667833089122166, 261: 0.06002383864625685, 262: 0.1665039571532609, 263: 0.1475830526719918, 264: 0.1458561545657043, 265: 0.03408234395943739, 266: 0.03527000348247418, 267: 0.07392398848070608, 268: 0.12922179456649727, 269: 0.12422621826552707, 270: 0.04920784152252538, 271: 0.00818585595491407, 272: 0.09818244274516572, 273: 0.08933398291725024, 274: 0.04911462506391943, 275: 0.17207364661316069, 276: 0.09364095905751221, 277: 0.16498866432462456, 278: 0.13666801039787718, 279: 0.19645514037627976, 280: 0.05775120516857252, 281: 0.05085389194481036, 282: 0.07430691809537379, 283: 0.10270763570420756, 284: 0.06876596483138246, 285: 0.12478710234465988, 286: 0.09581196905878935, 287: 0.16441912977576412, 288: 0.09448162893764003, 289: 0.0769209909626542, 290: 0.03279146080893024, 291: 0.18562618677832138, 292: 0.047914873314282395, 293: 0.1663829053425695, 294: 0.11263704472877456, 295: 0.09808887503968784, 296: 0.04223563092872909, 297: 0.08228481326608242, 298: 0.034369655235226004, 299: 0.13954853825607585, 300: 0.11664600828562385, 301: 0.19297874537278265, 302: 0.014719550516907959, 303: 0.09076856051087322, 304: 0.19010271138367507, 305: 0.08345575708811213, 306: 0.1292187078232602, 307: 0.13933580009225027, 308: 0.11632223190638619, 309: 0.04587186440083294, 310: 0.07380122531030132, 311: 0.07013836040511286, 312: 0.06382548171156374, 313: 0.01672439250916473, 314: 0.12840584250143133, 315: 0.10145928216250226, 316: 0.09777763381191715, 317: 0.09312542060487529, 318: 0.1390213092998072, 319: 0.09106140431402662, 320: 0.029037511981463288, 321: 0.08755133815646596, 322: 0.08728369183313052, 323: 0.08080469085705438, 324: 0.0793326725479579, 325: 0.026280422924258334, 326: 0.16777539872978287, 327: 0.11003884116984802, 328: 0.07095317829640292, 329: 0.1409712811461655, 330: 0.10827814766390635, 331: 0.11979390622879262, 332: 0.01927926309188696, 333: 0.044986929868340714, 334: 0.11794457188255666, 335: 0.1010777421663862, 336: 0.10178285072854958, 337: 0.07014234592886152, 338: 0.06296508991145157, 339: 0.06884043316897846, 340: 0.041323069131670734, 341: 0.08028404828760666, 342: 0.11873263095905699, 343: 0.04915372105116601, 344: 0.11419641435875895, 345: 0.03403164715996086, 346: 0.11164381166592283, 347: 0.15374290178963546, 348: 0.09387869013389091, 349: 0.09443021013264606, 350: 0.06047831369804804, 351: 0.12345634585310739, 352: 0.04809248497318017, 353: 0.12253081700870262, 354: 0.1995138238610758, 355: 0.11302169549830424, 356: 0.1614086542944593, 357: 0.11044257711958297, 358: 0.02870679939265834, 359: 0.06507004209883403, 360: 0.14403730768535547, 361: 0.09284131733677034, 362: 0.05657528619537602, 363: 0.07456877095365343, 364: 0.12863251913170073, 365: 0.10807589876202443, 366: 0.1276158983151529, 367: 0.06668594352541427, 368: 0.0732460291025876, 369: 0.030613747959900503, 370: 0.19414316692292824, 371: 0.049797507396866086, 372: 0.07643948729596568, 373: 0.07165147141359701, 374: 0.12072628995016949, 375: 0.030252993241120504, 376: 0.21142898321707984, 377: 0.05890028964353941, 378: 0.0333151748408939, 379: 0.12140906573147643, 380: 0.10953773373632839, 381: 0.049095961197056316, 382: 0.08938985110983778, 383: 0.12202311960188442, 384: 0.22064775894053967, 385: 0.12581170598440372, 386: 0.14072147706886998, 387: 0.07800367759624731, 388: 0.08021027492708448, 389: 0.10817569825868634, 390: 0.05321819716253929, 391: 0.04389625850643195, 392: 0.043752932776764876, 393: 0.09624888876021279, 394: 0.07177165570165579, 395: 0.0894660602780658, 396: 0.10026852121106622, 397: 0.0720839200853468, 398: 0.0546713590782214, 399: 0.0010856347717738551, 400: 0.09317750531925921, 401: 0.04797070095914912, 402: 0.18140621391765233, 403: 0.19386549747813286, 404: 0.10601782614072676, 405: 0.11544708001242529, 406: 0.13140926090756605, 407: 0.10085110149037094, 408: 0.07107179886034681, 409: 0.06684450350454317, 410: 0.08229255954559217, 411: 0.06118600085053508, 412: 0.08636474077780415, 413: 0.030305864875693297, 414: 0.1836952397601213, 415: 0.111822011325383, 416: 0.18318132879954618, 417: 0.10394298001480153, 418: 0.11552903441532657, 419: 0.10222910188213542, 420: 0.034522415138222656, 421: 0.08854245202014344, 422: 0.11343075566295373, 423: 0.11108806982638086, 424: 0.06787711465646373, 425: 0.08213376946220684, 426: 0.0601390423755159, 427: 0.13162881939432639, 428: 0.15593877236426745, 429: 0.1402282326243976, 430: 0.12632534570191176, 431: 0.15090613906037043, 432: 0.09166983501697142, 433: 0.0447044439848468, 434: 0.09296237352668651, 435: 0.0613780989700288, 436: 0.14782014885781336, 437: 0.05476880750395762, 438: 0.15289878839356352, 439: 0.20553610617770396, 440: 0.07793864804112789, 441: 0.09022750261463529, 442: 0.09995368454950894, 443: 0.0744458544202509, 444: 0.012764949525085903, 445: 0.07609000881897068, 446: 0.1043885700264934, 447: 0.06429601817408571, 448: 0.018394721055124505, 449: 0.04746201661823745, 450: 0.029828247514308362, 451: 0.10921874904670181, 452: 0.12551593834117858, 453: 0.12269741373824775, 454: 0.027014332366098168, 455: 0.11274706211507762, 456: 0.16849818825526747, 457: 0.19083163063926709, 458: 0.05838347156666311, 459: 0.13911807378445212, 460: 0.087515024299917, 461: 0.09211720159069711, 462: 0.07276237049348792, 463: 0.13190336401412742, 464: 0.1773332731414241, 465: 0.12469259882248598, 466: 0.07539760148998287, 467: 0.05991381462994885, 468: 0.12241883743314666, 469: 0.16452213245532898, 470: 0.06864004470095825, 471: 0.1853283926178616, 472: 0.12169665072295617, 473: 0.16048953096507781, 474: 0.16210028740872612, 475: 0.056709974675747545, 476: 0.13018613294575454, 477: 0.0861802853685532, 478: 0.1582109720007316, 479: 0.05591504303361566, 480: 0.07859273251424209, 481: 0.14853722134981406, 482: 0.09913578932912562, 483: 0.05780050324681237, 484: 0.15242742740334841, 485: 0.14674407772621648, 486: 0.06799643336745992, 487: 0.10566796683973946, 488: 0.12307050014155166, 489: 0.06943567271093942, 490: 0.07484985238503863, 491: 0.10645939161785495, 492: 0.09698518388310959, 493: 0.1507839344991767, 494: 0.000450832392290032, 495: 0.11832753573802224, 496: 0.12231707454114726, 497: 0.08198793114192728, 498: 0.14059358214604262, 499: 0.1195390081959437}\n",
            "Behavior Degree Sequence:  [4, 4, 3, 4, 7, 3, 5, 11, 3, 3, 4, 3, 3, 3, 5, 5, 3, 4, 3, 4, 3, 9, 10, 17, 8, 3, 3, 4, 4, 3, 8, 8, 10, 7, 3, 4, 3, 3, 13, 11, 6, 10, 4, 3, 5, 3, 5, 3, 3, 3, 6, 14, 3, 3, 3, 3, 3, 3, 3, 3, 3, 11, 3, 3, 3, 4, 3, 13, 3, 4, 6, 3, 3, 3, 3, 3, 5, 3, 3, 3, 3, 3, 7, 3, 5, 6, 3, 3, 3, 5, 3, 3, 3, 3, 3, 4, 3, 3, 4, 3, 3, 3, 7, 3, 5, 22, 9, 5, 3, 4, 3, 4, 4, 3, 3, 3, 4, 3, 3, 7, 3, 3, 3, 3, 3, 3, 3, 3, 3, 3, 3, 3, 3, 3, 3, 3, 3, 3, 3, 3, 3, 3, 3, 3, 3, 3, 3, 3, 3, 3, 3, 3, 3, 3, 3, 3, 3, 3, 3, 3, 3, 3, 3, 3, 3, 3, 3, 3, 3, 3, 3, 3, 3, 3, 3, 3, 3, 3, 3, 3, 3, 3, 3, 3, 3, 3, 3, 3, 3, 3, 3, 3, 3, 3, 3, 3, 3, 3, 3, 3, 3, 3, 3, 3, 3, 3, 3, 3, 3, 3, 3, 3, 3, 3, 3, 3, 3, 3, 3, 3, 3, 3, 3, 3, 3, 3, 3, 3, 3, 3, 3, 3, 3, 3, 3, 3, 3, 3, 3, 3, 3, 3, 3, 3, 3, 3, 3, 3, 3, 3, 3, 3, 3, 3, 3, 3, 3, 3, 3, 3, 3, 3, 3, 3, 3, 3, 3, 3, 3, 3, 3, 3, 3, 3, 3, 3, 3, 3, 3, 3, 3, 3, 3, 3, 3, 3, 3, 3, 3, 3, 3, 3, 3, 3, 3, 3, 3, 3, 3, 3, 3, 3, 3, 3, 3, 3, 3, 3, 3, 3, 3, 3, 3, 3, 3, 3, 3, 3, 3, 3, 3, 3, 3, 3, 3, 3, 3, 3, 3, 3, 3, 3, 3, 3, 3, 3, 3, 3, 3, 3, 3, 3, 3, 3, 3, 3, 3, 3, 3, 3, 3, 3, 3, 3, 3, 3, 3, 3, 3, 3, 3, 3, 3, 3, 3, 3, 3, 3, 3, 3, 3, 3, 3, 3, 3, 3, 3, 3, 3, 3, 3, 3, 3, 3, 3, 3, 3, 3, 3, 3, 3, 3, 3, 3, 3, 3, 3, 3, 3, 3, 3, 3, 3, 3, 3, 3, 3, 3, 3, 3, 3, 3, 3, 3, 3, 3, 3, 3, 3, 3, 3, 3, 3, 3, 3, 3, 3, 3, 3, 3, 3, 3, 3, 3, 3, 3, 3, 3, 3, 3, 3, 3, 3, 3, 3, 3, 3, 3, 3, 3, 3, 3, 3, 3, 3, 3, 3, 3, 3, 3, 3, 3, 3, 3, 3, 3, 3, 3, 3, 3, 3, 3, 3, 3, 3, 3, 3, 3, 3, 3, 3, 3, 3, 3, 3, 3, 3, 3, 3, 3, 3, 3, 3, 3, 3, 3, 3, 3, 3, 3]\n",
            "Degree Sequence:  [3, 3, 5, 6, 3, 3, 3, 3, 6, 5, 3, 4, 3, 3, 3, 4, 4, 4, 3, 3, 3, 3, 3, 3, 3, 4, 3, 3, 3, 3, 7, 3, 3, 5, 4, 4, 3, 3, 3, 3, 3, 3, 4, 3, 9, 3, 4, 4, 3, 3, 3, 3, 3, 3, 3, 3, 3, 3, 3, 3, 5, 3, 3, 3, 3, 3, 3, 3, 4, 4, 3, 3, 3, 3, 3, 3, 3, 3, 3, 3, 3, 3, 3, 3, 3, 3, 3, 3, 3, 3, 3, 3, 3, 3, 3, 3, 3, 3, 3, 3, 3, 3, 3, 3, 3, 3, 3, 3, 3, 3, 3, 3, 3, 3, 3, 3, 3, 3, 3, 3, 3, 3, 3, 3, 3, 3, 3, 3, 3, 3, 3, 3, 3, 3, 3, 3, 3, 3, 3, 3, 3, 3, 3, 3, 3, 3, 3, 3, 3, 3, 3, 3, 3, 3, 3, 3, 3, 3, 3, 3, 3, 3, 3, 3, 3, 3, 3, 3, 3, 3, 3, 3, 3, 3, 3, 3, 3, 3, 3, 3, 3, 3, 3, 3, 3, 3, 3, 3, 3, 3, 3, 3, 3, 3, 3, 3, 3, 3, 3, 3, 3, 3, 3, 3, 3, 3, 3, 3, 3, 3, 3, 3, 3, 3, 3, 3, 3, 3, 3, 3, 3, 3, 3, 3, 3, 3, 3, 3, 3, 3, 3, 3, 3, 3, 3, 3, 3, 3, 3, 3, 3, 3, 3, 3, 3, 3, 3, 3, 3, 3, 3, 3, 3, 3, 3, 3, 3, 3, 3, 3, 3, 3, 3, 3, 3, 3, 3, 3, 3, 3, 3, 3, 3, 3, 3, 3, 3, 3, 3, 3, 3, 3, 3, 3, 3, 3, 3, 3, 3, 3, 3, 3, 3, 3, 3, 3, 3, 3, 3, 3, 3, 3, 3, 3, 3, 3, 3, 3, 3, 3, 3, 3, 3, 3, 3, 3, 3, 3, 3, 3, 3, 3, 3, 3, 3, 3, 3, 3, 3, 3, 3, 3, 3, 3, 3, 3, 3, 3, 3, 3, 3, 3, 3, 3, 3, 3, 3, 3, 3, 3, 3, 3, 3, 3, 3, 3, 3, 3, 3, 3, 3, 3, 3, 3, 3, 3, 3, 3, 3, 3, 3, 3, 3, 3, 3, 3, 3, 3, 3, 3, 3, 3, 3, 3, 3, 3, 3, 3, 3, 3, 3, 3, 3, 3, 3, 3, 3, 3, 3, 3, 3, 3, 3, 3, 3, 3, 3, 3, 3, 3, 3, 3, 3, 3, 3, 3, 3, 3, 3, 3, 3, 3, 3, 3, 3, 3, 3, 3, 3, 3, 3, 3, 3, 3, 3, 3, 3, 3, 3, 3, 3, 3, 3, 3, 3, 3, 3, 3, 3, 3, 3, 3, 3, 3, 3, 3, 3, 3, 3, 3, 3, 3, 3, 3, 3, 3, 3, 3, 3, 3, 3, 3, 3, 3, 3, 3, 3, 3, 3, 3, 3, 3, 3, 3, 3, 3, 3, 3, 3, 3, 3, 3, 3, 3, 3, 3, 3, 3, 3, 3]\n"
          ]
        },
        {
          "output_type": "stream",
          "name": "stderr",
          "text": [
            "/usr/local/lib/python3.10/dist-packages/pandas/core/dtypes/cast.py:1641: DeprecationWarning: np.find_common_type is deprecated.  Please use `np.result_type` or `np.promote_types`.\n",
            "See https://numpy.org/devdocs/release/1.25.0-notes.html and the docs for more information.  (Deprecated NumPy 1.25)\n",
            "  return np.find_common_type(types, [])\n"
          ]
        }
      ]
    },
    {
      "cell_type": "code",
      "source": [
        "# Parameters\n",
        "R0 = 2.0\n",
        "\n",
        "lam = 0.2\n",
        "alp = 0.1\n",
        "zeta_1 = 0.3 #go to not protect by information\n",
        "zeta_3 = 0.0 #go to not protect by neighborhood behavior\n",
        "zeta_4 = 0.0 #go to protect by neighborhood behavior\n",
        "mu = 0.2\n",
        "beta_NN = R0 * mu / 4.5\n",
        "beta_PN = beta_NN * 0.8\n",
        "beta_NP = beta_NN * 0.6\n",
        "beta_PP = beta_NN * 0.4\n",
        "n_sample = 1\n",
        "zeta_2_range = np.arange(0.3, 0.35, 0.05)  # lambda values from 0.0 to 5.0 with step size 0.25\n",
        "\n",
        "# Initialize data frame to store the results\n",
        "result_df = pd.DataFrame()\n",
        "result_df2 = pd.DataFrame()\n",
        "\n",
        "# Define the number of iterations\n",
        "n_iterations = 200\n",
        "\n",
        "# Loop over lambda values\n",
        "for zeta_2 in zeta_2_range:\n",
        "    for i in range(1, n_iterations + 1):\n",
        "        time_record, adopting_count = ICE_model_no_control(inw, ldeg_i, ltre, cnw, ldeg_c, lprot, enw, ldeg_e, lam, alp, zeta_1, zeta_2, zeta_3, zeta_4, beta_PP, beta_NP, beta_PN, beta_NN, mu, n_sample)\n",
        "\n",
        "        # Store the results\n",
        "        iteration_dict = {\n",
        "            f'time_record_{i}': time_record,\n",
        "            f'adopting_count_{i}': adopting_count\n",
        "        }\n",
        "\n",
        "        # Append the results\n",
        "        result_df = pd.concat([result_df, pd.DataFrame(iteration_dict)], axis=1)\n",
        "\n",
        "    # Save to a csv file for each lambda value\n",
        "    result_df = np.transpose(result_df)\n",
        "    filename = f\"/content/drive/My Drive/Network_Tests/Speed_of_adoption/more_initial_protected_adopting_protection_zeta_4_0_zeta_2_{zeta_2:.2f}.csv\"\n",
        "    result_df.to_csv(filename, index=False)\n",
        "\n",
        "    # Clear result_df for the next iteration\n",
        "    result_df = pd.DataFrame()"
      ],
      "metadata": {
        "id": "irz1Rc0FIw0Y"
      },
      "execution_count": null,
      "outputs": []
    },
    {
      "cell_type": "code",
      "source": [
        "n = 500  # Number of nodes\n",
        "\n",
        "# Information Layer\n",
        "gamma_i = 2.5  # Power-law exponent\n",
        "kmin_i = 3  # Minimum degree\n",
        "num_hyper_edges_i = 450  # Desired number of hyper edges\n",
        "ldeg_i, hyperedge_dict_i = build_hypergraph(n, gamma_i, kmin_i, num_hyper_edges_i)\n",
        "inw = hnx.Hypergraph(hyperedge_dict_i)\n",
        "ltre = assign_thresholds(inw, 0.1, 0.05)\n",
        "print(\"Acceptance Threshold Sequence: \", ltre)\n",
        "\n",
        "# Cognition Layer\n",
        "gamma_c = 3.0  # Power-law exponent\n",
        "kmin_c = 3  # Minimum degree\n",
        "ldeg_c = generate_degree_sequence(n, gamma_c, kmin_c)\n",
        "print(\"Behavior Degree Sequence: \", ldeg_c)\n",
        "cnw = nx.configuration_model(ldeg_c)\n",
        "frac_prot = 1.0\n",
        "lprot = assign_protection(cnw, frac_prot)\n",
        "\n",
        "# Epidemic Layer\n",
        "gamma_e = 4.0\n",
        "kmin_e = 3\n",
        "ldeg_e = generate_degree_sequence(n, gamma_e, kmin_e)\n",
        "print(\"Degree Sequence: \", ldeg_e)\n",
        "enw = nx.configuration_model(ldeg_e)"
      ],
      "metadata": {
        "colab": {
          "base_uri": "https://localhost:8080/"
        },
        "id": "siMyYtmAOS2s",
        "outputId": "9ebf7d80-a331-4c55-9cb4-d3671c088cdb"
      },
      "execution_count": 28,
      "outputs": [
        {
          "output_type": "stream",
          "name": "stdout",
          "text": [
            "Degree Sequence:  [4, 4, 3, 3, 3, 3, 7, 8, 5, 3, 4, 3, 3, 7, 5, 6, 6, 3, 3, 12, 3, 4, 5, 3, 14, 4, 5, 20, 8, 3, 3, 3, 11, 4, 3, 5, 3, 3, 4, 3, 3, 4, 3, 3, 3, 3, 3, 3, 3, 3, 5, 3, 3, 3, 4, 4, 16, 6, 3, 4, 4, 4, 3, 3, 3, 3, 22, 3, 6, 3, 17, 6, 6, 3, 4, 3, 3, 3, 3, 3, 5, 7, 3, 3, 6, 3, 20, 3, 3, 3, 3, 4, 4, 3, 3, 3, 3, 3, 16, 3, 3, 6, 3, 3, 5, 4, 6, 12, 3, 5, 3, 5, 11, 3, 3, 3, 10, 5, 13, 3, 6, 3, 3, 11, 17, 7, 5, 7, 4, 3, 7, 3, 3, 17, 4, 6, 3, 3, 3, 4, 3, 3, 3, 3, 3, 3, 5, 6, 3, 3, 3, 3, 3, 3, 3, 3, 3, 3, 3, 3, 3, 3, 3, 3, 3, 3, 3, 3, 3, 3, 3, 3, 3, 3, 3, 3, 3, 3, 3, 3, 3, 3, 3, 3, 3, 3, 3, 3, 3, 3, 3, 3, 3, 3, 3, 3, 3, 3, 3, 3, 3, 3, 3, 3, 3, 3, 3, 3, 3, 3, 3, 3, 3, 3, 3, 3, 3, 3, 3, 3, 3, 3, 3, 3, 3, 3, 3, 3, 3, 3, 3, 3, 3, 3, 3, 3, 3, 3, 3, 3, 3, 3, 3, 3, 3, 3, 3, 3, 3, 3, 3, 3, 3, 3, 3, 3, 3, 3, 3, 3, 3, 3, 3, 3, 3, 3, 3, 3, 3, 3, 3, 3, 3, 3, 3, 3, 3, 3, 3, 3, 3, 3, 3, 3, 3, 3, 3, 3, 3, 3, 3, 3, 3, 3, 3, 3, 3, 3, 3, 3, 3, 3, 3, 3, 3, 3, 3, 3, 3, 3, 3, 3, 3, 3, 3, 3, 3, 3, 3, 3, 3, 3, 3, 3, 3, 3, 3, 3, 3, 3, 3, 3, 3, 3, 3, 3, 3, 3, 3, 3, 3, 3, 3, 3, 3, 3, 3, 3, 3, 3, 3, 3, 3, 3, 3, 3, 3, 3, 3, 3, 3, 3, 3, 3, 3, 3, 3, 3, 3, 3, 3, 3, 3, 3, 3, 3, 3, 3, 3, 3, 3, 3, 3, 3, 3, 3, 3, 3, 3, 3, 3, 3, 3, 3, 3, 3, 3, 3, 3, 3, 3, 3, 3, 3, 3, 3, 3, 3, 3, 3, 3, 3, 3, 3, 3, 3, 3, 3, 3, 3, 3, 3, 3, 3, 3, 3, 3, 3, 3, 3, 3, 3, 3, 3, 3, 3, 3, 3, 3, 3, 3, 3, 3, 3, 3, 3, 3, 3, 3, 3, 3, 3, 3, 3, 3, 3, 3, 3, 3, 3, 3, 3, 3, 3, 3, 3, 3, 3, 3, 3, 3, 3, 3, 3, 3, 3, 3, 3, 3, 3, 3, 3, 3, 3, 3, 3, 3, 3, 3, 3, 3, 3, 3, 3, 3, 3, 3, 3, 3, 3]\n",
            "Hyper Edge Sizes:  [26, 32, 4, 16, 33, 5, 3, 14, 7, 29, 11, 29, 2, 11, 3, 9, 41, 37, 31, 7, 16, 33, 27, 7, 18, 17, 42, 8, 37, 34, 34, 15, 21, 3, 23, 20, 37, 30, 21, 18, 23, 12, 26, 36, 27, 20, 30, 10, 10, 28, 41, 4, 8, 37, 35, 29, 40, 28, 19, 42, 38, 40, 13, 3, 14, 26, 38, 20, 29, 26, 34, 27, 23, 23, 13, 33, 22, 17, 10, 38, 19, 11, 27, 31, 42, 34, 22, 11, 33, 15, 35, 40, 26, 13, 2, 37, 4, 42, 41, 24, 17, 3, 27, 2, 18, 16, 13, 20, 34, 33, 18, 5, 20, 28, 29, 2, 11, 42, 35, 27, 19, 8, 21, 16, 32, 30, 21, 40, 42, 42, 41, 34, 40, 10, 8, 23, 4, 5, 11, 17, 30, 40, 11, 38, 21, 6, 20, 17, 34, 33, 33, 34, 21, 18, 23, 40, 19, 18, 8, 11, 29, 12, 35, 5, 26, 15, 2, 37, 30, 7, 33, 27, 38, 26, 37, 40, 21, 19, 4, 15, 12, 19, 21, 19, 42, 13, 39, 9, 4, 18, 39, 11, 15, 7, 40, 30, 25, 18, 2, 25, 15, 29, 20, 24, 40, 16, 19, 13, 36, 25, 28, 28, 39, 19, 5, 2, 41, 20, 14, 16, 39, 27, 2, 11, 37, 30, 24, 2, 38, 21, 7, 40, 21, 31, 5, 10, 23, 33, 38, 7, 4, 41, 3, 32, 10, 42, 21, 23, 9, 37, 5, 17, 30, 36, 8, 33, 29, 6, 17, 29, 38, 28, 14, 5, 26, 23, 6, 27, 13, 19, 7, 35, 41, 35, 6, 13, 3, 10, 10, 35, 41, 39, 4, 41, 13, 42, 31, 25, 3, 15, 11, 13, 20, 29, 30, 3, 28, 41, 20, 12, 34, 11, 30, 36, 30, 18, 2, 4, 5, 14, 32, 32, 9, 32, 24, 4, 30, 12, 18, 19, 32, 30, 12, 28, 9, 9, 25, 37, 22, 3, 33, 29, 13, 36, 22, 39, 41, 12, 21, 13, 19, 25, 11, 17, 8, 26, 19, 12, 24, 20, 10, 11, 9, 14, 33, 8, 23, 32, 39, 11, 22, 35, 34, 38, 16, 16, 27, 8, 29, 28, 11, 19, 18, 19, 14, 2, 21, 14, 20, 31, 6, 9, 20, 21, 4, 28, 11, 20, 4, 42, 42, 31, 33, 34, 42, 30, 19, 19, 26, 26, 35, 39, 38, 39, 18, 34, 8, 35, 37, 24, 3, 35, 30, 9, 29, 16, 31, 42, 41, 6, 40, 31, 16, 41, 15, 41, 26, 42, 20, 15, 35, 12, 3, 23, 6, 5, 23, 42, 18, 26, 7, 19, 3, 36, 6, 23, 6, 8, 22, 27]\n",
            "Hypergraph Dictionary:  {430: [0, 41, 60, 65, 117, 164, 195, 261, 383], 307: [0, 193], 327: [0, 183, 245, 315, 322, 337, 461, 462], 260: [0, 28, 57, 67, 124, 256, 415], 335: [1, 27, 80, 91, 178, 280, 292, 308, 471], 164: [1, 62, 102, 122], 358: [1, 6, 27, 47, 100, 116, 159, 197, 449, 482], 9: [1, 115, 487], 114: [2, 73, 120, 133, 376, 486], 311: [2, 16, 103, 155, 228, 264, 321, 347, 368], 89: [2, 478], 286: [3, 11, 19, 77, 152, 180, 198, 250, 290, 418, 463], 84: [3, 24, 27, 54, 73, 86, 225, 341, 454], 147: [3, 6, 16, 212, 429], 194: [4, 7, 57, 86, 107, 126, 269, 448, 475], 91: [4, 13, 246, 255, 273, 314], 33: [4], 10: [5, 72, 251, 279], 241: [5, 11, 43, 133, 430, 472], 382: [5, 14, 27, 32, 381], 365: [6, 247], 182: [6], 425: [6, 15, 32, 41, 96, 106, 306, 405, 433, 449, 464, 478], 400: [6, 81, 127, 134, 201, 221, 297, 354], 109: [6, 296], 132: [7, 54, 218, 220, 324, 426, 430], 102: [7, 99, 187, 343, 388], 16: [7, 24, 84, 92, 108, 166, 177, 213, 222, 239, 257, 261, 362, 365, 376], 128: [7, 49, 68, 81, 98, 121, 169, 191, 198, 201, 346, 370], 174: [7, 86, 98], 60: [7, 143, 168, 218, 323, 388, 391, 407, 417, 424, 477], 56: [7, 75, 89, 123, 180, 209, 251, 259, 270, 490], 208: [8, 70, 101, 117, 150, 172, 262, 439, 455, 499], 48: [8, 399], 285: [8, 43, 74, 157, 318, 391, 445, 486], 46: [8, 55, 72, 205, 324, 413, 428, 459], 279: [8, 23, 52, 98, 175, 241, 448, 456], 403: [9, 112, 169, 377], 297: [9, 66, 90, 94, 173, 226, 256, 286, 316, 353], 169: [9, 313], 397: [10, 13, 330], 18: [10, 27, 59, 60, 233, 452], 247: [10, 107], 405: [10, 45, 133, 283, 409, 495], 293: [11, 119, 176, 206, 216, 224, 299, 442, 455], 363: [12, 70, 98, 116, 118, 145, 301, 330, 432], 209: [12, 133, 431, 460, 473], 283: [12, 34, 170, 237, 370, 385], 233: [13, 147, 261, 266, 271, 421, 431, 499], 165: [13, 208, 244], 95: [13, 69, 82, 112, 125, 219, 351, 418, 459, 468], 316: [13, 268, 420, 440, 483], 157: [13, 262, 357], 404: [14, 24, 70], 135: [14, 31, 112, 144, 472], 331: [14, 135, 192, 196, 369], 75: [14, 21, 33, 118, 372, 397], 70: [15, 19, 57, 86, 285, 366, 394], 188: [15], 191: [15, 106, 463], 436: [15, 53, 98, 257, 280], 246: [15, 118, 300], 399: [16, 165, 197, 392], 418: [16, 101, 126, 228, 356, 364, 400, 483], 349: [16, 26, 97, 374, 481], 448: [16, 22, 155, 236, 265], 97: [17, 209, 235, 336], 172: [17, 172, 306, 346, 453], 201: [17, 56, 68, 99, 139, 140, 181, 411], 423: [18, 124, 128, 314, 366, 377], 385: [18, 100, 319, 443], 54: [18, 70, 86, 198, 325, 411, 432], 259: [19, 28, 49, 123, 132, 218, 407], 22: [19, 66, 75, 289, 361, 481], 341: [19, 86, 260, 441], 361: [19, 93, 162, 202, 266, 310, 317, 319, 469], 30: [19, 22, 51], 73: [19, 28, 51, 398], 177: [19, 94, 282, 320], 427: [19, 20, 23, 66, 146, 180, 273, 275, 342, 359, 413, 454, 479], 160: [19, 98, 120, 124, 184], 36: [19, 124, 133, 277, 286, 451], 354: [20, 195, 371, 375], 28: [20, 40, 46, 105, 309, 356, 419, 473], 150: [21, 102, 107, 129, 181, 314, 374, 380, 423, 494], 296: [21, 217], 108: [21, 77, 101, 171, 179, 222, 277, 338], 417: [22, 32, 57, 98, 118, 133, 185, 414, 462], 107: [22, 70, 191, 196, 201], 383: [22, 192, 221, 287, 293, 423], 268: [23, 105, 468], 212: [24, 66, 154, 275, 336, 384], 149: [24, 71, 274, 387, 467], 219: [24, 128, 199, 300], 249: [24, 81, 98, 112, 223, 239, 267, 297, 359, 400], 223: [24], 59: [24, 50, 149, 300, 309, 466], 370: [24], 106: [24, 67, 91], 374: [24, 171, 292, 427, 466], 396: [24], 441: [24, 70, 158, 163, 381], 428: [25, 69, 84, 177, 220, 284, 378], 85: [25, 61, 68, 88, 105, 127, 248, 436], 373: [25, 27, 83, 98, 232, 319], 32: [25, 30, 34, 141, 173, 258], 391: [26, 118, 484], 67: [26, 96, 104, 487], 115: [26], 167: [26, 27, 35, 81, 123, 165, 474], 217: [27, 35, 317, 380], 386: [27, 42, 223], 176: [27, 267, 303, 373], 376: [27, 149, 342, 401], 378: [27, 434], 26: [27, 31, 95, 158, 243, 397, 414, 441], 389: [27, 130, 141, 213, 389, 416], 110: [27, 55, 59, 340], 420: [27, 70, 135, 392], 226: [27, 123, 227, 341], 244: [27, 69], 255: [27, 93, 126, 330, 353, 446, 454], 25: [27, 125, 130, 295], 4: [28, 30, 167, 174, 176, 182, 325, 350, 373, 394, 438, 484], 181: [28, 281, 396], 224: [28, 52, 66, 70, 85, 92, 103, 161, 349, 442], 245: [28, 107, 247, 290, 410, 472, 480], 61: [28, 33, 167, 204, 231, 334, 360, 370, 406], 178: [29], 228: [29, 50, 124, 245, 492], 104: [29, 31, 151], 390: [30, 71, 86, 123, 288], 90: [32, 56, 125, 308, 498], 196: [32, 75, 98, 120, 332, 383], 11: [32, 86, 152, 255, 258, 293, 305, 369], 63: [32], 402: [32, 35, 111, 146, 306, 419], 443: [32, 70, 148, 305, 316, 358], 17: [32, 56, 103, 112, 182], 299: [32, 56, 133, 135, 368, 393], 80: [33, 66, 146, 234], 278: [33, 373], 237: [34, 174, 209, 386, 409, 422, 428], 304: [35, 56, 63, 133, 254, 413], 340: [35, 164, 393], 345: [36, 56, 111, 186, 226, 337, 388], 151: [36, 86, 124, 133, 207, 408, 486, 496], 407: [36, 331, 403], 303: [37, 63, 205, 340], 411: [37, 78, 137, 185, 269, 328, 364, 377, 408], 368: [37, 125, 172, 242, 291, 349], 184: [38, 124, 189], 34: [38, 147, 470, 476], 126: [38, 47, 66, 164, 249, 291], 229: [38, 186, 214, 345, 399, 494], 310: [39, 58, 91, 95, 118, 291, 389, 422], 127: [39, 98, 127, 130, 256, 264, 367, 427], 272: [39, 92, 139, 145, 238, 401, 480], 216: [40, 60, 107, 189, 351, 441], 401: [40, 56, 112, 192, 272, 279, 338, 440], 117: [41, 88, 127, 208, 311, 321, 333, 397], 346: [41, 144, 395], 44: [42, 400, 490], 100: [42, 51, 272, 294], 206: [43, 53], 14: [44], 309: [44, 194, 485], 129: [44, 70, 108, 124, 126, 132, 133, 227, 271, 276, 328, 404, 445], 313: [45, 59, 76, 116, 120, 456], 317: [45, 96, 399], 96: [46], 437: [46, 90, 115, 204, 356, 404, 417], 323: [47, 66, 104, 107, 116, 153, 320, 334], 218: [48, 231, 313], 318: [48, 255], 139: [48, 109, 173], 413: [49, 177], 118: [50, 107, 153, 352, 372], 58: [50, 66, 83, 133, 428, 452], 121: [50], 122: [52], 273: [53, 81, 324, 333, 355, 444, 488], 168: [54, 56, 238, 361, 410], 43: [54, 71, 93, 160, 178, 311, 465], 333: [55, 141, 338, 452, 470], 231: [55, 61, 101, 117, 257, 310, 339, 477, 498], 186: [56, 58, 165, 224, 345, 453], 395: [56, 118, 129, 154, 323, 431], 302: [56, 151, 477], 426: [56, 293, 326, 350, 460, 462], 393: [56, 123, 130, 263, 332, 384], 253: [56, 70, 120, 270, 277, 364, 460], 447: [56, 95], 130: [56, 118, 200, 208, 497], 152: [57, 471], 372: [57, 190, 297], 414: [58, 65, 183, 206, 438], 366: [59, 135, 161, 344, 436], 359: [60, 498], 137: [61, 235], 342: [61, 84, 282], 154: [62, 140, 230, 248, 278, 386, 405], 377: [62, 74], 98: [63, 114, 131, 179, 215, 299, 326, 363], 449: [64, 247, 296], 357: [64, 146, 188, 229, 233, 234, 298], 387: [64, 72, 83, 86, 188, 225, 265, 496], 314: [65, 147, 249, 360, 475], 207: [66, 153, 215], 144: [66, 68, 105, 127, 283, 433, 469, 487], 235: [66], 256: [66, 136, 139, 390, 426], 271: [66, 106, 253, 355, 420, 424], 406: [66, 416, 451], 72: [66, 182, 231, 310], 398: [66, 82, 124, 244], 71: [66, 86, 212, 334, 342, 362], 20: [66, 433, 457, 464], 330: [66, 100, 113, 353, 481], 434: [66, 119, 274, 375], 189: [66, 203, 220], 175: [67, 125, 243, 308, 393, 394, 425], 243: [68, 80, 125, 207, 285, 289, 358, 420], 388: [68], 445: [70, 307], 225: [70, 224, 332, 480, 493], 45: [70, 259], 290: [70, 344, 374, 475], 119: [70, 123, 183, 302], 124: [70, 107, 254, 266, 352, 447], 328: [71, 150, 162, 202, 366, 382, 450], 131: [71, 111, 276, 406, 438], 415: [71, 134], 62: [72, 214], 66: [72, 110, 121, 206, 379, 414, 445, 466, 476], 156: [72, 125, 196, 281], 15: [73, 391], 348: [74, 98, 104, 107, 134, 396, 453], 416: [74, 86, 111, 203, 226], 190: [76, 118, 138, 167, 240, 335, 344], 141: [76, 132, 142, 268, 450, 499], 69: [77, 155, 322, 412, 483], 53: [78, 135, 227, 275, 384], 321: [78, 169, 210, 302, 315, 478], 83: [79, 82, 287, 326], 187: [79, 194, 435], 433: [79, 84, 270, 489], 367: [80, 259], 210: [80, 171, 489], 88: [80, 112, 138, 159, 284, 304, 322, 365], 82: [81, 98, 216, 457, 488, 491], 371: [81, 87, 110, 157, 294], 336: [84, 138, 237, 295, 304, 407], 0: [84, 162, 190, 280], 319: [85, 246, 253, 307, 419], 305: [85, 357], 369: [86, 166, 269, 311, 358, 429], 356: [86, 279, 299, 316, 346, 484], 252: [86, 473, 493], 258: [86, 181], 250: [86, 272], 213: [86, 245], 236: [86, 265, 315, 318, 402, 437], 287: [86, 106, 199, 303, 404], 153: [87, 124, 295, 367, 464], 87: [87, 129], 148: [88, 128, 130, 146, 160, 212, 422, 437], 39: [89, 327], 170: [89, 114, 148, 357, 371, 406, 448], 251: [90, 116, 427, 442], 204: [91, 154, 168, 211, 254, 369, 381, 423], 112: [92, 147], 21: [94, 110, 250, 331, 361, 390], 337: [97], 77: [97, 114], 159: [98, 136, 242], 162: [98, 112, 133, 137, 395], 55: [98, 124, 303, 318, 403], 275: [99, 163, 199, 335, 409], 140: [101, 352, 390], 143: [101, 193], 37: [102, 139, 191, 219, 323, 435, 465], 300: [104, 482], 92: [104, 124, 175, 221], 65: [106, 108, 135, 158, 170, 292, 408], 50: [106, 243, 329, 347, 359, 412, 447], 146: [107, 189, 211, 263], 158: [107, 307], 379: [107, 112, 176, 184], 394: [109, 458], 24: [109, 382], 29: [109, 335, 343, 485], 31: [109, 233, 434], 269: [111, 294, 378, 439], 1: [112, 118, 258, 439], 155: [112, 122, 159, 240, 402], 57: [113, 130, 178, 200, 282, 348, 363, 463], 142: [113], 360: [115, 116, 382, 465], 320: [116, 131, 470], 239: [116, 166], 353: [116, 128, 252], 78: [116, 268, 372], 195: [117, 142, 203, 444], 232: [117, 195, 494], 265: [118, 144, 210, 367, 446], 264: [118, 329, 396, 444, 479], 294: [118, 119, 223], 262: [120, 360, 378, 446, 461], 79: [121, 147, 214, 229, 260, 301, 350, 450, 474], 338: [122, 184], 362: [123, 238, 345, 412, 436, 468], 408: [123, 137, 354, 447, 496], 326: [123, 232, 469], 261: [123, 133, 339], 8: [124], 64: [124, 232, 309], 281: [124, 148, 186, 234, 237, 252, 263, 348, 493], 315: [124, 260, 449], 351: [124, 278, 471], 221: [126, 150, 185, 200, 235, 253, 375], 68: [127, 211, 225, 429, 451, 479], 412: [127, 229, 239, 385], 364: [130, 459], 173: [131, 140, 242, 251, 379, 395], 86: [133, 187, 246, 426, 497], 329: [133, 215], 203: [133, 217, 273, 288, 290], 334: [133, 136, 457, 488], 431: [134, 415], 125: [142, 188, 328, 389, 461, 485, 489], 267: [143, 278, 411], 280: [143, 156, 216, 296, 387], 355: [145, 497], 439: [147, 456], 344: [149, 287], 392: [151, 163, 443], 171: [152, 174, 194, 327, 385, 458], 49: [156, 301, 340, 415], 308: [156], 199: [157, 402, 440], 424: [160, 410], 113: [161, 418], 289: [168, 207, 312], 325: [170, 236], 27: [175, 252], 220: [179, 305, 333, 336, 492], 179: [187], 133: [190, 343], 42: [193, 236, 348], 38: [197], 270: [202], 435: [204], 3: [205, 313], 105: [210, 241, 421], 123: [213], 185: [217, 325], 446: [219], 291: [222], 192: [228], 202: [230, 349, 362, 405, 474], 238: [230, 321, 458, 467], 111: [240], 93: [241, 320, 392, 495], 332: [244, 249], 7: [248, 355, 376], 120: [250, 491], 274: [262], 421: [264, 298, 341, 432, 443], 138: [267, 401], 116: [271], 343: [274, 482], 76: [276], 200: [281, 285, 490], 347: [283, 398], 288: [284], 35: [286, 491], 47: [288, 312], 211: [289, 425], 248: [298], 214: [302], 409: [304, 425, 476], 419: [312], 230: [317], 183: [327], 215: [329], 312: [331], 197: [337, 434], 324: [339], 163: [347, 354], 205: [351], 81: [363], 263: [365], 145: [368], 13: [371], 438: [379, 417, 430, 467], 301: [380], 234: [383], 352: [386], 292: [387, 403], 99: [398], 322: [416], 284: [421], 161: [424], 51: [435], 40: [437], 2: [455], 277: [492], 295: [495]}\n"
          ]
        },
        {
          "output_type": "stream",
          "name": "stderr",
          "text": [
            "/usr/local/lib/python3.10/dist-packages/pandas/core/dtypes/cast.py:1641: DeprecationWarning: np.find_common_type is deprecated.  Please use `np.result_type` or `np.promote_types`.\n",
            "See https://numpy.org/devdocs/release/1.25.0-notes.html and the docs for more information.  (Deprecated NumPy 1.25)\n",
            "  return np.find_common_type(types, [])\n"
          ]
        },
        {
          "output_type": "stream",
          "name": "stdout",
          "text": [
            "Acceptance Threshold Sequence:  {0: 0.21647047042691675, 1: 0.10318600134619291, 2: 0.20252808213567122, 3: 0.09372824437051731, 4: 0.024426157332184104, 5: 0.16391440922496314, 6: 0.12035522175507946, 7: 0.09657860668712036, 8: 0.07884681679227967, 9: 0.05091361894919705, 10: 0.14138132459038874, 11: 0.09118487047165799, 12: 0.04483419296518744, 13: 0.07429797185075261, 14: 0.1646604507538762, 15: 0.033047363305913444, 16: 0.21114767890396616, 17: 0.050392265614310226, 18: 0.07747174480440654, 19: 0.2059763415025176, 20: 0.16219852426615466, 21: 0.04755155530348194, 22: 0.0649678456810531, 23: 0.06300198994438835, 24: 0.1385334687923186, 25: 0.16556291101611426, 26: 0.12085377627492051, 27: 0.09518254843407997, 28: 0.021258010110303177, 29: 0.1385053088591395, 30: 0.09821713982486054, 31: 0.16890547198421926, 32: 0.10725646708248174, 33: 0.10237543629581154, 34: 0.14010393260179854, 35: 0.09291963995813551, 36: 0.1034057021529282, 37: 0.14175355482766477, 38: 0.14298038138273927, 39: 0.12550163183388177, 40: 0.11738119059338827, 41: 0.13798885032250321, 42: 0.14674193712536832, 43: 0.08201202401673494, 44: 0.15179345999905816, 45: 0.12630560245175987, 46: 0.06532365934703291, 47: 0.06549423653136535, 48: 0.09086542237707555, 49: 0.10041165849836231, 50: 0.13413063096034022, 51: 0.06362976644814261, 52: 0.11812504046355163, 53: 0.08905940157633899, 54: 0.1621640095843426, 55: 0.07408066746068831, 56: 0.08724419857356748, 57: 0.026704988356590326, 58: 0.07928218807070975, 59: 0.13302294201838963, 60: 0.13813205820192526, 61: 0.14677952952518178, 62: 0.05866003340741055, 63: 0.12912475821792815, 64: 0.09679877714108515, 65: 0.10895758207225154, 66: 0.07336798409200268, 67: 0.08485642026565102, 68: 0.05932779524941255, 69: 0.04879588570436885, 70: 0.13230245913934718, 71: 0.09077215453667208, 72: 0.12080759732805776, 73: 0.03317845976343835, 74: 0.13463547214706445, 75: 0.02399085883754372, 76: 0.04955898579322815, 77: 0.07825354206863791, 78: 0.14600686684660377, 79: 0.0820646330035952, 80: 0.07774389344572727, 81: 0.22360409751650567, 82: 0.08168639802703402, 83: 0.11674792627453336, 84: 0.09784692724596063, 85: 0.030032019913314986, 86: 0.10558109973541832, 87: 0.14532286911434156, 88: 0.10464237178523081, 89: 0.0745522319771668, 90: 0.1189815438246062, 91: 0.022304404735100217, 92: 0.16639702752553603, 93: 0.11305129457656546, 94: 0.08182415105164957, 95: 0.06651984676846973, 96: 0.15516338968720206, 97: 0.0918556587636516, 98: 0.024712861950060977, 99: 0.15520439131565483, 100: 0.11293798965270113, 101: 0.11826180405504906, 102: 0.12113966836616821, 103: 0.13908454651337993, 104: 0.0828892923689528, 105: 0.015721491086449643, 106: 0.08781603788222175, 107: 0.02272039489720895, 108: 0.17231433965503257, 109: 0.1901718041245597, 110: 0.1371354320499969, 111: 0.15336074433653943, 112: 0.12183329015857441, 113: 0.047519229452700755, 114: 0.03279316709397585, 115: 0.1799942974163022, 116: 0.03713185696087089, 117: 0.06973602032806461, 118: 0.09900197914153509, 119: 0.13930596993407063, 120: 0.06611901641239183, 121: 0.07348727864613473, 122: 0.1617773574811077, 123: 0.15118270130632755, 124: 0.12059307075990389, 125: 0.11848981680294562, 126: 0.1177245619387618, 127: 0.08267667601203327, 128: 0.1092365810353172, 129: 0.18311873335718346, 130: 0.10211951954794862, 131: 0.06289497910535055, 132: 0.06937528241208957, 133: 0.18151682564965846, 134: 0.08833797723830875, 135: 0.08252642077445993, 136: 0.07109565847809993, 137: 0.14700659555692833, 138: 0.10419648068761851, 139: 0.030310552447119096, 140: 0.23260745430515675, 141: 0.1705621204812286, 142: 0.08644165652173276, 143: 0.095051089227049, 144: 0.13352003438267399, 145: 0.1269037205075203, 146: 0.102247231776119, 147: 0.04688612421778221, 148: 0.08756443080922555, 149: 0.10930449397549966, 150: 0.1464321516208848, 151: 0.0280341938497191, 152: 0.08254269454004672, 153: 0.07344787272059207, 154: 0.17548757572748536, 155: 0.1026997321046548, 156: 0.11011207525931974, 157: 0.16074420026735037, 158: 0.10778494550427763, 159: 0.0657268676700028, 160: 0.10194871139055262, 161: 0.008857010663414433, 162: 0.03297365271279082, 163: 0.1528793815292332, 164: 0.0033034644265874796, 165: 0.17040513613807162, 166: 0.025601349298911044, 167: 0.04394980907361197, 168: 0.19897074873570642, 169: 0.10303103370910452, 170: 0.10876818281705601, 171: 0.06596762934411633, 172: 0.10935849502514275, 173: 0.15303221615629814, 174: 0.08337344978024838, 175: 0.06503123698385659, 176: 0.13207122095007784, 177: 0.13542606367618223, 178: 0.07109504424818111, 179: 0.1053634107887007, 180: 0.08646445046031087, 181: 0.10485667014764875, 182: 0.1373985791818699, 183: 0.046035053608827196, 184: 0.08474996353595562, 185: 0.10021925403836526, 186: 0.1714069820407192, 187: 0.1412946444666946, 188: 0.14505948760620513, 189: 0.07891738759328001, 190: 0.11890999601950658, 191: 0.0997896288905971, 192: 0.14790761115425594, 193: 0.09038641582458909, 194: 0.10615661444858995, 195: 0.14178617046427608, 196: 0.0349845707164234, 197: 0.07971491338604009, 198: 0.06803873738639293, 199: 0.159069786495855, 200: 0.18620244102683847, 201: 0.05433411617728072, 202: 0.10112118976011747, 203: 0.1411168381824361, 204: 0.08789681450181336, 205: 0.10086637105850418, 206: 0.11739066805463264, 207: 0.011273739034699068, 208: 0.08278708186739611, 209: 0.11642076597819756, 210: 0.14828349964612442, 211: 0.12330108229715836, 212: 0.14786919066645732, 213: 0.08575821454238243, 214: 0.11025992267965047, 215: 0.09829261109214518, 216: 0.13354092647448385, 217: 0.03202464997025965, 218: 0.18570690134063542, 219: 0.07169383705508611, 220: 0.08646307837191343, 221: 0.07160460901407878, 222: 0.04370615327460924, 223: 0.1708484591804338, 224: 0.08970554261464996, 225: 0.1555797899451046, 226: 0.10666247755135017, 227: 0.18042845731087245, 228: 0.09485000934160744, 229: 0.12399238564349131, 230: 0.13216084570198094, 231: 0.09185148488411574, 232: 0.13758026002333906, 233: 0.09559737722130243, 234: 0.03105693344897094, 235: 0.17059221132853053, 236: 0.11363082334320197, 237: 0.07066274559278705, 238: 0.20596499706112453, 239: 0.08437095441103151, 240: 0.030327093010573333, 241: 0.07301359827392792, 242: 0.11864846151261738, 243: 0.145926313134619, 244: 0.08091015884078791, 245: 0.07085665371282046, 246: 0.05579057625937762, 247: 0.06657614163578211, 248: 0.09132872413757809, 249: 0.11142802254209666, 250: 0.15332314519786308, 251: 0.1305941207328086, 252: 0.21242118510051813, 253: 0.1073902383840992, 254: 0.0923952095582218, 255: 0.09947176993026437, 256: 0.092625826491326, 257: 0.13448952436760622, 258: 0.08068880051779324, 259: 0.10666002489523739, 260: 0.08724481206267971, 261: 0.1341183369810319, 262: 0.15225439273722713, 263: 0.07064104459720837, 264: 0.16318188062572303, 265: 0.040290621272806595, 266: 0.053983372109542425, 267: 0.04313450123212464, 268: 0.13806161201296935, 269: 0.05566635533731806, 270: 0.0378682696990657, 271: 0.000669293702901988, 272: 0.21692730361362692, 273: 0.11051747896025174, 274: 0.062174535654963003, 275: 0.0781506032002075, 276: 0.16160310845498604, 277: 0.19448710186816862, 278: 0.09393545789233418, 279: 0.11012789321202142, 280: 0.03659081473353348, 281: 0.10934352694639331, 282: 0.1299614845339337, 283: 0.06098694201262159, 284: 0.11329952173417078, 285: 0.1598524245871751, 286: 0.13388010304081277, 287: 0.02493455512500603, 288: 0.11680778021665279, 289: 0.18907357498101618, 290: 0.08130330303020471, 291: 0.09208064480770672, 292: 0.07978223222872437, 293: 0.14433549918746116, 294: 0.09444825673234927, 295: 0.08048890670192185, 296: 0.041847876053529943, 297: 0.1548580611321151, 298: 0.12439059552824351, 299: 0.06269688147193447, 300: 0.19158994156488576, 301: 0.12300885035662147, 302: 0.13803248016376782, 303: 0.01671691008448102, 304: 0.08723313482767313, 305: 0.10402549144120005, 306: 0.11727907851650693, 307: 0.10443995460704263, 308: 0.11557788957927195, 309: 0.07524089006680552, 310: 0.10296771528120668, 311: 0.09981561165904786, 312: 0.1643338336336716, 313: 0.10561133515746463, 314: 0.12255636938437443, 315: 0.05926426810985544, 316: 0.0004820632327815211, 317: 0.0430056083285882, 318: 0.0034970595351193345, 319: 0.09735733821283352, 320: 0.13462825279001345, 321: 0.10509920113444184, 322: 0.0025949517925270282, 323: 0.05909399950446492, 324: 0.04414860493077355, 325: 0.10386143789068208, 326: 0.12186428498429813, 327: 0.08916447636055146, 328: 0.07326297841747255, 329: 0.10553537002987962, 330: 0.0529734034930719, 331: 0.12472272795310119, 332: 0.016526356511726528, 333: 0.07339005822886754, 334: 0.09247903148844047, 335: 0.12292428660290361, 336: 0.12922907910993567, 337: 0.11727208192315884, 338: 0.09047945850206374, 339: 0.008654262306466307, 340: 0.09732805114059193, 341: 0.13645994953319324, 342: 0.10102602977327424, 343: 0.05225462188838184, 344: 0.18023252743214463, 345: 0.1075303597385006, 346: 0.12016312544426495, 347: 0.1334848695939747, 348: 0.04938953192451809, 349: 0.10205547695102482, 350: 0.1733259105015491, 351: 0.1357613036145784, 352: 0.09051461832976716, 353: 0.07417762529977333, 354: 0.09698074513004366, 355: 0.06919347193798561, 356: 0.032932552129531, 357: 0.052566605623989036, 358: 0.1167212491010415, 359: 0.13958206912532709, 360: 0.02414761313239283, 361: 0.04683505251048292, 362: 0.03686893440716442, 363: 0.07142409791482443, 364: 0.06488634807957644, 365: 0.1678533996070547, 366: 0.0794553266630621, 367: 0.030673277056349077, 368: 0.09474878106366508, 369: 0.015051919457684526, 370: 0.12058346877467843, 371: 0.11357090863544228, 372: 0.031944368870499076, 373: 0.1933979402843758, 374: 0.08152539663406776, 375: 0.08347944939230091, 376: 0.13708338597754896, 377: 0.1527605263652995, 378: 0.0796675098287615, 379: 0.13039385818511262, 380: 0.06208494117534925, 381: 0.1311079849988565, 382: 0.04514228124813492, 383: 0.08907496146286475, 384: 0.09111635139025262, 385: 0.1166881397168343, 386: 0.2051591651331942, 387: 0.10342094520260775, 388: 0.19870550257908093, 389: 0.12415833099972325, 390: 0.030571843231778514, 391: 0.22333734469078256, 392: 0.047078777222795326, 393: 0.05000354026502826, 394: 0.03026977839695852, 395: 0.14253327560839538, 396: 0.07766615954719458, 397: 0.1109327866431328, 398: 0.06657627642046403, 399: 0.10960281010729225, 400: 0.14904880768453926, 401: 0.04447236799735097, 402: 0.12101587393382619, 403: 0.20240947073860613, 404: 0.1473245286178746, 405: 0.15569199216125873, 406: 0.2549328306578728, 407: 0.14096731778254049, 408: 0.14345265107742305, 409: 0.1648612939493513, 410: 0.11513895639952654, 411: 0.08055613350474683, 412: 0.12384266784995199, 413: 0.02802008264490284, 414: 0.17360529960063648, 415: 0.04193598863907927, 416: 0.18781108259148888, 417: 0.1155453045748601, 418: 0.07629930611582929, 419: 0.1108435387020201, 420: 0.10797402367082184, 421: 0.09614804828008532, 422: 0.05384938393906799, 423: 0.14727497453835559, 424: 0.09975208750905078, 425: 0.009152955652533892, 426: 0.12042171535739497, 427: 0.15320562658199594, 428: 0.09696923205368069, 429: 0.09262589311070182, 430: 0.09713512287939587, 431: 0.07873650988545078, 432: 0.15050337379928244, 433: 0.037852123331278235, 434: 0.11024142356799721, 435: 0.12838411417862072, 436: 0.15336871929329537, 437: 0.03070483582487475, 438: 0.12976932397017887, 439: 0.0054102590477724255, 440: 0.09380168207600512, 441: 0.11216565878683193, 442: 0.08888955704172188, 443: 0.08423018431151166, 444: 0.0661857440604598, 445: 0.11506600391015719, 446: 0.18707065699352643, 447: 0.03780395003747053, 448: 0.14365256883763822, 449: 0.15382447327912943, 450: 0.03766942607257295, 451: 0.08209089578178323, 452: 0.07233446328011618, 453: 0.14729906212840554, 454: 0.10820863705719007, 455: 0.16405548840882872, 456: 0.029595058884137812, 457: 0.17794675107445934, 458: 0.006181799096110302, 459: 0.029350183905495736, 460: 0.052356133970825995, 461: 0.03510426243150158, 462: 0.01860939319684579, 463: 0.11374043062209666, 464: 0.11626271995615942, 465: 0.09113199608313755, 466: 0.10457554397518426, 467: 0.12542900011462166, 468: 0.10715831452030693, 469: 0.10139577564575002, 470: 0.22702666448149733, 471: 0.11672232925715259, 472: 0.061200414331021843, 473: 0.0692978038447196, 474: 0.037200721492057456, 475: 0.10858534875992205, 476: 0.09656439516824938, 477: 0.08633421780757258, 478: 0.06785562965634268, 479: 0.0916515882629744, 480: 0.12270877332532339, 481: 0.08395522691355281, 482: 0.15179188746035943, 483: 0.09731449159843998, 484: 0.10039821676821059, 485: 0.08244244875984011, 486: 0.05311375983102821, 487: 0.17579602656287263, 488: 0.0928531095293964, 489: 0.10046106378228233, 490: 0.04355872354366043, 491: 0.10065307319690624, 492: 0.05679238715516043, 493: 0.11343149160033633, 494: 0.02549816741423032, 495: 0.12475797453724694, 496: 0.08716708832570202, 497: 0.018227254593356862, 498: 0.08423196224102969, 499: 0.047980164113593786}\n",
            "Behavior Degree Sequence:  [7, 10, 4, 6, 3, 3, 14, 5, 3, 3, 3, 3, 3, 3, 6, 12, 3, 3, 3, 4, 4, 4, 3, 4, 7, 4, 3, 9, 3, 4, 3, 4, 3, 3, 12, 9, 3, 3, 4, 5, 12, 4, 5, 5, 5, 3, 3, 5, 3, 3, 3, 8, 3, 3, 3, 3, 3, 5, 3, 4, 5, 3, 6, 10, 3, 3, 3, 5, 4, 3, 3, 3, 3, 6, 3, 22, 9, 3, 3, 4, 4, 3, 3, 3, 3, 5, 3, 3, 3, 3, 3, 3, 11, 3, 4, 3, 3, 3, 4, 3, 4, 3, 3, 4, 5, 5, 3, 3, 3, 3, 3, 3, 3, 3, 3, 3, 3, 3, 3, 3, 3, 3, 3, 3, 3, 3, 3, 3, 3, 3, 3, 3, 3, 3, 3, 3, 3, 3, 3, 3, 3, 3, 3, 3, 3, 3, 3, 3, 3, 3, 3, 3, 3, 3, 3, 3, 3, 3, 3, 3, 3, 3, 3, 3, 3, 3, 3, 3, 3, 3, 3, 3, 3, 3, 3, 3, 3, 3, 3, 3, 3, 3, 3, 3, 3, 3, 3, 3, 3, 3, 3, 3, 3, 3, 3, 3, 3, 3, 3, 3, 3, 3, 3, 3, 3, 3, 3, 3, 3, 3, 3, 3, 3, 3, 3, 3, 3, 3, 3, 3, 3, 3, 3, 3, 3, 3, 3, 3, 3, 3, 3, 3, 3, 3, 3, 3, 3, 3, 3, 3, 3, 3, 3, 3, 3, 3, 3, 3, 3, 3, 3, 3, 3, 3, 3, 3, 3, 3, 3, 3, 3, 3, 3, 3, 3, 3, 3, 3, 3, 3, 3, 3, 3, 3, 3, 3, 3, 3, 3, 3, 3, 3, 3, 3, 3, 3, 3, 3, 3, 3, 3, 3, 3, 3, 3, 3, 3, 3, 3, 3, 3, 3, 3, 3, 3, 3, 3, 3, 3, 3, 3, 3, 3, 3, 3, 3, 3, 3, 3, 3, 3, 3, 3, 3, 3, 3, 3, 3, 3, 3, 3, 3, 3, 3, 3, 3, 3, 3, 3, 3, 3, 3, 3, 3, 3, 3, 3, 3, 3, 3, 3, 3, 3, 3, 3, 3, 3, 3, 3, 3, 3, 3, 3, 3, 3, 3, 3, 3, 3, 3, 3, 3, 3, 3, 3, 3, 3, 3, 3, 3, 3, 3, 3, 3, 3, 3, 3, 3, 3, 3, 3, 3, 3, 3, 3, 3, 3, 3, 3, 3, 3, 3, 3, 3, 3, 3, 3, 3, 3, 3, 3, 3, 3, 3, 3, 3, 3, 3, 3, 3, 3, 3, 3, 3, 3, 3, 3, 3, 3, 3, 3, 3, 3, 3, 3, 3, 3, 3, 3, 3, 3, 3, 3, 3, 3, 3, 3, 3, 3, 3, 3, 3, 3, 3, 3, 3, 3, 3, 3, 3, 3, 3, 3, 3, 3, 3, 3, 3, 3, 3, 3, 3, 3, 3, 3, 3, 3, 3, 3, 3, 3, 3, 3, 3, 3, 3, 3, 3, 3, 3, 3, 3, 3, 3, 3, 3, 3, 3, 3, 3]\n",
            "Degree Sequence:  [3, 8, 3, 3, 3, 4, 3, 7, 3, 6, 3, 4, 8, 3, 3, 3, 3, 3, 3, 8, 3, 3, 4, 4, 3, 3, 4, 4, 5, 4, 3, 3, 3, 3, 3, 3, 4, 3, 3, 5, 3, 8, 3, 3, 3, 3, 3, 3, 3, 3, 6, 6, 5, 3, 3, 3, 3, 3, 3, 4, 3, 3, 3, 3, 5, 4, 3, 3, 3, 4, 8, 3, 10, 3, 3, 3, 3, 3, 3, 3, 3, 3, 3, 3, 3, 3, 3, 3, 3, 3, 3, 3, 3, 3, 3, 3, 3, 3, 3, 3, 3, 3, 3, 3, 3, 3, 3, 3, 3, 3, 3, 3, 3, 3, 3, 3, 3, 3, 3, 3, 3, 3, 3, 3, 3, 3, 3, 3, 3, 3, 3, 3, 3, 3, 3, 3, 3, 3, 3, 3, 3, 3, 3, 3, 3, 3, 3, 3, 3, 3, 3, 3, 3, 3, 3, 3, 3, 3, 3, 3, 3, 3, 3, 3, 3, 3, 3, 3, 3, 3, 3, 3, 3, 3, 3, 3, 3, 3, 3, 3, 3, 3, 3, 3, 3, 3, 3, 3, 3, 3, 3, 3, 3, 3, 3, 3, 3, 3, 3, 3, 3, 3, 3, 3, 3, 3, 3, 3, 3, 3, 3, 3, 3, 3, 3, 3, 3, 3, 3, 3, 3, 3, 3, 3, 3, 3, 3, 3, 3, 3, 3, 3, 3, 3, 3, 3, 3, 3, 3, 3, 3, 3, 3, 3, 3, 3, 3, 3, 3, 3, 3, 3, 3, 3, 3, 3, 3, 3, 3, 3, 3, 3, 3, 3, 3, 3, 3, 3, 3, 3, 3, 3, 3, 3, 3, 3, 3, 3, 3, 3, 3, 3, 3, 3, 3, 3, 3, 3, 3, 3, 3, 3, 3, 3, 3, 3, 3, 3, 3, 3, 3, 3, 3, 3, 3, 3, 3, 3, 3, 3, 3, 3, 3, 3, 3, 3, 3, 3, 3, 3, 3, 3, 3, 3, 3, 3, 3, 3, 3, 3, 3, 3, 3, 3, 3, 3, 3, 3, 3, 3, 3, 3, 3, 3, 3, 3, 3, 3, 3, 3, 3, 3, 3, 3, 3, 3, 3, 3, 3, 3, 3, 3, 3, 3, 3, 3, 3, 3, 3, 3, 3, 3, 3, 3, 3, 3, 3, 3, 3, 3, 3, 3, 3, 3, 3, 3, 3, 3, 3, 3, 3, 3, 3, 3, 3, 3, 3, 3, 3, 3, 3, 3, 3, 3, 3, 3, 3, 3, 3, 3, 3, 3, 3, 3, 3, 3, 3, 3, 3, 3, 3, 3, 3, 3, 3, 3, 3, 3, 3, 3, 3, 3, 3, 3, 3, 3, 3, 3, 3, 3, 3, 3, 3, 3, 3, 3, 3, 3, 3, 3, 3, 3, 3, 3, 3, 3, 3, 3, 3, 3, 3, 3, 3, 3, 3, 3, 3, 3, 3, 3, 3, 3, 3, 3, 3, 3, 3, 3, 3, 3, 3, 3, 3, 3, 3, 3, 3, 3, 3, 3, 3, 3, 3, 3, 3, 3, 3, 3, 3, 3]\n"
          ]
        }
      ]
    },
    {
      "cell_type": "code",
      "source": [
        "# Parameters\n",
        "R0 = 2.0\n",
        "\n",
        "lam = 0.2\n",
        "alp = 0.1\n",
        "zeta_1 = 0.3 #go to not protect by information\n",
        "zeta_3 = 0.0 #go to not protect by neighborhood behavior\n",
        "zeta_4 = 0.0 #go to protect by neighborhood behavior\n",
        "mu = 0.2\n",
        "beta_NN = R0 * mu / 4.5\n",
        "beta_PN = beta_NN * 0.8\n",
        "beta_NP = beta_NN * 0.6\n",
        "beta_PP = beta_NN * 0.4\n",
        "n_sample = 1\n",
        "zeta_2_range = np.arange(0.3, 0.35, 0.05)  # lambda values from 0.0 to 5.0 with step size 0.25\n",
        "\n",
        "# Initialize data frame to store the results\n",
        "result_df = pd.DataFrame()\n",
        "result_df2 = pd.DataFrame()\n",
        "\n",
        "# Define the number of iterations\n",
        "n_iterations = 200\n",
        "\n",
        "# Loop over lambda values\n",
        "for zeta_2 in zeta_2_range:\n",
        "    for i in range(1, n_iterations + 1):\n",
        "        time_record, adopting_count = ICE_model_no_control(inw, ldeg_i, ltre, cnw, ldeg_c, lprot, enw, ldeg_e, lam, alp, zeta_1, zeta_2, zeta_3, zeta_4, beta_PP, beta_NP, beta_PN, beta_NN, mu, n_sample)\n",
        "\n",
        "        # Store the results\n",
        "        iteration_dict = {\n",
        "            f'time_record_{i}': time_record,\n",
        "            f'adopting_count_{i}': adopting_count\n",
        "        }\n",
        "\n",
        "        # Append the results\n",
        "        result_df = pd.concat([result_df, pd.DataFrame(iteration_dict)], axis=1)\n",
        "\n",
        "    # Save to a csv file for each lambda value\n",
        "    result_df = np.transpose(result_df)\n",
        "    filename = f\"/content/drive/My Drive/Network_Tests/Speed_of_adoption/all_initial_protected_adopting_protection_zeta_4_0_zeta_2_{zeta_2:.2f}.csv\"\n",
        "    result_df.to_csv(filename, index=False)\n",
        "\n",
        "    # Clear result_df for the next iteration\n",
        "    result_df = pd.DataFrame()"
      ],
      "metadata": {
        "id": "WVkDJPuEOXO-"
      },
      "execution_count": null,
      "outputs": []
    }
  ],
  "metadata": {
    "colab": {
      "provenance": [],
      "include_colab_link": true
    },
    "kernelspec": {
      "display_name": "Python 3",
      "name": "python3"
    },
    "language_info": {
      "name": "python"
    }
  },
  "nbformat": 4,
  "nbformat_minor": 0
}